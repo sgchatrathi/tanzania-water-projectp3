{
 "cells": [
  {
   "cell_type": "markdown",
   "id": "a4da1a4a",
   "metadata": {},
   "source": [
    "# Brian's EDA - Origin Data"
   ]
  },
  {
   "cell_type": "markdown",
   "id": "a2fe5629",
   "metadata": {},
   "source": [
    "Working on determining whether or not water pumps in Tanzania are functional, functional but in need of maintenance or non-functional.\n",
    "\n",
    "I thought it may be prudent to bring in soil data, as some soils would cause increased rates of deterioration of piping and other pump mechanisms. This likely correlates to the 'quality' parameter of our original data set, which is a non-parametric classification of water hardness.\n",
    "\n"
   ]
  },
  {
   "cell_type": "code",
   "execution_count": 1,
   "id": "1fc274fd",
   "metadata": {},
   "outputs": [],
   "source": [
    "import numpy as np\n",
    "import pandas as pd"
   ]
  },
  {
   "cell_type": "code",
   "execution_count": 2,
   "id": "285d6b44",
   "metadata": {
    "scrolled": true
   },
   "outputs": [],
   "source": [
    "# Pull SpatialJoin data into notebook\n",
    "\n",
    "xls = pd.ExcelFile(\"./00_Source_Data/Data/X_Train_SpatialJoin.xls\")\n",
    "X = xls.parse(0)"
   ]
  },
  {
   "cell_type": "code",
   "execution_count": 3,
   "id": "6e921c5b",
   "metadata": {
    "scrolled": false
   },
   "outputs": [
    {
     "data": {
      "text/plain": [
       "Index(['OBJECTID', 'Join_Count', 'TARGET_FID', 'JOIN_FID', 'X_train_csv_id',\n",
       "       'X_train_csv_amount_tsh', 'X_train_csv_date_recorded',\n",
       "       'X_train_csv_funder', 'X_train_csv_gps_height', 'X_train_csv_installer',\n",
       "       'X_train_csv_longitude', 'X_train_csv_latitude', 'X_train_csv_wpt_name',\n",
       "       'X_train_csv_num_private', 'X_train_csv_basin',\n",
       "       'X_train_csv_subvillage', 'X_train_csv_region',\n",
       "       'X_train_csv_region_code', 'X_train_csv_district_code',\n",
       "       'X_train_csv_lga', 'X_train_csv_ward', 'X_train_csv_population',\n",
       "       'X_train_csv_public_meeting', 'X_train_csv_recorded_by',\n",
       "       'X_train_csv_scheme_management', 'X_train_csv_scheme_name',\n",
       "       'X_train_csv_permit', 'X_train_csv_construction_year',\n",
       "       'X_train_csv_extraction_type', 'X_train_csv_extraction_type_group',\n",
       "       'X_train_csv_extraction_type_class', 'X_train_csv_management',\n",
       "       'X_train_csv_management_group', 'X_train_csv_payment',\n",
       "       'X_train_csv_payment_type', 'X_train_csv_water_quality',\n",
       "       'X_train_csv_quality_group', 'X_train_csv_quantity',\n",
       "       'X_train_csv_quantity_group', 'X_train_csv_source',\n",
       "       'X_train_csv_source_type', 'X_train_csv_source_class',\n",
       "       'X_train_csv_waterpoint_type', 'X_train_csv_waterpoint_type_group',\n",
       "       'y_train_csv_id', 'y_train_csv_status_group', 'LANDFORM', 'LITHOLOGY',\n",
       "       'SOILS', 'WRB', 'DOMSOILS', 'CODE_WRB'],\n",
       "      dtype='object')"
      ]
     },
     "execution_count": 3,
     "metadata": {},
     "output_type": "execute_result"
    }
   ],
   "source": [
    "X.columns"
   ]
  },
  {
   "cell_type": "markdown",
   "id": "874e9357",
   "metadata": {},
   "source": [
    "### Initial Data Cleaning\n",
    "\n",
    "- reformat column names\n",
    "- remove 'junk columns'"
   ]
  },
  {
   "cell_type": "code",
   "execution_count": 4,
   "id": "7046e58a",
   "metadata": {},
   "outputs": [],
   "source": [
    "# Define a list of junk columns\n",
    "junk_cols = ['OBJECTID', 'Join_Count', 'TARGET_FID', 'JOIN_FID', 'y_train_csv_id']\n",
    "\n",
    "# Drop junk columns\n",
    "X.drop(columns = junk_cols, inplace=True);"
   ]
  },
  {
   "cell_type": "code",
   "execution_count": 5,
   "id": "fa31f6cc",
   "metadata": {},
   "outputs": [],
   "source": [
    "# Set lists of new and old names for columns.\n",
    "old_names = ['X_train_csv_id', \n",
    "             'X_train_csv_amount_tsh', 'X_train_csv_date_recorded', \n",
    "             'X_train_csv_funder', 'X_train_csv_gps_height', 'X_train_csv_installer', \n",
    "             'X_train_csv_longitude', 'X_train_csv_latitude', 'X_train_csv_wpt_name', \n",
    "             'X_train_csv_num_private', 'X_train_csv_basin', \n",
    "             'X_train_csv_subvillage', 'X_train_csv_region', \n",
    "             'X_train_csv_region_code', 'X_train_csv_district_code', \n",
    "             'X_train_csv_lga', 'X_train_csv_ward', 'X_train_csv_population', \n",
    "             'X_train_csv_public_meeting', 'X_train_csv_recorded_by', \n",
    "             'X_train_csv_scheme_management', 'X_train_csv_scheme_name', \n",
    "             'X_train_csv_permit', 'X_train_csv_construction_year', \n",
    "             'X_train_csv_extraction_type', 'X_train_csv_extraction_type_group', \n",
    "             'X_train_csv_extraction_type_class', 'X_train_csv_management', \n",
    "             'X_train_csv_management_group', 'X_train_csv_payment', \n",
    "             'X_train_csv_payment_type', 'X_train_csv_water_quality', \n",
    "             'X_train_csv_quality_group', 'X_train_csv_quantity', \n",
    "             'X_train_csv_quantity_group', 'X_train_csv_source', \n",
    "             'X_train_csv_source_type', 'X_train_csv_source_class', \n",
    "             'X_train_csv_waterpoint_type', 'X_train_csv_waterpoint_type_group', \n",
    "             'y_train_csv_status_group', 'LANDFORM', 'LITHOLOGY', \n",
    "             'SOILS', 'WRB', 'DOMSOILS', 'CODE_WRB']\n",
    "\n",
    "new_names = ['id', 'amount_tsh', 'date_recorded', 'funder', 'gps_height', \n",
    "             'installer', 'longitude', 'latitude', 'wpt_name', 'num_private', \n",
    "             'basin', 'subvillage', 'region', 'region_code', 'district_code', 'lga', \n",
    "             'ward', 'population', 'public_meeting', 'recorded_by', \n",
    "             'scheme_management', 'scheme_name', 'permit', 'construction_year', \n",
    "             'extraction_type', 'extraction_type_group', 'extraction_type_class', \n",
    "             'management', 'management_group', 'payment', 'payment_type', \n",
    "             'water_quality', 'quality_group', 'quantity', 'quantity_group', \n",
    "             'source', 'source_type', 'source_class', 'waterpoint_type', \n",
    "             'waterpoint_type_group', 'target', 'landform', 'lithology', 'soils', \n",
    "             'wrb', 'dominant_soil', 'code_wrb']\n",
    "\n",
    "# Rename columns using the newly created lists.\n",
    "X.rename(columns=dict(zip(old_names, new_names)), inplace=True)"
   ]
  },
  {
   "cell_type": "code",
   "execution_count": 6,
   "id": "0e8d1cd1",
   "metadata": {},
   "outputs": [
    {
     "data": {
      "text/html": [
       "<div>\n",
       "<style scoped>\n",
       "    .dataframe tbody tr th:only-of-type {\n",
       "        vertical-align: middle;\n",
       "    }\n",
       "\n",
       "    .dataframe tbody tr th {\n",
       "        vertical-align: top;\n",
       "    }\n",
       "\n",
       "    .dataframe thead th {\n",
       "        text-align: right;\n",
       "    }\n",
       "</style>\n",
       "<table border=\"1\" class=\"dataframe\">\n",
       "  <thead>\n",
       "    <tr style=\"text-align: right;\">\n",
       "      <th></th>\n",
       "      <th>id</th>\n",
       "      <th>amount_tsh</th>\n",
       "      <th>date_recorded</th>\n",
       "      <th>funder</th>\n",
       "      <th>gps_height</th>\n",
       "      <th>installer</th>\n",
       "      <th>longitude</th>\n",
       "      <th>latitude</th>\n",
       "      <th>wpt_name</th>\n",
       "      <th>num_private</th>\n",
       "      <th>...</th>\n",
       "      <th>source_class</th>\n",
       "      <th>waterpoint_type</th>\n",
       "      <th>waterpoint_type_group</th>\n",
       "      <th>target</th>\n",
       "      <th>landform</th>\n",
       "      <th>lithology</th>\n",
       "      <th>soils</th>\n",
       "      <th>wrb</th>\n",
       "      <th>dominant_soil</th>\n",
       "      <th>code_wrb</th>\n",
       "    </tr>\n",
       "  </thead>\n",
       "  <tbody>\n",
       "    <tr>\n",
       "      <th>0</th>\n",
       "      <td>69572</td>\n",
       "      <td>6000.0</td>\n",
       "      <td>2011-03-14</td>\n",
       "      <td>Roman</td>\n",
       "      <td>1390</td>\n",
       "      <td>Roman</td>\n",
       "      <td>34.938093</td>\n",
       "      <td>-9.856322</td>\n",
       "      <td>none</td>\n",
       "      <td>0</td>\n",
       "      <td>...</td>\n",
       "      <td>groundwater</td>\n",
       "      <td>communal standpipe</td>\n",
       "      <td>communal standpipe</td>\n",
       "      <td>functional</td>\n",
       "      <td>TM</td>\n",
       "      <td>MA2</td>\n",
       "      <td>LPe</td>\n",
       "      <td>Eutric Leptosols</td>\n",
       "      <td>LP</td>\n",
       "      <td>LP-eu</td>\n",
       "    </tr>\n",
       "    <tr>\n",
       "      <th>1</th>\n",
       "      <td>8776</td>\n",
       "      <td>0.0</td>\n",
       "      <td>2013-03-06</td>\n",
       "      <td>Grumeti</td>\n",
       "      <td>1399</td>\n",
       "      <td>GRUMETI</td>\n",
       "      <td>34.698766</td>\n",
       "      <td>-2.147466</td>\n",
       "      <td>Zahanati</td>\n",
       "      <td>0</td>\n",
       "      <td>...</td>\n",
       "      <td>surface</td>\n",
       "      <td>communal standpipe</td>\n",
       "      <td>communal standpipe</td>\n",
       "      <td>functional</td>\n",
       "      <td>LP</td>\n",
       "      <td>UP</td>\n",
       "      <td>PHl</td>\n",
       "      <td>Chromi-Luvic Phaeozems</td>\n",
       "      <td>PH</td>\n",
       "      <td>PH-lv-cr</td>\n",
       "    </tr>\n",
       "    <tr>\n",
       "      <th>2</th>\n",
       "      <td>34310</td>\n",
       "      <td>25.0</td>\n",
       "      <td>2013-02-25</td>\n",
       "      <td>Lottery Club</td>\n",
       "      <td>686</td>\n",
       "      <td>World vision</td>\n",
       "      <td>37.460664</td>\n",
       "      <td>-3.821329</td>\n",
       "      <td>Kwa Mahundi</td>\n",
       "      <td>0</td>\n",
       "      <td>...</td>\n",
       "      <td>surface</td>\n",
       "      <td>communal standpipe multiple</td>\n",
       "      <td>communal standpipe</td>\n",
       "      <td>functional</td>\n",
       "      <td>LP</td>\n",
       "      <td>MA2</td>\n",
       "      <td>LVx</td>\n",
       "      <td>Humi-Rhodic Luvisols</td>\n",
       "      <td>LV</td>\n",
       "      <td>LV-ro-hu</td>\n",
       "    </tr>\n",
       "    <tr>\n",
       "      <th>3</th>\n",
       "      <td>67743</td>\n",
       "      <td>0.0</td>\n",
       "      <td>2013-01-28</td>\n",
       "      <td>Unicef</td>\n",
       "      <td>263</td>\n",
       "      <td>UNICEF</td>\n",
       "      <td>38.486161</td>\n",
       "      <td>-11.155298</td>\n",
       "      <td>Zahanati Ya Nanyumbu</td>\n",
       "      <td>0</td>\n",
       "      <td>...</td>\n",
       "      <td>groundwater</td>\n",
       "      <td>communal standpipe multiple</td>\n",
       "      <td>communal standpipe</td>\n",
       "      <td>non functional</td>\n",
       "      <td>LP</td>\n",
       "      <td>MA2</td>\n",
       "      <td>CMo</td>\n",
       "      <td>Ferralic Cambisols</td>\n",
       "      <td>CM</td>\n",
       "      <td>CM-fl</td>\n",
       "    </tr>\n",
       "    <tr>\n",
       "      <th>4</th>\n",
       "      <td>19728</td>\n",
       "      <td>0.0</td>\n",
       "      <td>2011-07-13</td>\n",
       "      <td>Action In A</td>\n",
       "      <td>0</td>\n",
       "      <td>Artisan</td>\n",
       "      <td>31.130847</td>\n",
       "      <td>-1.825359</td>\n",
       "      <td>Shuleni</td>\n",
       "      <td>0</td>\n",
       "      <td>...</td>\n",
       "      <td>surface</td>\n",
       "      <td>communal standpipe</td>\n",
       "      <td>communal standpipe</td>\n",
       "      <td>functional</td>\n",
       "      <td>SH</td>\n",
       "      <td>MA3</td>\n",
       "      <td>LPu</td>\n",
       "      <td>Humi-Umbric Leptosols</td>\n",
       "      <td>LP</td>\n",
       "      <td>LP-um-hu</td>\n",
       "    </tr>\n",
       "    <tr>\n",
       "      <th>...</th>\n",
       "      <td>...</td>\n",
       "      <td>...</td>\n",
       "      <td>...</td>\n",
       "      <td>...</td>\n",
       "      <td>...</td>\n",
       "      <td>...</td>\n",
       "      <td>...</td>\n",
       "      <td>...</td>\n",
       "      <td>...</td>\n",
       "      <td>...</td>\n",
       "      <td>...</td>\n",
       "      <td>...</td>\n",
       "      <td>...</td>\n",
       "      <td>...</td>\n",
       "      <td>...</td>\n",
       "      <td>...</td>\n",
       "      <td>...</td>\n",
       "      <td>...</td>\n",
       "      <td>...</td>\n",
       "      <td>...</td>\n",
       "      <td>...</td>\n",
       "    </tr>\n",
       "    <tr>\n",
       "      <th>57583</th>\n",
       "      <td>60739</td>\n",
       "      <td>10.0</td>\n",
       "      <td>2013-05-03</td>\n",
       "      <td>Germany Republi</td>\n",
       "      <td>1210</td>\n",
       "      <td>CES</td>\n",
       "      <td>37.169807</td>\n",
       "      <td>-3.253847</td>\n",
       "      <td>Area Three Namba 27</td>\n",
       "      <td>0</td>\n",
       "      <td>...</td>\n",
       "      <td>groundwater</td>\n",
       "      <td>communal standpipe</td>\n",
       "      <td>communal standpipe</td>\n",
       "      <td>functional</td>\n",
       "      <td>SH</td>\n",
       "      <td>UP</td>\n",
       "      <td>NTh</td>\n",
       "      <td>Eutric Nitisols</td>\n",
       "      <td>NT</td>\n",
       "      <td>NT-eu</td>\n",
       "    </tr>\n",
       "    <tr>\n",
       "      <th>57584</th>\n",
       "      <td>27263</td>\n",
       "      <td>4700.0</td>\n",
       "      <td>2011-05-07</td>\n",
       "      <td>Cefa-njombe</td>\n",
       "      <td>1212</td>\n",
       "      <td>Cefa</td>\n",
       "      <td>35.249991</td>\n",
       "      <td>-9.070629</td>\n",
       "      <td>Kwa Yahona Kuvala</td>\n",
       "      <td>0</td>\n",
       "      <td>...</td>\n",
       "      <td>surface</td>\n",
       "      <td>communal standpipe</td>\n",
       "      <td>communal standpipe</td>\n",
       "      <td>functional</td>\n",
       "      <td>SH</td>\n",
       "      <td>MA2</td>\n",
       "      <td>ACh</td>\n",
       "      <td>Rhodic Acrisols</td>\n",
       "      <td>AC</td>\n",
       "      <td>AC-ro</td>\n",
       "    </tr>\n",
       "    <tr>\n",
       "      <th>57585</th>\n",
       "      <td>37057</td>\n",
       "      <td>0.0</td>\n",
       "      <td>2011-04-11</td>\n",
       "      <td>NaN</td>\n",
       "      <td>0</td>\n",
       "      <td>NaN</td>\n",
       "      <td>34.017087</td>\n",
       "      <td>-8.750434</td>\n",
       "      <td>Mashine</td>\n",
       "      <td>0</td>\n",
       "      <td>...</td>\n",
       "      <td>groundwater</td>\n",
       "      <td>hand pump</td>\n",
       "      <td>hand pump</td>\n",
       "      <td>functional</td>\n",
       "      <td>LP</td>\n",
       "      <td>UF</td>\n",
       "      <td>LPe</td>\n",
       "      <td>Eutric Leptosols</td>\n",
       "      <td>LP</td>\n",
       "      <td>LP-eu</td>\n",
       "    </tr>\n",
       "    <tr>\n",
       "      <th>57586</th>\n",
       "      <td>31282</td>\n",
       "      <td>0.0</td>\n",
       "      <td>2011-03-08</td>\n",
       "      <td>Malec</td>\n",
       "      <td>0</td>\n",
       "      <td>Musa</td>\n",
       "      <td>35.861315</td>\n",
       "      <td>-6.378573</td>\n",
       "      <td>Mshoro</td>\n",
       "      <td>0</td>\n",
       "      <td>...</td>\n",
       "      <td>groundwater</td>\n",
       "      <td>hand pump</td>\n",
       "      <td>hand pump</td>\n",
       "      <td>functional</td>\n",
       "      <td>SH</td>\n",
       "      <td>IA1</td>\n",
       "      <td>CMo</td>\n",
       "      <td>Chromi-Ferralic Cambisols</td>\n",
       "      <td>CM</td>\n",
       "      <td>CM-fl-cr</td>\n",
       "    </tr>\n",
       "    <tr>\n",
       "      <th>57587</th>\n",
       "      <td>26348</td>\n",
       "      <td>0.0</td>\n",
       "      <td>2011-03-23</td>\n",
       "      <td>World Bank</td>\n",
       "      <td>191</td>\n",
       "      <td>World</td>\n",
       "      <td>38.104048</td>\n",
       "      <td>-6.747464</td>\n",
       "      <td>Kwa Mzee Lugawa</td>\n",
       "      <td>0</td>\n",
       "      <td>...</td>\n",
       "      <td>groundwater</td>\n",
       "      <td>hand pump</td>\n",
       "      <td>hand pump</td>\n",
       "      <td>functional</td>\n",
       "      <td>LP</td>\n",
       "      <td>MA2</td>\n",
       "      <td>FRr</td>\n",
       "      <td>Rhodic Ferralsols</td>\n",
       "      <td>FR</td>\n",
       "      <td>FR-ro</td>\n",
       "    </tr>\n",
       "  </tbody>\n",
       "</table>\n",
       "<p>57588 rows × 47 columns</p>\n",
       "</div>"
      ],
      "text/plain": [
       "          id  amount_tsh date_recorded           funder  gps_height  \\\n",
       "0      69572      6000.0    2011-03-14            Roman        1390   \n",
       "1       8776         0.0    2013-03-06          Grumeti        1399   \n",
       "2      34310        25.0    2013-02-25     Lottery Club         686   \n",
       "3      67743         0.0    2013-01-28           Unicef         263   \n",
       "4      19728         0.0    2011-07-13      Action In A           0   \n",
       "...      ...         ...           ...              ...         ...   \n",
       "57583  60739        10.0    2013-05-03  Germany Republi        1210   \n",
       "57584  27263      4700.0    2011-05-07      Cefa-njombe        1212   \n",
       "57585  37057         0.0    2011-04-11              NaN           0   \n",
       "57586  31282         0.0    2011-03-08            Malec           0   \n",
       "57587  26348         0.0    2011-03-23       World Bank         191   \n",
       "\n",
       "          installer  longitude   latitude              wpt_name  num_private  \\\n",
       "0             Roman  34.938093  -9.856322                  none            0   \n",
       "1           GRUMETI  34.698766  -2.147466              Zahanati            0   \n",
       "2      World vision  37.460664  -3.821329           Kwa Mahundi            0   \n",
       "3            UNICEF  38.486161 -11.155298  Zahanati Ya Nanyumbu            0   \n",
       "4           Artisan  31.130847  -1.825359               Shuleni            0   \n",
       "...             ...        ...        ...                   ...          ...   \n",
       "57583           CES  37.169807  -3.253847   Area Three Namba 27            0   \n",
       "57584          Cefa  35.249991  -9.070629     Kwa Yahona Kuvala            0   \n",
       "57585           NaN  34.017087  -8.750434               Mashine            0   \n",
       "57586          Musa  35.861315  -6.378573                Mshoro            0   \n",
       "57587         World  38.104048  -6.747464       Kwa Mzee Lugawa            0   \n",
       "\n",
       "       ... source_class              waterpoint_type waterpoint_type_group  \\\n",
       "0      ...  groundwater           communal standpipe    communal standpipe   \n",
       "1      ...      surface           communal standpipe    communal standpipe   \n",
       "2      ...      surface  communal standpipe multiple    communal standpipe   \n",
       "3      ...  groundwater  communal standpipe multiple    communal standpipe   \n",
       "4      ...      surface           communal standpipe    communal standpipe   \n",
       "...    ...          ...                          ...                   ...   \n",
       "57583  ...  groundwater           communal standpipe    communal standpipe   \n",
       "57584  ...      surface           communal standpipe    communal standpipe   \n",
       "57585  ...  groundwater                    hand pump             hand pump   \n",
       "57586  ...  groundwater                    hand pump             hand pump   \n",
       "57587  ...  groundwater                    hand pump             hand pump   \n",
       "\n",
       "               target  landform lithology soils                        wrb  \\\n",
       "0          functional        TM       MA2   LPe           Eutric Leptosols   \n",
       "1          functional        LP        UP   PHl     Chromi-Luvic Phaeozems   \n",
       "2          functional        LP       MA2   LVx       Humi-Rhodic Luvisols   \n",
       "3      non functional        LP       MA2   CMo         Ferralic Cambisols   \n",
       "4          functional        SH       MA3   LPu      Humi-Umbric Leptosols   \n",
       "...               ...       ...       ...   ...                        ...   \n",
       "57583      functional        SH        UP   NTh            Eutric Nitisols   \n",
       "57584      functional        SH       MA2   ACh            Rhodic Acrisols   \n",
       "57585      functional        LP        UF   LPe           Eutric Leptosols   \n",
       "57586      functional        SH       IA1   CMo  Chromi-Ferralic Cambisols   \n",
       "57587      functional        LP       MA2   FRr          Rhodic Ferralsols   \n",
       "\n",
       "      dominant_soil  code_wrb  \n",
       "0                LP     LP-eu  \n",
       "1                PH  PH-lv-cr  \n",
       "2                LV  LV-ro-hu  \n",
       "3                CM     CM-fl  \n",
       "4                LP  LP-um-hu  \n",
       "...             ...       ...  \n",
       "57583            NT     NT-eu  \n",
       "57584            AC     AC-ro  \n",
       "57585            LP     LP-eu  \n",
       "57586            CM  CM-fl-cr  \n",
       "57587            FR     FR-ro  \n",
       "\n",
       "[57588 rows x 47 columns]"
      ]
     },
     "execution_count": 6,
     "metadata": {},
     "output_type": "execute_result"
    }
   ],
   "source": [
    "X"
   ]
  },
  {
   "cell_type": "markdown",
   "id": "96e44808",
   "metadata": {},
   "source": [
    "## Interested Columns and Descriptions"
   ]
  },
  {
   "cell_type": "markdown",
   "id": "5e865bad",
   "metadata": {},
   "source": [
    "### Water Quality\n",
    "\n",
    "Water quality is non-parametric and describes the condition of the water.\n",
    "\n",
    "This attribute is also summarized in the `quality_group` column.\n",
    "\n",
    "The quality of the water may be an important factor in determining the longevity of the pump."
   ]
  },
  {
   "cell_type": "code",
   "execution_count": 7,
   "id": "3971fb63",
   "metadata": {
    "scrolled": false
   },
   "outputs": [
    {
     "data": {
      "text/plain": [
       "soft                  49431\n",
       "salty                  4772\n",
       "unknown                1661\n",
       "milky                   803\n",
       "coloured                479\n",
       "salty abandoned         228\n",
       "fluoride                199\n",
       "fluoride abandoned       15\n",
       "Name: water_quality, dtype: int64"
      ]
     },
     "execution_count": 7,
     "metadata": {},
     "output_type": "execute_result"
    }
   ],
   "source": [
    "X.water_quality.value_counts()"
   ]
  },
  {
   "cell_type": "code",
   "execution_count": 8,
   "id": "2da3d7df",
   "metadata": {},
   "outputs": [
    {
     "data": {
      "text/plain": [
       "good        49431\n",
       "salty        5000\n",
       "unknown      1661\n",
       "milky         803\n",
       "colored       479\n",
       "fluoride      214\n",
       "Name: quality_group, dtype: int64"
      ]
     },
     "execution_count": 8,
     "metadata": {},
     "output_type": "execute_result"
    }
   ],
   "source": [
    "X.quality_group.value_counts()"
   ]
  },
  {
   "cell_type": "markdown",
   "id": "20c70306",
   "metadata": {},
   "source": [
    "### Construction Year\n",
    "\n",
    "The older a pump is, the more time the mechanisms and piping have had to erode. I postulate that an older pump is more likely to be in need or maintenance than a newer pump.\n",
    "\n",
    "There is a problem with this data column:\n",
    "- 20709 of our observations are NaN.\n",
    "- Older pumps have fewer observations\n",
    "\n",
    "We may be able to reconcile this data by binning pipes by age into 'New' and 'Old' pipes, where 'Old' is defined by some cut-off year. It is also likely that a large portion (or all) of our NaNs will fall into the 'Old' category, allowing us to impute our missing data with likely information without referencing other parameters."
   ]
  },
  {
   "cell_type": "code",
   "execution_count": 9,
   "id": "22d3882a",
   "metadata": {},
   "outputs": [
    {
     "data": {
      "text/plain": [
       "0    1999\n",
       "1    2010\n",
       "2    2009\n",
       "3    1986\n",
       "4       0\n",
       "Name: construction_year, dtype: int64"
      ]
     },
     "execution_count": 9,
     "metadata": {},
     "output_type": "execute_result"
    }
   ],
   "source": [
    "X.construction_year.head()"
   ]
  },
  {
   "cell_type": "markdown",
   "id": "68ee44f2",
   "metadata": {},
   "source": [
    "### Source\n",
    "\n",
    "Source may be important as it would determine the mechanism of the pump. A bore hole ground water pump will be designed differently than a rain water collecting pump. These mechanisms will have different specifications regarding wear and corrosion and may lead to different statuses given our algorithm."
   ]
  },
  {
   "cell_type": "code",
   "execution_count": 10,
   "id": "90f487b9",
   "metadata": {},
   "outputs": [
    {
     "data": {
      "text/html": [
       "<div>\n",
       "<style scoped>\n",
       "    .dataframe tbody tr th:only-of-type {\n",
       "        vertical-align: middle;\n",
       "    }\n",
       "\n",
       "    .dataframe tbody tr th {\n",
       "        vertical-align: top;\n",
       "    }\n",
       "\n",
       "    .dataframe thead th {\n",
       "        text-align: right;\n",
       "    }\n",
       "</style>\n",
       "<table border=\"1\" class=\"dataframe\">\n",
       "  <thead>\n",
       "    <tr style=\"text-align: right;\">\n",
       "      <th></th>\n",
       "      <th>source</th>\n",
       "      <th>source_type</th>\n",
       "      <th>source_class</th>\n",
       "    </tr>\n",
       "  </thead>\n",
       "  <tbody>\n",
       "    <tr>\n",
       "      <th>0</th>\n",
       "      <td>spring</td>\n",
       "      <td>spring</td>\n",
       "      <td>groundwater</td>\n",
       "    </tr>\n",
       "    <tr>\n",
       "      <th>1</th>\n",
       "      <td>rainwater harvesting</td>\n",
       "      <td>rainwater harvesting</td>\n",
       "      <td>surface</td>\n",
       "    </tr>\n",
       "    <tr>\n",
       "      <th>2</th>\n",
       "      <td>dam</td>\n",
       "      <td>dam</td>\n",
       "      <td>surface</td>\n",
       "    </tr>\n",
       "    <tr>\n",
       "      <th>3</th>\n",
       "      <td>machine dbh</td>\n",
       "      <td>borehole</td>\n",
       "      <td>groundwater</td>\n",
       "    </tr>\n",
       "    <tr>\n",
       "      <th>4</th>\n",
       "      <td>rainwater harvesting</td>\n",
       "      <td>rainwater harvesting</td>\n",
       "      <td>surface</td>\n",
       "    </tr>\n",
       "  </tbody>\n",
       "</table>\n",
       "</div>"
      ],
      "text/plain": [
       "                 source           source_type source_class\n",
       "0                spring                spring  groundwater\n",
       "1  rainwater harvesting  rainwater harvesting      surface\n",
       "2                   dam                   dam      surface\n",
       "3           machine dbh              borehole  groundwater\n",
       "4  rainwater harvesting  rainwater harvesting      surface"
      ]
     },
     "execution_count": 10,
     "metadata": {},
     "output_type": "execute_result"
    }
   ],
   "source": [
    "X_source = X[[ 'source', 'source_type', 'source_class']]\n",
    "X_source.head()"
   ]
  },
  {
   "cell_type": "code",
   "execution_count": 11,
   "id": "5282a968",
   "metadata": {},
   "outputs": [
    {
     "data": {
      "text/plain": [
       "spring                  17006\n",
       "shallow well            15499\n",
       "machine dbh             10826\n",
       "river                    9612\n",
       "rainwater harvesting     2218\n",
       "hand dtw                  873\n",
       "dam                       649\n",
       "lake                      639\n",
       "other                     202\n",
       "unknown                    64\n",
       "Name: source, dtype: int64"
      ]
     },
     "execution_count": 11,
     "metadata": {},
     "output_type": "execute_result"
    }
   ],
   "source": [
    "X_source.source.value_counts()"
   ]
  },
  {
   "cell_type": "code",
   "execution_count": 12,
   "id": "bc6bdc32",
   "metadata": {},
   "outputs": [
    {
     "data": {
      "text/plain": [
       "spring                  17006\n",
       "shallow well            15499\n",
       "borehole                11699\n",
       "river/lake              10251\n",
       "rainwater harvesting     2218\n",
       "dam                       649\n",
       "other                     266\n",
       "Name: source_type, dtype: int64"
      ]
     },
     "execution_count": 12,
     "metadata": {},
     "output_type": "execute_result"
    }
   ],
   "source": [
    "X_source.source_type.value_counts()"
   ]
  },
  {
   "cell_type": "code",
   "execution_count": 13,
   "id": "36631970",
   "metadata": {},
   "outputs": [
    {
     "data": {
      "text/plain": [
       "groundwater    44204\n",
       "surface        13118\n",
       "unknown          266\n",
       "Name: source_class, dtype: int64"
      ]
     },
     "execution_count": 13,
     "metadata": {},
     "output_type": "execute_result"
    }
   ],
   "source": [
    "X_source.source_class.value_counts()"
   ]
  },
  {
   "cell_type": "markdown",
   "id": "2e5b2155",
   "metadata": {},
   "source": [
    "### Inflow / Outflow\n",
    "\n",
    "The column `amount_tsh` is defined as \"Total static head (amount water available to waterpoint)\".\n",
    "\n",
    "By using `amount_tsh` and `quantity` or `quantity_group` we may get some idea of whether or not the pump is working properly. As a pump that has water to draw but is not drawing water is likely in need of maintenance.\n",
    "\n",
    "`quantity_group` and `quantity` are the same. We will drop `quantity_group` because it has the most characters in the column name.\n",
    "\n",
    "`amount_tsh` may be problematic because of the amount of `0` inputs that cannot be differentiated from NaN or 0. May remove later because of this."
   ]
  },
  {
   "cell_type": "code",
   "execution_count": 14,
   "id": "4cc9dcc5",
   "metadata": {
    "scrolled": false
   },
   "outputs": [
    {
     "data": {
      "text/html": [
       "<div>\n",
       "<style scoped>\n",
       "    .dataframe tbody tr th:only-of-type {\n",
       "        vertical-align: middle;\n",
       "    }\n",
       "\n",
       "    .dataframe tbody tr th {\n",
       "        vertical-align: top;\n",
       "    }\n",
       "\n",
       "    .dataframe thead th {\n",
       "        text-align: right;\n",
       "    }\n",
       "</style>\n",
       "<table border=\"1\" class=\"dataframe\">\n",
       "  <thead>\n",
       "    <tr style=\"text-align: right;\">\n",
       "      <th></th>\n",
       "      <th>amount_tsh</th>\n",
       "      <th>quantity</th>\n",
       "      <th>quantity_group</th>\n",
       "    </tr>\n",
       "  </thead>\n",
       "  <tbody>\n",
       "    <tr>\n",
       "      <th>0</th>\n",
       "      <td>6000.0</td>\n",
       "      <td>enough</td>\n",
       "      <td>enough</td>\n",
       "    </tr>\n",
       "    <tr>\n",
       "      <th>1</th>\n",
       "      <td>0.0</td>\n",
       "      <td>insufficient</td>\n",
       "      <td>insufficient</td>\n",
       "    </tr>\n",
       "    <tr>\n",
       "      <th>2</th>\n",
       "      <td>25.0</td>\n",
       "      <td>enough</td>\n",
       "      <td>enough</td>\n",
       "    </tr>\n",
       "    <tr>\n",
       "      <th>3</th>\n",
       "      <td>0.0</td>\n",
       "      <td>dry</td>\n",
       "      <td>dry</td>\n",
       "    </tr>\n",
       "    <tr>\n",
       "      <th>4</th>\n",
       "      <td>0.0</td>\n",
       "      <td>seasonal</td>\n",
       "      <td>seasonal</td>\n",
       "    </tr>\n",
       "  </tbody>\n",
       "</table>\n",
       "</div>"
      ],
      "text/plain": [
       "   amount_tsh      quantity quantity_group\n",
       "0      6000.0        enough         enough\n",
       "1         0.0  insufficient   insufficient\n",
       "2        25.0        enough         enough\n",
       "3         0.0           dry            dry\n",
       "4         0.0      seasonal       seasonal"
      ]
     },
     "execution_count": 14,
     "metadata": {},
     "output_type": "execute_result"
    }
   ],
   "source": [
    "X_IO = X[['amount_tsh', 'quantity', 'quantity_group']]\n",
    "X_IO.head()"
   ]
  },
  {
   "cell_type": "code",
   "execution_count": 15,
   "id": "52d2be59",
   "metadata": {
    "scrolled": true
   },
   "outputs": [
    {
     "data": {
      "text/plain": [
       "enough          32260\n",
       "insufficient    14564\n",
       "dry              5990\n",
       "seasonal         4001\n",
       "unknown           773\n",
       "Name: quantity, dtype: int64"
      ]
     },
     "execution_count": 15,
     "metadata": {},
     "output_type": "execute_result"
    }
   ],
   "source": [
    "X_IO.quantity.value_counts()"
   ]
  },
  {
   "cell_type": "code",
   "execution_count": 16,
   "id": "539fb3e1",
   "metadata": {
    "scrolled": false
   },
   "outputs": [
    {
     "data": {
      "text/plain": [
       "enough          32260\n",
       "insufficient    14564\n",
       "dry              5990\n",
       "seasonal         4001\n",
       "unknown           773\n",
       "Name: quantity_group, dtype: int64"
      ]
     },
     "execution_count": 16,
     "metadata": {},
     "output_type": "execute_result"
    }
   ],
   "source": [
    "X_IO.quantity_group.value_counts()"
   ]
  },
  {
   "cell_type": "code",
   "execution_count": 17,
   "id": "d2bfc79b",
   "metadata": {},
   "outputs": [
    {
     "data": {
      "text/plain": [
       "True    57588\n",
       "dtype: int64"
      ]
     },
     "execution_count": 17,
     "metadata": {},
     "output_type": "execute_result"
    }
   ],
   "source": [
    "test_df = X_IO.quantity_group == X_IO.quantity\n",
    "test_df.value_counts()"
   ]
  },
  {
   "cell_type": "code",
   "execution_count": 18,
   "id": "853167da",
   "metadata": {},
   "outputs": [
    {
     "data": {
      "text/plain": [
       "count     57588.000000\n",
       "mean        327.645219\n",
       "std        3043.831403\n",
       "min           0.000000\n",
       "25%           0.000000\n",
       "50%           0.000000\n",
       "75%          30.000000\n",
       "max      350000.000000\n",
       "Name: amount_tsh, dtype: float64"
      ]
     },
     "execution_count": 18,
     "metadata": {},
     "output_type": "execute_result"
    }
   ],
   "source": [
    "X_IO.amount_tsh.describe()"
   ]
  },
  {
   "cell_type": "markdown",
   "id": "cd9170eb",
   "metadata": {},
   "source": [
    "### Extraction Type\n",
    "\n",
    "Extraction type is the actual mechanism of the pump. Different mechanisms are easier or more difficult to repair and break down at different rates. This may be more useful than source, as multiple types of mechanisms can be used for the same source type."
   ]
  },
  {
   "cell_type": "code",
   "execution_count": 19,
   "id": "ead6cddf",
   "metadata": {
    "scrolled": true
   },
   "outputs": [
    {
     "data": {
      "text/plain": [
       "gravity         26696\n",
       "handpump        15179\n",
       "other            6160\n",
       "submersible      6046\n",
       "motorpump        2939\n",
       "rope pump         451\n",
       "wind-powered      117\n",
       "Name: extraction_type_class, dtype: int64"
      ]
     },
     "execution_count": 19,
     "metadata": {},
     "output_type": "execute_result"
    }
   ],
   "source": [
    "X.extraction_type_class.value_counts()"
   ]
  },
  {
   "cell_type": "markdown",
   "id": "8d1cfb03",
   "metadata": {},
   "source": [
    "### Population\n",
    "\n",
    "{write stuff here}"
   ]
  },
  {
   "cell_type": "code",
   "execution_count": null,
   "id": "bf7dda68",
   "metadata": {},
   "outputs": [],
   "source": []
  },
  {
   "cell_type": "markdown",
   "id": "d8201cbe",
   "metadata": {},
   "source": [
    "### Landform, Lithology and Soils\n",
    "\n",
    "{write stuff here}"
   ]
  },
  {
   "cell_type": "code",
   "execution_count": null,
   "id": "3b5b679a",
   "metadata": {},
   "outputs": [],
   "source": []
  },
  {
   "cell_type": "markdown",
   "id": "2538d0de",
   "metadata": {},
   "source": [
    "## Data Cleaning"
   ]
  },
  {
   "cell_type": "markdown",
   "id": "75b9e2fd",
   "metadata": {},
   "source": [
    "Things to do:\n",
    "- Remove unwanted or clerical columns.\n",
    "- Bin `construction_year` and potentially roll smaller values into `other` bins to help with class imbalance.\n",
    "- Output cleaned data to new csv for modeling purposes.\n",
    "\n",
    "Spatial Join data set and original data set are being kept seperate due to differences in dataframe shape. Time permitting, we may take a second look at the spatial join and see if we can impute lat-long using random placement and `lga` to recover the 2000 or so lost entries."
   ]
  },
  {
   "cell_type": "markdown",
   "id": "f1a151d1",
   "metadata": {},
   "source": [
    "### Binning"
   ]
  },
  {
   "cell_type": "code",
   "execution_count": 20,
   "id": "91d36cbe",
   "metadata": {},
   "outputs": [
    {
     "data": {
      "text/plain": [
       "False    37097\n",
       "True     20491\n",
       "Name: is_new, dtype: int64"
      ]
     },
     "execution_count": 20,
     "metadata": {},
     "output_type": "execute_result"
    }
   ],
   "source": [
    "# Binning construction_year into new boolean column is_new with cut-off year 'NewYear'\n",
    "\n",
    "# Set cut-off year\n",
    "NewYear = 2000\n",
    "\n",
    "# Create new boolean column with cut-off year\n",
    "X['is_new'] = X['construction_year'] >= NewYear\n",
    "X.is_new.value_counts()"
   ]
  },
  {
   "cell_type": "code",
   "execution_count": 21,
   "id": "d7c8fd8f",
   "metadata": {
    "scrolled": false
   },
   "outputs": [
    {
     "name": "stderr",
     "output_type": "stream",
     "text": [
      "C:\\Users\\bjere\\anaconda\\lib\\site-packages\\pandas\\core\\indexing.py:1732: SettingWithCopyWarning: \n",
      "A value is trying to be set on a copy of a slice from a DataFrame\n",
      "\n",
      "See the caveats in the documentation: https://pandas.pydata.org/pandas-docs/stable/user_guide/indexing.html#returning-a-view-versus-a-copy\n",
      "  self._setitem_single_block(indexer, value, name)\n"
     ]
    }
   ],
   "source": [
    "# Bin funder\n",
    "\n",
    "X['funder'].loc[X['funder'] != 'Government Of Tanzania'] = 'Other'"
   ]
  },
  {
   "cell_type": "code",
   "execution_count": 22,
   "id": "5da000d4",
   "metadata": {},
   "outputs": [],
   "source": [
    "# Creating new column to bin scheme_management\n",
    "X['scheme_class'] = X['scheme_management']"
   ]
  },
  {
   "cell_type": "code",
   "execution_count": 23,
   "id": "26117b8a",
   "metadata": {},
   "outputs": [],
   "source": [
    "# Bin scheme_management as scheme_class\n",
    "\n",
    "replace_dict = {'Parastatal' : 'Government',\n",
    "                'Water authority' : 'Government',\n",
    "                'WUA' : 'Government',\n",
    "                'WUG' : 'Government',\n",
    "                'VWC' : 'Government',\n",
    "                'SWC' : 'Government',\n",
    "                'Water Board' : 'Government', \n",
    "                'Private operator' : 'Other',\n",
    "                'Trust' : 'Other',\n",
    "                'Company' : 'Other',\n",
    "                'None' : 'None',\n",
    "                np.NaN : 'None'}\n",
    "\n",
    "X.scheme_class.replace(replace_dict, inplace=True)"
   ]
  },
  {
   "cell_type": "code",
   "execution_count": 24,
   "id": "ab606928",
   "metadata": {
    "scrolled": true
   },
   "outputs": [
    {
     "data": {
      "text/plain": [
       "Government    50876\n",
       "None           3751\n",
       "Other          2961\n",
       "Name: scheme_class, dtype: int64"
      ]
     },
     "execution_count": 24,
     "metadata": {},
     "output_type": "execute_result"
    }
   ],
   "source": [
    "X.scheme_class.value_counts()"
   ]
  },
  {
   "cell_type": "code",
   "execution_count": 25,
   "id": "0a3204da",
   "metadata": {},
   "outputs": [],
   "source": [
    "## Binning Installer\n",
    "\n",
    "X['installer'] = X.installer.str.upper()"
   ]
  },
  {
   "cell_type": "code",
   "execution_count": 26,
   "id": "e50c1d74",
   "metadata": {
    "scrolled": true
   },
   "outputs": [
    {
     "data": {
      "text/plain": [
       "Government              25664\n",
       "Private                  9955\n",
       "Other                    6862\n",
       "MWE                       157\n",
       "IS                        156\n",
       "                        ...  \n",
       "INSITITUTIONA               1\n",
       "TUKWARE ENTERP              1\n",
       "TASAFCITIZEN AND LGA        1\n",
       "ZINGIBALI SECONDARY         1\n",
       "SELEPTA                     1\n",
       "Name: installer, Length: 1853, dtype: int64"
      ]
     },
     "execution_count": 26,
     "metadata": {},
     "output_type": "execute_result"
    }
   ],
   "source": [
    "# Consolidating government installers into Government.\n",
    "\n",
    "imputer = {'GOVERNMENT' : 'Government',\n",
    "           'DWE' : 'Government',\n",
    "           'RWE' : 'Government',\n",
    "           'WIZARA  YA MAJI' : 'Government',\n",
    "           'COMMU' : 'Government',\n",
    "           '0' : 'Other',\n",
    "           'DANIDA' : 'Private',\n",
    "           'HESAWA' : 'Private',\n",
    "           'KKKT' : 'Private',\n",
    "           'CENTRAL GOVERNMENT' : 'Government',\n",
    "           'TCRS' : 'Private',\n",
    "           'COMMUNITY' : 'Other',\n",
    "           'CES' : 'Private',\n",
    "           'DANID' : 'Private',\n",
    "           'DISTRICT COUNCIL' : 'Government',\n",
    "           'WORLD VISION' : 'Private',\n",
    "           'LGA' : 'Government',\n",
    "           'WEDECO' : 'Private',\n",
    "           'TASAF' : 'Government',\n",
    "           'GOVER' : 'Government',\n",
    "           'AMREF' : 'Private',\n",
    "           'TWESA' : 'Government',\n",
    "           'WU' : 'Private',\n",
    "           'DMDD' : 'Other',\n",
    "           'ACRA' : 'Private',\n",
    "           'FINI WATER' : 'Other',\n",
    "           'NORAD' : 'Private',\n",
    "           'DA' : 'Government',\n",
    "           'SEMA' : 'Private',\n",
    "           'DW' : 'Other',\n",
    "           'JAICA' : 'Private',\n",
    "           'OXFAM' : 'Private',\n",
    "           'UNICEF' : 'Private',\n",
    "           'SHIPO' : 'Private',\n",
    "           'IDARA YA MAJI' : 'Government',\n",
    "           'GOVE' : 'Government',\n",
    "           'VILLAGERS' : 'Other',\n",
    "           'SENGEREMA WATER DEPARTMENT' : 'Government',\n",
    "           'KILIWATER' : 'Private',\n",
    "           'FINW' : 'Private',\n",
    "           'RC CHURCH' : 'Private',\n",
    "           'DH' : 'Government',\n",
    "           'KUWAIT' : 'Private',\n",
    "           'DWSP' : 'Government',\n",
    "           'DISTRI' : 'Government',\n",
    "           'LAWATEFUKA WATER SUP' : 'Government',\n",
    "           'RC' : 'Government',\n",
    "           'MAGADINI-MAKIWARU WA' : 'Other',\n",
    "           'DISTRICT WATER DEPARTMENT' : 'Government',\n",
    "           'FW' : 'Other',\n",
    "           'KKKT _ KONDE AND DWE' : 'Other',\n",
    "           'PRIVATE' : 'Private',\n",
    "           'CENTR' : 'Other',\n",
    "           'WVT' : 'Private'}\n",
    "\n",
    "X.installer.replace(imputer, inplace=True)\n",
    "X.installer.fillna('Other', inplace=True)\n",
    "\n",
    "X.installer.value_counts()"
   ]
  },
  {
   "cell_type": "code",
   "execution_count": 27,
   "id": "1baf13f1",
   "metadata": {},
   "outputs": [],
   "source": [
    "# Iterate through remaining values and replace with bulk Other\n",
    "# This column requires more fine-tooth combing regarding binning given that following our brief definition foray,\n",
    "#      there are still 1884 unique rows with < 157 entries that amount to near 20,000, or approximately 30% of the\n",
    "#      full data set's entries. Because of our binning method, Other will likely be oversampled.\n",
    "\n",
    "for i in X['installer'].values:\n",
    "    if i != 'Government':\n",
    "        if i != 'Private':\n",
    "            if i != 'Other':\n",
    "                X.installer.replace({i:'Other'}, inplace=True)"
   ]
  },
  {
   "cell_type": "code",
   "execution_count": 28,
   "id": "96d86ec9",
   "metadata": {},
   "outputs": [
    {
     "data": {
      "text/plain": [
       "Government    25664\n",
       "Other         21969\n",
       "Private        9955\n",
       "Name: installer, dtype: int64"
      ]
     },
     "execution_count": 28,
     "metadata": {},
     "output_type": "execute_result"
    }
   ],
   "source": [
    "X.installer.value_counts()"
   ]
  },
  {
   "cell_type": "markdown",
   "id": "74ce7856",
   "metadata": {},
   "source": [
    "### Dropping"
   ]
  },
  {
   "cell_type": "code",
   "execution_count": 29,
   "id": "2c557e83",
   "metadata": {},
   "outputs": [],
   "source": [
    "# list of cols for physical models\n",
    "cols1 = ['is_new', 'extraction_type_class', 'amount_tsh', 'quantity', \n",
    "         'source_type', 'source_class', 'quality_group', 'population', \n",
    "         'target', 'landform', 'lithology', 'soils', 'wrb', \n",
    "         'dominant_soil', 'code_wrb']\n",
    "\n",
    "# list of cols for political models\n",
    "cols2 = ['funder', 'num_private', 'region', 'subvillage', 'scheme_management',\n",
    "         'scheme_class', 'permit', 'payment', 'source', 'installer']"
   ]
  },
  {
   "cell_type": "code",
   "execution_count": 30,
   "id": "718605e6",
   "metadata": {},
   "outputs": [],
   "source": [
    "# Dropping columns we're not interested in or do not make sense for analysis\n",
    "\n",
    "# Set list of kept columns for concatenation with Samira's kept columns\n",
    "keep_cols = cols1 + cols2\n",
    "\n",
    "# New dataframe with kept columns\n",
    "df = X[keep_cols]"
   ]
  },
  {
   "cell_type": "code",
   "execution_count": 31,
   "id": "a7659828",
   "metadata": {},
   "outputs": [
    {
     "data": {
      "text/html": [
       "<div>\n",
       "<style scoped>\n",
       "    .dataframe tbody tr th:only-of-type {\n",
       "        vertical-align: middle;\n",
       "    }\n",
       "\n",
       "    .dataframe tbody tr th {\n",
       "        vertical-align: top;\n",
       "    }\n",
       "\n",
       "    .dataframe thead th {\n",
       "        text-align: right;\n",
       "    }\n",
       "</style>\n",
       "<table border=\"1\" class=\"dataframe\">\n",
       "  <thead>\n",
       "    <tr style=\"text-align: right;\">\n",
       "      <th></th>\n",
       "      <th>is_new</th>\n",
       "      <th>extraction_type_class</th>\n",
       "      <th>amount_tsh</th>\n",
       "      <th>quantity</th>\n",
       "      <th>source_type</th>\n",
       "      <th>source_class</th>\n",
       "      <th>quality_group</th>\n",
       "      <th>population</th>\n",
       "      <th>target</th>\n",
       "      <th>landform</th>\n",
       "      <th>...</th>\n",
       "      <th>funder</th>\n",
       "      <th>num_private</th>\n",
       "      <th>region</th>\n",
       "      <th>subvillage</th>\n",
       "      <th>scheme_management</th>\n",
       "      <th>scheme_class</th>\n",
       "      <th>permit</th>\n",
       "      <th>payment</th>\n",
       "      <th>source</th>\n",
       "      <th>installer</th>\n",
       "    </tr>\n",
       "  </thead>\n",
       "  <tbody>\n",
       "    <tr>\n",
       "      <th>0</th>\n",
       "      <td>False</td>\n",
       "      <td>gravity</td>\n",
       "      <td>6000.0</td>\n",
       "      <td>enough</td>\n",
       "      <td>spring</td>\n",
       "      <td>groundwater</td>\n",
       "      <td>good</td>\n",
       "      <td>109</td>\n",
       "      <td>functional</td>\n",
       "      <td>TM</td>\n",
       "      <td>...</td>\n",
       "      <td>Other</td>\n",
       "      <td>0</td>\n",
       "      <td>Iringa</td>\n",
       "      <td>Mnyusi B</td>\n",
       "      <td>VWC</td>\n",
       "      <td>Government</td>\n",
       "      <td>False</td>\n",
       "      <td>pay annually</td>\n",
       "      <td>spring</td>\n",
       "      <td>Other</td>\n",
       "    </tr>\n",
       "    <tr>\n",
       "      <th>1</th>\n",
       "      <td>True</td>\n",
       "      <td>gravity</td>\n",
       "      <td>0.0</td>\n",
       "      <td>insufficient</td>\n",
       "      <td>rainwater harvesting</td>\n",
       "      <td>surface</td>\n",
       "      <td>good</td>\n",
       "      <td>280</td>\n",
       "      <td>functional</td>\n",
       "      <td>LP</td>\n",
       "      <td>...</td>\n",
       "      <td>Other</td>\n",
       "      <td>0</td>\n",
       "      <td>Mara</td>\n",
       "      <td>Nyamara</td>\n",
       "      <td>Other</td>\n",
       "      <td>Other</td>\n",
       "      <td>True</td>\n",
       "      <td>never pay</td>\n",
       "      <td>rainwater harvesting</td>\n",
       "      <td>Other</td>\n",
       "    </tr>\n",
       "    <tr>\n",
       "      <th>2</th>\n",
       "      <td>True</td>\n",
       "      <td>gravity</td>\n",
       "      <td>25.0</td>\n",
       "      <td>enough</td>\n",
       "      <td>dam</td>\n",
       "      <td>surface</td>\n",
       "      <td>good</td>\n",
       "      <td>250</td>\n",
       "      <td>functional</td>\n",
       "      <td>LP</td>\n",
       "      <td>...</td>\n",
       "      <td>Other</td>\n",
       "      <td>0</td>\n",
       "      <td>Manyara</td>\n",
       "      <td>Majengo</td>\n",
       "      <td>VWC</td>\n",
       "      <td>Government</td>\n",
       "      <td>True</td>\n",
       "      <td>pay per bucket</td>\n",
       "      <td>dam</td>\n",
       "      <td>Private</td>\n",
       "    </tr>\n",
       "    <tr>\n",
       "      <th>3</th>\n",
       "      <td>False</td>\n",
       "      <td>submersible</td>\n",
       "      <td>0.0</td>\n",
       "      <td>dry</td>\n",
       "      <td>borehole</td>\n",
       "      <td>groundwater</td>\n",
       "      <td>good</td>\n",
       "      <td>58</td>\n",
       "      <td>non functional</td>\n",
       "      <td>LP</td>\n",
       "      <td>...</td>\n",
       "      <td>Other</td>\n",
       "      <td>0</td>\n",
       "      <td>Mtwara</td>\n",
       "      <td>Mahakamani</td>\n",
       "      <td>VWC</td>\n",
       "      <td>Government</td>\n",
       "      <td>True</td>\n",
       "      <td>never pay</td>\n",
       "      <td>machine dbh</td>\n",
       "      <td>Private</td>\n",
       "    </tr>\n",
       "    <tr>\n",
       "      <th>4</th>\n",
       "      <td>False</td>\n",
       "      <td>gravity</td>\n",
       "      <td>0.0</td>\n",
       "      <td>seasonal</td>\n",
       "      <td>rainwater harvesting</td>\n",
       "      <td>surface</td>\n",
       "      <td>good</td>\n",
       "      <td>0</td>\n",
       "      <td>functional</td>\n",
       "      <td>SH</td>\n",
       "      <td>...</td>\n",
       "      <td>Other</td>\n",
       "      <td>0</td>\n",
       "      <td>Kagera</td>\n",
       "      <td>Kyanyamisa</td>\n",
       "      <td>NaN</td>\n",
       "      <td>None</td>\n",
       "      <td>True</td>\n",
       "      <td>never pay</td>\n",
       "      <td>rainwater harvesting</td>\n",
       "      <td>Other</td>\n",
       "    </tr>\n",
       "    <tr>\n",
       "      <th>...</th>\n",
       "      <td>...</td>\n",
       "      <td>...</td>\n",
       "      <td>...</td>\n",
       "      <td>...</td>\n",
       "      <td>...</td>\n",
       "      <td>...</td>\n",
       "      <td>...</td>\n",
       "      <td>...</td>\n",
       "      <td>...</td>\n",
       "      <td>...</td>\n",
       "      <td>...</td>\n",
       "      <td>...</td>\n",
       "      <td>...</td>\n",
       "      <td>...</td>\n",
       "      <td>...</td>\n",
       "      <td>...</td>\n",
       "      <td>...</td>\n",
       "      <td>...</td>\n",
       "      <td>...</td>\n",
       "      <td>...</td>\n",
       "      <td>...</td>\n",
       "    </tr>\n",
       "    <tr>\n",
       "      <th>57583</th>\n",
       "      <td>False</td>\n",
       "      <td>gravity</td>\n",
       "      <td>10.0</td>\n",
       "      <td>enough</td>\n",
       "      <td>spring</td>\n",
       "      <td>groundwater</td>\n",
       "      <td>good</td>\n",
       "      <td>125</td>\n",
       "      <td>functional</td>\n",
       "      <td>SH</td>\n",
       "      <td>...</td>\n",
       "      <td>Other</td>\n",
       "      <td>0</td>\n",
       "      <td>Kilimanjaro</td>\n",
       "      <td>Kiduruni</td>\n",
       "      <td>Water Board</td>\n",
       "      <td>Government</td>\n",
       "      <td>True</td>\n",
       "      <td>pay per bucket</td>\n",
       "      <td>spring</td>\n",
       "      <td>Private</td>\n",
       "    </tr>\n",
       "    <tr>\n",
       "      <th>57584</th>\n",
       "      <td>False</td>\n",
       "      <td>gravity</td>\n",
       "      <td>4700.0</td>\n",
       "      <td>enough</td>\n",
       "      <td>river/lake</td>\n",
       "      <td>surface</td>\n",
       "      <td>good</td>\n",
       "      <td>56</td>\n",
       "      <td>functional</td>\n",
       "      <td>SH</td>\n",
       "      <td>...</td>\n",
       "      <td>Other</td>\n",
       "      <td>0</td>\n",
       "      <td>Iringa</td>\n",
       "      <td>Igumbilo</td>\n",
       "      <td>VWC</td>\n",
       "      <td>Government</td>\n",
       "      <td>True</td>\n",
       "      <td>pay annually</td>\n",
       "      <td>river</td>\n",
       "      <td>Other</td>\n",
       "    </tr>\n",
       "    <tr>\n",
       "      <th>57585</th>\n",
       "      <td>False</td>\n",
       "      <td>handpump</td>\n",
       "      <td>0.0</td>\n",
       "      <td>enough</td>\n",
       "      <td>borehole</td>\n",
       "      <td>groundwater</td>\n",
       "      <td>fluoride</td>\n",
       "      <td>0</td>\n",
       "      <td>functional</td>\n",
       "      <td>LP</td>\n",
       "      <td>...</td>\n",
       "      <td>Other</td>\n",
       "      <td>0</td>\n",
       "      <td>Mbeya</td>\n",
       "      <td>Madungulu</td>\n",
       "      <td>VWC</td>\n",
       "      <td>Government</td>\n",
       "      <td>False</td>\n",
       "      <td>pay monthly</td>\n",
       "      <td>machine dbh</td>\n",
       "      <td>Other</td>\n",
       "    </tr>\n",
       "    <tr>\n",
       "      <th>57586</th>\n",
       "      <td>False</td>\n",
       "      <td>handpump</td>\n",
       "      <td>0.0</td>\n",
       "      <td>insufficient</td>\n",
       "      <td>shallow well</td>\n",
       "      <td>groundwater</td>\n",
       "      <td>good</td>\n",
       "      <td>0</td>\n",
       "      <td>functional</td>\n",
       "      <td>SH</td>\n",
       "      <td>...</td>\n",
       "      <td>Other</td>\n",
       "      <td>0</td>\n",
       "      <td>Dodoma</td>\n",
       "      <td>Mwinyi</td>\n",
       "      <td>VWC</td>\n",
       "      <td>Government</td>\n",
       "      <td>True</td>\n",
       "      <td>never pay</td>\n",
       "      <td>shallow well</td>\n",
       "      <td>Other</td>\n",
       "    </tr>\n",
       "    <tr>\n",
       "      <th>57587</th>\n",
       "      <td>True</td>\n",
       "      <td>handpump</td>\n",
       "      <td>0.0</td>\n",
       "      <td>enough</td>\n",
       "      <td>shallow well</td>\n",
       "      <td>groundwater</td>\n",
       "      <td>salty</td>\n",
       "      <td>150</td>\n",
       "      <td>functional</td>\n",
       "      <td>LP</td>\n",
       "      <td>...</td>\n",
       "      <td>Other</td>\n",
       "      <td>0</td>\n",
       "      <td>Morogoro</td>\n",
       "      <td>Kikatanyemba</td>\n",
       "      <td>VWC</td>\n",
       "      <td>Government</td>\n",
       "      <td>True</td>\n",
       "      <td>pay when scheme fails</td>\n",
       "      <td>shallow well</td>\n",
       "      <td>Other</td>\n",
       "    </tr>\n",
       "  </tbody>\n",
       "</table>\n",
       "<p>57588 rows × 25 columns</p>\n",
       "</div>"
      ],
      "text/plain": [
       "       is_new extraction_type_class  amount_tsh      quantity  \\\n",
       "0       False               gravity      6000.0        enough   \n",
       "1        True               gravity         0.0  insufficient   \n",
       "2        True               gravity        25.0        enough   \n",
       "3       False           submersible         0.0           dry   \n",
       "4       False               gravity         0.0      seasonal   \n",
       "...       ...                   ...         ...           ...   \n",
       "57583   False               gravity        10.0        enough   \n",
       "57584   False               gravity      4700.0        enough   \n",
       "57585   False              handpump         0.0        enough   \n",
       "57586   False              handpump         0.0  insufficient   \n",
       "57587    True              handpump         0.0        enough   \n",
       "\n",
       "                source_type source_class quality_group  population  \\\n",
       "0                    spring  groundwater          good         109   \n",
       "1      rainwater harvesting      surface          good         280   \n",
       "2                       dam      surface          good         250   \n",
       "3                  borehole  groundwater          good          58   \n",
       "4      rainwater harvesting      surface          good           0   \n",
       "...                     ...          ...           ...         ...   \n",
       "57583                spring  groundwater          good         125   \n",
       "57584            river/lake      surface          good          56   \n",
       "57585              borehole  groundwater      fluoride           0   \n",
       "57586          shallow well  groundwater          good           0   \n",
       "57587          shallow well  groundwater         salty         150   \n",
       "\n",
       "               target landform  ... funder num_private       region  \\\n",
       "0          functional       TM  ...  Other           0       Iringa   \n",
       "1          functional       LP  ...  Other           0         Mara   \n",
       "2          functional       LP  ...  Other           0      Manyara   \n",
       "3      non functional       LP  ...  Other           0       Mtwara   \n",
       "4          functional       SH  ...  Other           0       Kagera   \n",
       "...               ...      ...  ...    ...         ...          ...   \n",
       "57583      functional       SH  ...  Other           0  Kilimanjaro   \n",
       "57584      functional       SH  ...  Other           0       Iringa   \n",
       "57585      functional       LP  ...  Other           0        Mbeya   \n",
       "57586      functional       SH  ...  Other           0       Dodoma   \n",
       "57587      functional       LP  ...  Other           0     Morogoro   \n",
       "\n",
       "         subvillage scheme_management scheme_class  permit  \\\n",
       "0          Mnyusi B               VWC   Government   False   \n",
       "1           Nyamara             Other        Other    True   \n",
       "2           Majengo               VWC   Government    True   \n",
       "3        Mahakamani               VWC   Government    True   \n",
       "4        Kyanyamisa               NaN         None    True   \n",
       "...             ...               ...          ...     ...   \n",
       "57583      Kiduruni       Water Board   Government    True   \n",
       "57584      Igumbilo               VWC   Government    True   \n",
       "57585     Madungulu               VWC   Government   False   \n",
       "57586        Mwinyi               VWC   Government    True   \n",
       "57587  Kikatanyemba               VWC   Government    True   \n",
       "\n",
       "                     payment                source installer  \n",
       "0               pay annually                spring     Other  \n",
       "1                  never pay  rainwater harvesting     Other  \n",
       "2             pay per bucket                   dam   Private  \n",
       "3                  never pay           machine dbh   Private  \n",
       "4                  never pay  rainwater harvesting     Other  \n",
       "...                      ...                   ...       ...  \n",
       "57583         pay per bucket                spring   Private  \n",
       "57584           pay annually                 river     Other  \n",
       "57585            pay monthly           machine dbh     Other  \n",
       "57586              never pay          shallow well     Other  \n",
       "57587  pay when scheme fails          shallow well     Other  \n",
       "\n",
       "[57588 rows x 25 columns]"
      ]
     },
     "execution_count": 31,
     "metadata": {},
     "output_type": "execute_result"
    }
   ],
   "source": [
    "# Display cleaned data frame\n",
    "df"
   ]
  },
  {
   "cell_type": "markdown",
   "id": "df7b06fc",
   "metadata": {},
   "source": [
    "### Dealing with null values"
   ]
  },
  {
   "cell_type": "code",
   "execution_count": 32,
   "id": "2793b9bd",
   "metadata": {
    "scrolled": true
   },
   "outputs": [
    {
     "name": "stdout",
     "output_type": "stream",
     "text": [
      "is_new has 0 null values\n",
      "extraction_type_class has 0 null values\n",
      "amount_tsh has 0 null values\n",
      "quantity has 0 null values\n",
      "source_type has 0 null values\n",
      "source_class has 0 null values\n",
      "quality_group has 0 null values\n",
      "population has 0 null values\n",
      "target has 0 null values\n",
      "landform has 141 null values\n",
      "lithology has 141 null values\n",
      "soils has 141 null values\n",
      "wrb has 141 null values\n",
      "dominant_soil has 141 null values\n",
      "code_wrb has 141 null values\n",
      "funder has 0 null values\n",
      "num_private has 0 null values\n",
      "region has 0 null values\n",
      "subvillage has 371 null values\n",
      "scheme_management has 3750 null values\n",
      "scheme_class has 0 null values\n",
      "permit has 3056 null values\n",
      "payment has 0 null values\n",
      "source has 0 null values\n",
      "installer has 0 null values\n"
     ]
    }
   ],
   "source": [
    "# Checking for null values to deal with in columns\n",
    "\n",
    "for i in df.columns:\n",
    "    print(f'{i} has {df[i].isna().sum()} null values')"
   ]
  },
  {
   "cell_type": "code",
   "execution_count": 33,
   "id": "f1346d6b",
   "metadata": {},
   "outputs": [
    {
     "name": "stderr",
     "output_type": "stream",
     "text": [
      "C:\\Users\\bjere\\anaconda\\lib\\site-packages\\pandas\\core\\generic.py:6392: SettingWithCopyWarning: \n",
      "A value is trying to be set on a copy of a slice from a DataFrame\n",
      "\n",
      "See the caveats in the documentation: https://pandas.pydata.org/pandas-docs/stable/user_guide/indexing.html#returning-a-view-versus-a-copy\n",
      "  return self._update_inplace(result)\n"
     ]
    }
   ],
   "source": [
    "# Replacing permit NaNs\n",
    "# For column permits we have these values associated with management schemes:\n",
    "#\n",
    "#       Government: we assume true because government entities likely have the political authority to permit wells.\n",
    "#       Other: We assume false because the entity is unknown or not a government entity and errors here effect only\n",
    "#              a small amount of entries.\n",
    "#       None: We assume false because the source either predates permitting or was likely installed without permit \n",
    "#             and errors here effect only a small amount of entries.\n",
    "\n",
    "imputer = {'Government' : True,\n",
    "           'Other' : False,\n",
    "           'None' : False}\n",
    "\n",
    "df.permit.fillna(df.scheme_class.map(imputer), inplace=True)"
   ]
  },
  {
   "cell_type": "code",
   "execution_count": 38,
   "id": "2bd7eae0",
   "metadata": {},
   "outputs": [
    {
     "name": "stderr",
     "output_type": "stream",
     "text": [
      "C:\\Users\\bjere\\anaconda\\lib\\site-packages\\pandas\\core\\generic.py:6392: SettingWithCopyWarning: \n",
      "A value is trying to be set on a copy of a slice from a DataFrame\n",
      "\n",
      "See the caveats in the documentation: https://pandas.pydata.org/pandas-docs/stable/user_guide/indexing.html#returning-a-view-versus-a-copy\n",
      "  return self._update_inplace(result)\n"
     ]
    }
   ],
   "source": [
    "# Replacing NaNs with Unknown in soil/landform/lithology data.\n",
    "\n",
    "cols = ['landform', 'lithology', 'soils', 'wrb', 'dominant_soil', 'code_wrb']\n",
    "\n",
    "for i in cols:\n",
    "    df[i].fillna('Unknown', inplace=True);"
   ]
  },
  {
   "cell_type": "code",
   "execution_count": 39,
   "id": "6a495b2c",
   "metadata": {
    "scrolled": true
   },
   "outputs": [
    {
     "name": "stdout",
     "output_type": "stream",
     "text": [
      "is_new has 0 null values\n",
      "extraction_type_class has 0 null values\n",
      "amount_tsh has 0 null values\n",
      "quantity has 0 null values\n",
      "source_type has 0 null values\n",
      "source_class has 0 null values\n",
      "quality_group has 0 null values\n",
      "population has 0 null values\n",
      "target has 0 null values\n",
      "landform has 0 null values\n",
      "lithology has 0 null values\n",
      "soils has 0 null values\n",
      "wrb has 0 null values\n",
      "dominant_soil has 0 null values\n",
      "code_wrb has 0 null values\n",
      "funder has 0 null values\n",
      "num_private has 0 null values\n",
      "region has 0 null values\n",
      "subvillage has 371 null values\n",
      "scheme_management has 3750 null values\n",
      "scheme_class has 0 null values\n",
      "permit has 0 null values\n",
      "payment has 0 null values\n",
      "source has 0 null values\n",
      "installer has 0 null values\n"
     ]
    }
   ],
   "source": [
    "# Checking for null values to deal with in columns\n",
    "\n",
    "for i in df.columns:\n",
    "    print(f'{i} has {df[i].isna().sum()} null values')"
   ]
  },
  {
   "cell_type": "code",
   "execution_count": 40,
   "id": "7c0bcc45",
   "metadata": {},
   "outputs": [],
   "source": [
    "df.to_csv(path_or_buf = \"./00_Source_Data/Data/df_clean_SpatialJoin.csv\", header=True)"
   ]
  }
 ],
 "metadata": {
  "kernelspec": {
   "display_name": "Python (learn-env)",
   "language": "python",
   "name": "learn-env"
  },
  "language_info": {
   "codemirror_mode": {
    "name": "ipython",
    "version": 3
   },
   "file_extension": ".py",
   "mimetype": "text/x-python",
   "name": "python",
   "nbconvert_exporter": "python",
   "pygments_lexer": "ipython3",
   "version": "3.9.7"
  }
 },
 "nbformat": 4,
 "nbformat_minor": 5
}
