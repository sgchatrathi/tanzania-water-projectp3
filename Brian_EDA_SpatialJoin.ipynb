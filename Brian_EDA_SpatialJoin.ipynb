{
 "cells": [
  {
   "cell_type": "markdown",
   "id": "a4da1a4a",
   "metadata": {},
   "source": [
    "# Brian's EDA - Origin Data"
   ]
  },
  {
   "cell_type": "markdown",
   "id": "a2fe5629",
   "metadata": {},
   "source": [
    "Working on determining whether or not water pumps in Tanzania are functional, functional but in need of maintenance or non-functional.\n",
    "\n",
    "I thought it may be prudent to bring in soil data, as some soils would cause increased rates of deterioration of piping and other pump mechanisms. This likely correlates to the 'quality' parameter of our original data set, which is a non-parametric classification of water hardness.\n",
    "\n"
   ]
  },
  {
   "cell_type": "code",
   "execution_count": 8,
   "id": "1fc274fd",
   "metadata": {},
   "outputs": [],
   "source": [
    "import numpy as np\n",
    "import pandas as pd"
   ]
  },
  {
   "cell_type": "code",
   "execution_count": 9,
   "id": "285d6b44",
   "metadata": {
    "scrolled": true
   },
   "outputs": [],
   "source": [
    "# Pull SpatialJoin data into notebook\n",
    "\n",
    "xls = pd.ExcelFile(\"./00_Source_Data/Data/X_Train_SpatialJoin.xls\")\n",
    "X = xls.parse(0)"
   ]
  },
  {
   "cell_type": "code",
   "execution_count": 10,
   "id": "6e921c5b",
   "metadata": {
    "scrolled": false
   },
   "outputs": [
    {
     "data": {
      "text/plain": [
       "Index(['OBJECTID', 'Join_Count', 'TARGET_FID', 'JOIN_FID', 'X_train_csv_id',\n",
       "       'X_train_csv_amount_tsh', 'X_train_csv_date_recorded',\n",
       "       'X_train_csv_funder', 'X_train_csv_gps_height', 'X_train_csv_installer',\n",
       "       'X_train_csv_longitude', 'X_train_csv_latitude', 'X_train_csv_wpt_name',\n",
       "       'X_train_csv_num_private', 'X_train_csv_basin',\n",
       "       'X_train_csv_subvillage', 'X_train_csv_region',\n",
       "       'X_train_csv_region_code', 'X_train_csv_district_code',\n",
       "       'X_train_csv_lga', 'X_train_csv_ward', 'X_train_csv_population',\n",
       "       'X_train_csv_public_meeting', 'X_train_csv_recorded_by',\n",
       "       'X_train_csv_scheme_management', 'X_train_csv_scheme_name',\n",
       "       'X_train_csv_permit', 'X_train_csv_construction_year',\n",
       "       'X_train_csv_extraction_type', 'X_train_csv_extraction_type_group',\n",
       "       'X_train_csv_extraction_type_class', 'X_train_csv_management',\n",
       "       'X_train_csv_management_group', 'X_train_csv_payment',\n",
       "       'X_train_csv_payment_type', 'X_train_csv_water_quality',\n",
       "       'X_train_csv_quality_group', 'X_train_csv_quantity',\n",
       "       'X_train_csv_quantity_group', 'X_train_csv_source',\n",
       "       'X_train_csv_source_type', 'X_train_csv_source_class',\n",
       "       'X_train_csv_waterpoint_type', 'X_train_csv_waterpoint_type_group',\n",
       "       'y_train_csv_id', 'y_train_csv_status_group', 'LANDFORM', 'LITHOLOGY',\n",
       "       'SOILS', 'WRB', 'DOMSOILS', 'CODE_WRB'],\n",
       "      dtype='object')"
      ]
     },
     "execution_count": 10,
     "metadata": {},
     "output_type": "execute_result"
    }
   ],
   "source": [
    "X.columns"
   ]
  },
  {
   "cell_type": "markdown",
   "id": "874e9357",
   "metadata": {},
   "source": [
    "### Initial Data Cleaning\n",
    "\n",
    "- reformat column names\n",
    "- remove 'junk columns'"
   ]
  },
  {
   "cell_type": "code",
   "execution_count": 11,
   "id": "7046e58a",
   "metadata": {},
   "outputs": [],
   "source": [
    "# Define a list of junk columns\n",
    "junk_cols = ['OBJECTID', 'Join_Count', 'TARGET_FID', 'JOIN_FID', 'y_train_csv_id']\n",
    "\n",
    "# Drop junk columns\n",
    "X.drop(columns = junk_cols, inplace=True);"
   ]
  },
  {
   "cell_type": "code",
   "execution_count": 12,
   "id": "fa31f6cc",
   "metadata": {},
   "outputs": [],
   "source": [
    "# Set lists of new and old names for columns.\n",
    "old_names = ['X_train_csv_id', \n",
    "             'X_train_csv_amount_tsh', 'X_train_csv_date_recorded', \n",
    "             'X_train_csv_funder', 'X_train_csv_gps_height', 'X_train_csv_installer', \n",
    "             'X_train_csv_longitude', 'X_train_csv_latitude', 'X_train_csv_wpt_name', \n",
    "             'X_train_csv_num_private', 'X_train_csv_basin', \n",
    "             'X_train_csv_subvillage', 'X_train_csv_region', \n",
    "             'X_train_csv_region_code', 'X_train_csv_district_code', \n",
    "             'X_train_csv_lga', 'X_train_csv_ward', 'X_train_csv_population', \n",
    "             'X_train_csv_public_meeting', 'X_train_csv_recorded_by', \n",
    "             'X_train_csv_scheme_management', 'X_train_csv_scheme_name', \n",
    "             'X_train_csv_permit', 'X_train_csv_construction_year', \n",
    "             'X_train_csv_extraction_type', 'X_train_csv_extraction_type_group', \n",
    "             'X_train_csv_extraction_type_class', 'X_train_csv_management', \n",
    "             'X_train_csv_management_group', 'X_train_csv_payment', \n",
    "             'X_train_csv_payment_type', 'X_train_csv_water_quality', \n",
    "             'X_train_csv_quality_group', 'X_train_csv_quantity', \n",
    "             'X_train_csv_quantity_group', 'X_train_csv_source', \n",
    "             'X_train_csv_source_type', 'X_train_csv_source_class', \n",
    "             'X_train_csv_waterpoint_type', 'X_train_csv_waterpoint_type_group', \n",
    "             'y_train_csv_status_group', 'LANDFORM', 'LITHOLOGY', \n",
    "             'SOILS', 'WRB', 'DOMSOILS', 'CODE_WRB']\n",
    "\n",
    "new_names = ['id', 'amount_tsh', 'date_recorded', 'funder', 'gps_height', \n",
    "             'installer', 'longitude', 'latitude', 'wpt_name', 'num_private', \n",
    "             'basin', 'subvillage', 'region', 'region_code', 'district_code', 'lga', \n",
    "             'ward', 'population', 'public_meeting', 'recorded_by', \n",
    "             'scheme_management', 'scheme_name', 'permit', 'construction_year', \n",
    "             'extraction_type', 'extraction_type_group', 'extraction_type_class', \n",
    "             'management', 'management_group', 'payment', 'payment_type', \n",
    "             'water_quality', 'quality_group', 'quantity', 'quantity_group', \n",
    "             'source', 'source_type', 'source_class', 'waterpoint_type', \n",
    "             'waterpoint_type_group', 'target', 'landform', 'lithology', 'soils', \n",
    "             'wrb', 'dominant_soil', 'code_wrb']\n",
    "\n",
    "# Rename columns using the newly created lists.\n",
    "X.rename(columns=dict(zip(old_names, new_names)), inplace=True)"
   ]
  },
  {
   "cell_type": "code",
   "execution_count": 13,
   "id": "0e8d1cd1",
   "metadata": {},
   "outputs": [
    {
     "data": {
      "text/html": [
       "<div>\n",
       "<style scoped>\n",
       "    .dataframe tbody tr th:only-of-type {\n",
       "        vertical-align: middle;\n",
       "    }\n",
       "\n",
       "    .dataframe tbody tr th {\n",
       "        vertical-align: top;\n",
       "    }\n",
       "\n",
       "    .dataframe thead th {\n",
       "        text-align: right;\n",
       "    }\n",
       "</style>\n",
       "<table border=\"1\" class=\"dataframe\">\n",
       "  <thead>\n",
       "    <tr style=\"text-align: right;\">\n",
       "      <th></th>\n",
       "      <th>id</th>\n",
       "      <th>amount_tsh</th>\n",
       "      <th>date_recorded</th>\n",
       "      <th>funder</th>\n",
       "      <th>gps_height</th>\n",
       "      <th>installer</th>\n",
       "      <th>longitude</th>\n",
       "      <th>latitude</th>\n",
       "      <th>wpt_name</th>\n",
       "      <th>num_private</th>\n",
       "      <th>...</th>\n",
       "      <th>source_class</th>\n",
       "      <th>waterpoint_type</th>\n",
       "      <th>waterpoint_type_group</th>\n",
       "      <th>target</th>\n",
       "      <th>landform</th>\n",
       "      <th>lithology</th>\n",
       "      <th>soils</th>\n",
       "      <th>wrb</th>\n",
       "      <th>dominant_soil</th>\n",
       "      <th>code_wrb</th>\n",
       "    </tr>\n",
       "  </thead>\n",
       "  <tbody>\n",
       "    <tr>\n",
       "      <th>0</th>\n",
       "      <td>69572</td>\n",
       "      <td>6000.0</td>\n",
       "      <td>2011-03-14</td>\n",
       "      <td>Roman</td>\n",
       "      <td>1390</td>\n",
       "      <td>Roman</td>\n",
       "      <td>34.938093</td>\n",
       "      <td>-9.856322</td>\n",
       "      <td>none</td>\n",
       "      <td>0</td>\n",
       "      <td>...</td>\n",
       "      <td>groundwater</td>\n",
       "      <td>communal standpipe</td>\n",
       "      <td>communal standpipe</td>\n",
       "      <td>functional</td>\n",
       "      <td>TM</td>\n",
       "      <td>MA2</td>\n",
       "      <td>LPe</td>\n",
       "      <td>Eutric Leptosols</td>\n",
       "      <td>LP</td>\n",
       "      <td>LP-eu</td>\n",
       "    </tr>\n",
       "    <tr>\n",
       "      <th>1</th>\n",
       "      <td>8776</td>\n",
       "      <td>0.0</td>\n",
       "      <td>2013-03-06</td>\n",
       "      <td>Grumeti</td>\n",
       "      <td>1399</td>\n",
       "      <td>GRUMETI</td>\n",
       "      <td>34.698766</td>\n",
       "      <td>-2.147466</td>\n",
       "      <td>Zahanati</td>\n",
       "      <td>0</td>\n",
       "      <td>...</td>\n",
       "      <td>surface</td>\n",
       "      <td>communal standpipe</td>\n",
       "      <td>communal standpipe</td>\n",
       "      <td>functional</td>\n",
       "      <td>LP</td>\n",
       "      <td>UP</td>\n",
       "      <td>PHl</td>\n",
       "      <td>Chromi-Luvic Phaeozems</td>\n",
       "      <td>PH</td>\n",
       "      <td>PH-lv-cr</td>\n",
       "    </tr>\n",
       "    <tr>\n",
       "      <th>2</th>\n",
       "      <td>34310</td>\n",
       "      <td>25.0</td>\n",
       "      <td>2013-02-25</td>\n",
       "      <td>Lottery Club</td>\n",
       "      <td>686</td>\n",
       "      <td>World vision</td>\n",
       "      <td>37.460664</td>\n",
       "      <td>-3.821329</td>\n",
       "      <td>Kwa Mahundi</td>\n",
       "      <td>0</td>\n",
       "      <td>...</td>\n",
       "      <td>surface</td>\n",
       "      <td>communal standpipe multiple</td>\n",
       "      <td>communal standpipe</td>\n",
       "      <td>functional</td>\n",
       "      <td>LP</td>\n",
       "      <td>MA2</td>\n",
       "      <td>LVx</td>\n",
       "      <td>Humi-Rhodic Luvisols</td>\n",
       "      <td>LV</td>\n",
       "      <td>LV-ro-hu</td>\n",
       "    </tr>\n",
       "    <tr>\n",
       "      <th>3</th>\n",
       "      <td>67743</td>\n",
       "      <td>0.0</td>\n",
       "      <td>2013-01-28</td>\n",
       "      <td>Unicef</td>\n",
       "      <td>263</td>\n",
       "      <td>UNICEF</td>\n",
       "      <td>38.486161</td>\n",
       "      <td>-11.155298</td>\n",
       "      <td>Zahanati Ya Nanyumbu</td>\n",
       "      <td>0</td>\n",
       "      <td>...</td>\n",
       "      <td>groundwater</td>\n",
       "      <td>communal standpipe multiple</td>\n",
       "      <td>communal standpipe</td>\n",
       "      <td>non functional</td>\n",
       "      <td>LP</td>\n",
       "      <td>MA2</td>\n",
       "      <td>CMo</td>\n",
       "      <td>Ferralic Cambisols</td>\n",
       "      <td>CM</td>\n",
       "      <td>CM-fl</td>\n",
       "    </tr>\n",
       "    <tr>\n",
       "      <th>4</th>\n",
       "      <td>19728</td>\n",
       "      <td>0.0</td>\n",
       "      <td>2011-07-13</td>\n",
       "      <td>Action In A</td>\n",
       "      <td>0</td>\n",
       "      <td>Artisan</td>\n",
       "      <td>31.130847</td>\n",
       "      <td>-1.825359</td>\n",
       "      <td>Shuleni</td>\n",
       "      <td>0</td>\n",
       "      <td>...</td>\n",
       "      <td>surface</td>\n",
       "      <td>communal standpipe</td>\n",
       "      <td>communal standpipe</td>\n",
       "      <td>functional</td>\n",
       "      <td>SH</td>\n",
       "      <td>MA3</td>\n",
       "      <td>LPu</td>\n",
       "      <td>Humi-Umbric Leptosols</td>\n",
       "      <td>LP</td>\n",
       "      <td>LP-um-hu</td>\n",
       "    </tr>\n",
       "    <tr>\n",
       "      <th>...</th>\n",
       "      <td>...</td>\n",
       "      <td>...</td>\n",
       "      <td>...</td>\n",
       "      <td>...</td>\n",
       "      <td>...</td>\n",
       "      <td>...</td>\n",
       "      <td>...</td>\n",
       "      <td>...</td>\n",
       "      <td>...</td>\n",
       "      <td>...</td>\n",
       "      <td>...</td>\n",
       "      <td>...</td>\n",
       "      <td>...</td>\n",
       "      <td>...</td>\n",
       "      <td>...</td>\n",
       "      <td>...</td>\n",
       "      <td>...</td>\n",
       "      <td>...</td>\n",
       "      <td>...</td>\n",
       "      <td>...</td>\n",
       "      <td>...</td>\n",
       "    </tr>\n",
       "    <tr>\n",
       "      <th>57583</th>\n",
       "      <td>60739</td>\n",
       "      <td>10.0</td>\n",
       "      <td>2013-05-03</td>\n",
       "      <td>Germany Republi</td>\n",
       "      <td>1210</td>\n",
       "      <td>CES</td>\n",
       "      <td>37.169807</td>\n",
       "      <td>-3.253847</td>\n",
       "      <td>Area Three Namba 27</td>\n",
       "      <td>0</td>\n",
       "      <td>...</td>\n",
       "      <td>groundwater</td>\n",
       "      <td>communal standpipe</td>\n",
       "      <td>communal standpipe</td>\n",
       "      <td>functional</td>\n",
       "      <td>SH</td>\n",
       "      <td>UP</td>\n",
       "      <td>NTh</td>\n",
       "      <td>Eutric Nitisols</td>\n",
       "      <td>NT</td>\n",
       "      <td>NT-eu</td>\n",
       "    </tr>\n",
       "    <tr>\n",
       "      <th>57584</th>\n",
       "      <td>27263</td>\n",
       "      <td>4700.0</td>\n",
       "      <td>2011-05-07</td>\n",
       "      <td>Cefa-njombe</td>\n",
       "      <td>1212</td>\n",
       "      <td>Cefa</td>\n",
       "      <td>35.249991</td>\n",
       "      <td>-9.070629</td>\n",
       "      <td>Kwa Yahona Kuvala</td>\n",
       "      <td>0</td>\n",
       "      <td>...</td>\n",
       "      <td>surface</td>\n",
       "      <td>communal standpipe</td>\n",
       "      <td>communal standpipe</td>\n",
       "      <td>functional</td>\n",
       "      <td>SH</td>\n",
       "      <td>MA2</td>\n",
       "      <td>ACh</td>\n",
       "      <td>Rhodic Acrisols</td>\n",
       "      <td>AC</td>\n",
       "      <td>AC-ro</td>\n",
       "    </tr>\n",
       "    <tr>\n",
       "      <th>57585</th>\n",
       "      <td>37057</td>\n",
       "      <td>0.0</td>\n",
       "      <td>2011-04-11</td>\n",
       "      <td>NaN</td>\n",
       "      <td>0</td>\n",
       "      <td>NaN</td>\n",
       "      <td>34.017087</td>\n",
       "      <td>-8.750434</td>\n",
       "      <td>Mashine</td>\n",
       "      <td>0</td>\n",
       "      <td>...</td>\n",
       "      <td>groundwater</td>\n",
       "      <td>hand pump</td>\n",
       "      <td>hand pump</td>\n",
       "      <td>functional</td>\n",
       "      <td>LP</td>\n",
       "      <td>UF</td>\n",
       "      <td>LPe</td>\n",
       "      <td>Eutric Leptosols</td>\n",
       "      <td>LP</td>\n",
       "      <td>LP-eu</td>\n",
       "    </tr>\n",
       "    <tr>\n",
       "      <th>57586</th>\n",
       "      <td>31282</td>\n",
       "      <td>0.0</td>\n",
       "      <td>2011-03-08</td>\n",
       "      <td>Malec</td>\n",
       "      <td>0</td>\n",
       "      <td>Musa</td>\n",
       "      <td>35.861315</td>\n",
       "      <td>-6.378573</td>\n",
       "      <td>Mshoro</td>\n",
       "      <td>0</td>\n",
       "      <td>...</td>\n",
       "      <td>groundwater</td>\n",
       "      <td>hand pump</td>\n",
       "      <td>hand pump</td>\n",
       "      <td>functional</td>\n",
       "      <td>SH</td>\n",
       "      <td>IA1</td>\n",
       "      <td>CMo</td>\n",
       "      <td>Chromi-Ferralic Cambisols</td>\n",
       "      <td>CM</td>\n",
       "      <td>CM-fl-cr</td>\n",
       "    </tr>\n",
       "    <tr>\n",
       "      <th>57587</th>\n",
       "      <td>26348</td>\n",
       "      <td>0.0</td>\n",
       "      <td>2011-03-23</td>\n",
       "      <td>World Bank</td>\n",
       "      <td>191</td>\n",
       "      <td>World</td>\n",
       "      <td>38.104048</td>\n",
       "      <td>-6.747464</td>\n",
       "      <td>Kwa Mzee Lugawa</td>\n",
       "      <td>0</td>\n",
       "      <td>...</td>\n",
       "      <td>groundwater</td>\n",
       "      <td>hand pump</td>\n",
       "      <td>hand pump</td>\n",
       "      <td>functional</td>\n",
       "      <td>LP</td>\n",
       "      <td>MA2</td>\n",
       "      <td>FRr</td>\n",
       "      <td>Rhodic Ferralsols</td>\n",
       "      <td>FR</td>\n",
       "      <td>FR-ro</td>\n",
       "    </tr>\n",
       "  </tbody>\n",
       "</table>\n",
       "<p>57588 rows × 47 columns</p>\n",
       "</div>"
      ],
      "text/plain": [
       "          id  amount_tsh date_recorded           funder  gps_height  \\\n",
       "0      69572      6000.0    2011-03-14            Roman        1390   \n",
       "1       8776         0.0    2013-03-06          Grumeti        1399   \n",
       "2      34310        25.0    2013-02-25     Lottery Club         686   \n",
       "3      67743         0.0    2013-01-28           Unicef         263   \n",
       "4      19728         0.0    2011-07-13      Action In A           0   \n",
       "...      ...         ...           ...              ...         ...   \n",
       "57583  60739        10.0    2013-05-03  Germany Republi        1210   \n",
       "57584  27263      4700.0    2011-05-07      Cefa-njombe        1212   \n",
       "57585  37057         0.0    2011-04-11              NaN           0   \n",
       "57586  31282         0.0    2011-03-08            Malec           0   \n",
       "57587  26348         0.0    2011-03-23       World Bank         191   \n",
       "\n",
       "          installer  longitude   latitude              wpt_name  num_private  \\\n",
       "0             Roman  34.938093  -9.856322                  none            0   \n",
       "1           GRUMETI  34.698766  -2.147466              Zahanati            0   \n",
       "2      World vision  37.460664  -3.821329           Kwa Mahundi            0   \n",
       "3            UNICEF  38.486161 -11.155298  Zahanati Ya Nanyumbu            0   \n",
       "4           Artisan  31.130847  -1.825359               Shuleni            0   \n",
       "...             ...        ...        ...                   ...          ...   \n",
       "57583           CES  37.169807  -3.253847   Area Three Namba 27            0   \n",
       "57584          Cefa  35.249991  -9.070629     Kwa Yahona Kuvala            0   \n",
       "57585           NaN  34.017087  -8.750434               Mashine            0   \n",
       "57586          Musa  35.861315  -6.378573                Mshoro            0   \n",
       "57587         World  38.104048  -6.747464       Kwa Mzee Lugawa            0   \n",
       "\n",
       "       ... source_class              waterpoint_type waterpoint_type_group  \\\n",
       "0      ...  groundwater           communal standpipe    communal standpipe   \n",
       "1      ...      surface           communal standpipe    communal standpipe   \n",
       "2      ...      surface  communal standpipe multiple    communal standpipe   \n",
       "3      ...  groundwater  communal standpipe multiple    communal standpipe   \n",
       "4      ...      surface           communal standpipe    communal standpipe   \n",
       "...    ...          ...                          ...                   ...   \n",
       "57583  ...  groundwater           communal standpipe    communal standpipe   \n",
       "57584  ...      surface           communal standpipe    communal standpipe   \n",
       "57585  ...  groundwater                    hand pump             hand pump   \n",
       "57586  ...  groundwater                    hand pump             hand pump   \n",
       "57587  ...  groundwater                    hand pump             hand pump   \n",
       "\n",
       "               target  landform lithology soils                        wrb  \\\n",
       "0          functional        TM       MA2   LPe           Eutric Leptosols   \n",
       "1          functional        LP        UP   PHl     Chromi-Luvic Phaeozems   \n",
       "2          functional        LP       MA2   LVx       Humi-Rhodic Luvisols   \n",
       "3      non functional        LP       MA2   CMo         Ferralic Cambisols   \n",
       "4          functional        SH       MA3   LPu      Humi-Umbric Leptosols   \n",
       "...               ...       ...       ...   ...                        ...   \n",
       "57583      functional        SH        UP   NTh            Eutric Nitisols   \n",
       "57584      functional        SH       MA2   ACh            Rhodic Acrisols   \n",
       "57585      functional        LP        UF   LPe           Eutric Leptosols   \n",
       "57586      functional        SH       IA1   CMo  Chromi-Ferralic Cambisols   \n",
       "57587      functional        LP       MA2   FRr          Rhodic Ferralsols   \n",
       "\n",
       "      dominant_soil  code_wrb  \n",
       "0                LP     LP-eu  \n",
       "1                PH  PH-lv-cr  \n",
       "2                LV  LV-ro-hu  \n",
       "3                CM     CM-fl  \n",
       "4                LP  LP-um-hu  \n",
       "...             ...       ...  \n",
       "57583            NT     NT-eu  \n",
       "57584            AC     AC-ro  \n",
       "57585            LP     LP-eu  \n",
       "57586            CM  CM-fl-cr  \n",
       "57587            FR     FR-ro  \n",
       "\n",
       "[57588 rows x 47 columns]"
      ]
     },
     "execution_count": 13,
     "metadata": {},
     "output_type": "execute_result"
    }
   ],
   "source": [
    "X"
   ]
  },
  {
   "cell_type": "markdown",
   "id": "96e44808",
   "metadata": {},
   "source": [
    "## Interested Columns and Descriptions"
   ]
  },
  {
   "cell_type": "markdown",
   "id": "5e865bad",
   "metadata": {},
   "source": [
    "### Water Quality\n",
    "\n",
    "Water quality is non-parametric and describes the condition of the water.\n",
    "\n",
    "This attribute is also summarized in the `quality_group` column.\n",
    "\n",
    "The quality of the water may be an important factor in determining the longevity of the pump."
   ]
  },
  {
   "cell_type": "code",
   "execution_count": null,
   "id": "3971fb63",
   "metadata": {
    "scrolled": false
   },
   "outputs": [],
   "source": [
    "X.water_quality.value_counts()"
   ]
  },
  {
   "cell_type": "code",
   "execution_count": null,
   "id": "2da3d7df",
   "metadata": {},
   "outputs": [],
   "source": [
    "X.quality_group.value_counts()"
   ]
  },
  {
   "cell_type": "markdown",
   "id": "20c70306",
   "metadata": {},
   "source": [
    "### Construction Year\n",
    "\n",
    "The older a pump is, the more time the mechanisms and piping have had to erode. I postulate that an older pump is more likely to be in need or maintenance than a newer pump.\n",
    "\n",
    "There is a problem with this data column:\n",
    "- 20709 of our observations are NaN.\n",
    "- Older pumps have fewer observations\n",
    "\n",
    "We may be able to reconcile this data by binning pipes by age into 'New' and 'Old' pipes, where 'Old' is defined by some cut-off year. It is also likely that a large portion (or all) of our NaNs will fall into the 'Old' category, allowing us to impute our missing data with likely information without referencing other parameters."
   ]
  },
  {
   "cell_type": "code",
   "execution_count": null,
   "id": "22d3882a",
   "metadata": {},
   "outputs": [],
   "source": [
    "X.construction_year.head()"
   ]
  },
  {
   "cell_type": "markdown",
   "id": "68ee44f2",
   "metadata": {},
   "source": [
    "### Source\n",
    "\n",
    "Source may be important as it would determine the mechanism of the pump. A bore hole ground water pump will be designed differently than a rain water collecting pump. These mechanisms will have different specifications regarding wear and corrosion and may lead to different statuses given our algorithm."
   ]
  },
  {
   "cell_type": "code",
   "execution_count": null,
   "id": "90f487b9",
   "metadata": {},
   "outputs": [],
   "source": [
    "X_source = X[[ 'source', 'source_type', 'source_class']]\n",
    "X_source.head()"
   ]
  },
  {
   "cell_type": "code",
   "execution_count": null,
   "id": "5282a968",
   "metadata": {},
   "outputs": [],
   "source": [
    "X_source.source.value_counts()"
   ]
  },
  {
   "cell_type": "code",
   "execution_count": null,
   "id": "bc6bdc32",
   "metadata": {},
   "outputs": [],
   "source": [
    "X_source.source_type.value_counts()"
   ]
  },
  {
   "cell_type": "code",
   "execution_count": null,
   "id": "36631970",
   "metadata": {},
   "outputs": [],
   "source": [
    "X_source.source_class.value_counts()"
   ]
  },
  {
   "cell_type": "markdown",
   "id": "2e5b2155",
   "metadata": {},
   "source": [
    "### Inflow / Outflow\n",
    "\n",
    "The column `amount_tsh` is defined as \"Total static head (amount water available to waterpoint)\".\n",
    "\n",
    "By using `amount_tsh` and `quantity` or `quantity_group` we may get some idea of whether or not the pump is working properly. As a pump that has water to draw but is not drawing water is likely in need of maintenance.\n",
    "\n",
    "`quantity_group` and `quantity` are the same. We will drop `quantity_group` because it has the most characters in the column name.\n",
    "\n",
    "`amount_tsh` may be problematic because of the amount of `0` inputs that cannot be differentiated from NaN or 0. May remove later because of this."
   ]
  },
  {
   "cell_type": "code",
   "execution_count": null,
   "id": "4cc9dcc5",
   "metadata": {
    "scrolled": false
   },
   "outputs": [],
   "source": [
    "X_IO = X[['amount_tsh', 'quantity', 'quantity_group']]\n",
    "X_IO.head()"
   ]
  },
  {
   "cell_type": "code",
   "execution_count": null,
   "id": "52d2be59",
   "metadata": {
    "scrolled": true
   },
   "outputs": [],
   "source": [
    "X_IO.quantity.value_counts()"
   ]
  },
  {
   "cell_type": "code",
   "execution_count": null,
   "id": "539fb3e1",
   "metadata": {
    "scrolled": false
   },
   "outputs": [],
   "source": [
    "X_IO.quantity_group.value_counts()"
   ]
  },
  {
   "cell_type": "code",
   "execution_count": null,
   "id": "d2bfc79b",
   "metadata": {},
   "outputs": [],
   "source": [
    "test_df = X_IO.quantity_group == X_IO.quantity\n",
    "test_df.value_counts()"
   ]
  },
  {
   "cell_type": "code",
   "execution_count": null,
   "id": "853167da",
   "metadata": {},
   "outputs": [],
   "source": [
    "X_IO.amount_tsh.describe()"
   ]
  },
  {
   "cell_type": "markdown",
   "id": "cd9170eb",
   "metadata": {},
   "source": [
    "### Extraction Type\n",
    "\n",
    "Extraction type is the actual mechanism of the pump. Different mechanisms are easier or more difficult to repair and break down at different rates. This may be more useful than source, as multiple types of mechanisms can be used for the same source type."
   ]
  },
  {
   "cell_type": "code",
   "execution_count": null,
   "id": "ead6cddf",
   "metadata": {
    "scrolled": true
   },
   "outputs": [],
   "source": [
    "X.extraction_type_class.value_counts()"
   ]
  },
  {
   "cell_type": "markdown",
   "id": "8d1cfb03",
   "metadata": {},
   "source": [
    "### Population\n",
    "\n",
    "{write stuff here}"
   ]
  },
  {
   "cell_type": "code",
   "execution_count": null,
   "id": "bf7dda68",
   "metadata": {},
   "outputs": [],
   "source": []
  },
  {
   "cell_type": "markdown",
   "id": "d8201cbe",
   "metadata": {},
   "source": [
    "### Landform, Lithology and Soils\n",
    "\n",
    "{write stuff here}"
   ]
  },
  {
   "cell_type": "code",
   "execution_count": null,
   "id": "3b5b679a",
   "metadata": {},
   "outputs": [],
   "source": []
  },
  {
   "cell_type": "markdown",
   "id": "2538d0de",
   "metadata": {},
   "source": [
    "## Data Cleaning"
   ]
  },
  {
   "cell_type": "markdown",
   "id": "75b9e2fd",
   "metadata": {},
   "source": [
    "Things to do:\n",
    "- Remove unwanted or clerical columns.\n",
    "- Bin `construction_year` and potentially roll smaller values into `other` bins to help with class imbalance.\n",
    "- Output cleaned data to new csv for modeling purposes.\n",
    "\n",
    "Spatial Join data set and original data set are being kept seperate due to differences in dataframe shape. Time permitting, we may take a second look at the spatial join and see if we can impute lat-long using random placement and `lga` to recover the 2000 or so lost entries."
   ]
  },
  {
   "cell_type": "markdown",
   "id": "f1a151d1",
   "metadata": {},
   "source": [
    "### Binning"
   ]
  },
  {
   "cell_type": "code",
   "execution_count": null,
   "id": "91d36cbe",
   "metadata": {},
   "outputs": [],
   "source": [
    "# Binning construction_year into new boolean column is_new with cut-off year 'NewYear'\n",
    "\n",
    "# Set cut-off year\n",
    "NewYear = 2000\n",
    "\n",
    "# Create new boolean column with cut-off year\n",
    "X['is_new'] = X['construction_year'] >= NewYear\n",
    "X.is_new.value_counts()"
   ]
  },
  {
   "cell_type": "markdown",
   "id": "74ce7856",
   "metadata": {},
   "source": [
    "### Dropping"
   ]
  },
  {
   "cell_type": "code",
   "execution_count": null,
   "id": "718605e6",
   "metadata": {},
   "outputs": [],
   "source": [
    "# Dropping columns we're not interested in or do not make sense for analysis\n",
    "\n",
    "# Set list of kept columns for concatenation with Samira's kept columns\n",
    "keep_cols = ['is_new', 'extraction_type_class', 'amount_tsh', 'quantity', \n",
    "             'source_type', 'source_class', 'quality_group', 'population', \n",
    "             'target', 'landform', 'lithology', 'soils', 'wrb', \n",
    "             'dominant_soil', 'code_wrb']\n",
    "\n",
    "# New dataframe with kept columns\n",
    "df = X[keep_cols]"
   ]
  },
  {
   "cell_type": "code",
   "execution_count": null,
   "id": "a7659828",
   "metadata": {},
   "outputs": [],
   "source": [
    "# Display cleaned data frame\n",
    "df"
   ]
  },
  {
   "cell_type": "markdown",
   "id": "b90c162b",
   "metadata": {},
   "source": []
  }
 ],
 "metadata": {
  "kernelspec": {
   "display_name": "Python (learn-env)",
   "language": "python",
   "name": "learn-env"
  },
  "language_info": {
   "codemirror_mode": {
    "name": "ipython",
    "version": 3
   },
   "file_extension": ".py",
   "mimetype": "text/x-python",
   "name": "python",
   "nbconvert_exporter": "python",
   "pygments_lexer": "ipython3",
   "version": "3.9.7"
  }
 },
 "nbformat": 4,
 "nbformat_minor": 5
}
