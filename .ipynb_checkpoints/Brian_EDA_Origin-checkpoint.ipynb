{
 "cells": [
  {
   "cell_type": "markdown",
   "id": "a4da1a4a",
   "metadata": {},
   "source": [
    "# Brian's EDA - Origin Data"
   ]
  },
  {
   "cell_type": "markdown",
   "id": "a2fe5629",
   "metadata": {},
   "source": [
    "Working on determining whether or not water pumps in Tanzania are functional, functional but in need of maintenance or non-functional.\n",
    "\n",
    "I thought it may be prudent to bring in soil data, as some soils would cause increased rates of deterioration of piping and other pump mechanisms. This likely correlates to the 'quality' parameter of our original data set, which is a non-parametric classification of water hardness.\n",
    "\n"
   ]
  },
  {
   "cell_type": "code",
   "execution_count": 1,
   "id": "1fc274fd",
   "metadata": {},
   "outputs": [],
   "source": [
    "import numpy as np\n",
    "import pandas as pd"
   ]
  },
  {
   "cell_type": "code",
   "execution_count": 2,
   "id": "285d6b44",
   "metadata": {
    "scrolled": false
   },
   "outputs": [
    {
     "data": {
      "text/html": [
       "<div>\n",
       "<style scoped>\n",
       "    .dataframe tbody tr th:only-of-type {\n",
       "        vertical-align: middle;\n",
       "    }\n",
       "\n",
       "    .dataframe tbody tr th {\n",
       "        vertical-align: top;\n",
       "    }\n",
       "\n",
       "    .dataframe thead th {\n",
       "        text-align: right;\n",
       "    }\n",
       "</style>\n",
       "<table border=\"1\" class=\"dataframe\">\n",
       "  <thead>\n",
       "    <tr style=\"text-align: right;\">\n",
       "      <th></th>\n",
       "      <th>id</th>\n",
       "      <th>amount_tsh</th>\n",
       "      <th>date_recorded</th>\n",
       "      <th>funder</th>\n",
       "      <th>gps_height</th>\n",
       "      <th>installer</th>\n",
       "      <th>longitude</th>\n",
       "      <th>latitude</th>\n",
       "      <th>wpt_name</th>\n",
       "      <th>num_private</th>\n",
       "      <th>...</th>\n",
       "      <th>payment_type</th>\n",
       "      <th>water_quality</th>\n",
       "      <th>quality_group</th>\n",
       "      <th>quantity</th>\n",
       "      <th>quantity_group</th>\n",
       "      <th>source</th>\n",
       "      <th>source_type</th>\n",
       "      <th>source_class</th>\n",
       "      <th>waterpoint_type</th>\n",
       "      <th>waterpoint_type_group</th>\n",
       "    </tr>\n",
       "  </thead>\n",
       "  <tbody>\n",
       "    <tr>\n",
       "      <th>0</th>\n",
       "      <td>69572</td>\n",
       "      <td>6000.0</td>\n",
       "      <td>2011-03-14</td>\n",
       "      <td>Roman</td>\n",
       "      <td>1390</td>\n",
       "      <td>Roman</td>\n",
       "      <td>34.938093</td>\n",
       "      <td>-9.856322</td>\n",
       "      <td>none</td>\n",
       "      <td>0</td>\n",
       "      <td>...</td>\n",
       "      <td>annually</td>\n",
       "      <td>soft</td>\n",
       "      <td>good</td>\n",
       "      <td>enough</td>\n",
       "      <td>enough</td>\n",
       "      <td>spring</td>\n",
       "      <td>spring</td>\n",
       "      <td>groundwater</td>\n",
       "      <td>communal standpipe</td>\n",
       "      <td>communal standpipe</td>\n",
       "    </tr>\n",
       "    <tr>\n",
       "      <th>1</th>\n",
       "      <td>8776</td>\n",
       "      <td>0.0</td>\n",
       "      <td>2013-03-06</td>\n",
       "      <td>Grumeti</td>\n",
       "      <td>1399</td>\n",
       "      <td>GRUMETI</td>\n",
       "      <td>34.698766</td>\n",
       "      <td>-2.147466</td>\n",
       "      <td>Zahanati</td>\n",
       "      <td>0</td>\n",
       "      <td>...</td>\n",
       "      <td>never pay</td>\n",
       "      <td>soft</td>\n",
       "      <td>good</td>\n",
       "      <td>insufficient</td>\n",
       "      <td>insufficient</td>\n",
       "      <td>rainwater harvesting</td>\n",
       "      <td>rainwater harvesting</td>\n",
       "      <td>surface</td>\n",
       "      <td>communal standpipe</td>\n",
       "      <td>communal standpipe</td>\n",
       "    </tr>\n",
       "    <tr>\n",
       "      <th>2</th>\n",
       "      <td>34310</td>\n",
       "      <td>25.0</td>\n",
       "      <td>2013-02-25</td>\n",
       "      <td>Lottery Club</td>\n",
       "      <td>686</td>\n",
       "      <td>World vision</td>\n",
       "      <td>37.460664</td>\n",
       "      <td>-3.821329</td>\n",
       "      <td>Kwa Mahundi</td>\n",
       "      <td>0</td>\n",
       "      <td>...</td>\n",
       "      <td>per bucket</td>\n",
       "      <td>soft</td>\n",
       "      <td>good</td>\n",
       "      <td>enough</td>\n",
       "      <td>enough</td>\n",
       "      <td>dam</td>\n",
       "      <td>dam</td>\n",
       "      <td>surface</td>\n",
       "      <td>communal standpipe multiple</td>\n",
       "      <td>communal standpipe</td>\n",
       "    </tr>\n",
       "    <tr>\n",
       "      <th>3</th>\n",
       "      <td>67743</td>\n",
       "      <td>0.0</td>\n",
       "      <td>2013-01-28</td>\n",
       "      <td>Unicef</td>\n",
       "      <td>263</td>\n",
       "      <td>UNICEF</td>\n",
       "      <td>38.486161</td>\n",
       "      <td>-11.155298</td>\n",
       "      <td>Zahanati Ya Nanyumbu</td>\n",
       "      <td>0</td>\n",
       "      <td>...</td>\n",
       "      <td>never pay</td>\n",
       "      <td>soft</td>\n",
       "      <td>good</td>\n",
       "      <td>dry</td>\n",
       "      <td>dry</td>\n",
       "      <td>machine dbh</td>\n",
       "      <td>borehole</td>\n",
       "      <td>groundwater</td>\n",
       "      <td>communal standpipe multiple</td>\n",
       "      <td>communal standpipe</td>\n",
       "    </tr>\n",
       "    <tr>\n",
       "      <th>4</th>\n",
       "      <td>19728</td>\n",
       "      <td>0.0</td>\n",
       "      <td>2011-07-13</td>\n",
       "      <td>Action In A</td>\n",
       "      <td>0</td>\n",
       "      <td>Artisan</td>\n",
       "      <td>31.130847</td>\n",
       "      <td>-1.825359</td>\n",
       "      <td>Shuleni</td>\n",
       "      <td>0</td>\n",
       "      <td>...</td>\n",
       "      <td>never pay</td>\n",
       "      <td>soft</td>\n",
       "      <td>good</td>\n",
       "      <td>seasonal</td>\n",
       "      <td>seasonal</td>\n",
       "      <td>rainwater harvesting</td>\n",
       "      <td>rainwater harvesting</td>\n",
       "      <td>surface</td>\n",
       "      <td>communal standpipe</td>\n",
       "      <td>communal standpipe</td>\n",
       "    </tr>\n",
       "  </tbody>\n",
       "</table>\n",
       "<p>5 rows × 40 columns</p>\n",
       "</div>"
      ],
      "text/plain": [
       "      id  amount_tsh date_recorded        funder  gps_height     installer  \\\n",
       "0  69572      6000.0    2011-03-14         Roman        1390         Roman   \n",
       "1   8776         0.0    2013-03-06       Grumeti        1399       GRUMETI   \n",
       "2  34310        25.0    2013-02-25  Lottery Club         686  World vision   \n",
       "3  67743         0.0    2013-01-28        Unicef         263        UNICEF   \n",
       "4  19728         0.0    2011-07-13   Action In A           0       Artisan   \n",
       "\n",
       "   longitude   latitude              wpt_name  num_private  ... payment_type  \\\n",
       "0  34.938093  -9.856322                  none            0  ...     annually   \n",
       "1  34.698766  -2.147466              Zahanati            0  ...    never pay   \n",
       "2  37.460664  -3.821329           Kwa Mahundi            0  ...   per bucket   \n",
       "3  38.486161 -11.155298  Zahanati Ya Nanyumbu            0  ...    never pay   \n",
       "4  31.130847  -1.825359               Shuleni            0  ...    never pay   \n",
       "\n",
       "  water_quality quality_group      quantity  quantity_group  \\\n",
       "0          soft          good        enough          enough   \n",
       "1          soft          good  insufficient    insufficient   \n",
       "2          soft          good        enough          enough   \n",
       "3          soft          good           dry             dry   \n",
       "4          soft          good      seasonal        seasonal   \n",
       "\n",
       "                 source           source_type  source_class  \\\n",
       "0                spring                spring   groundwater   \n",
       "1  rainwater harvesting  rainwater harvesting       surface   \n",
       "2                   dam                   dam       surface   \n",
       "3           machine dbh              borehole   groundwater   \n",
       "4  rainwater harvesting  rainwater harvesting       surface   \n",
       "\n",
       "               waterpoint_type waterpoint_type_group  \n",
       "0           communal standpipe    communal standpipe  \n",
       "1           communal standpipe    communal standpipe  \n",
       "2  communal standpipe multiple    communal standpipe  \n",
       "3  communal standpipe multiple    communal standpipe  \n",
       "4           communal standpipe    communal standpipe  \n",
       "\n",
       "[5 rows x 40 columns]"
      ]
     },
     "execution_count": 2,
     "metadata": {},
     "output_type": "execute_result"
    }
   ],
   "source": [
    "# Pull unmodified data into notebook\n",
    "\n",
    "X = pd.read_csv('./00_Source_Data/DrivenData/X_train.csv')\n",
    "y = pd.read_csv('./00_Source_Data/DrivenData/y_train.csv')\n",
    "X.head()"
   ]
  },
  {
   "cell_type": "code",
   "execution_count": 3,
   "id": "6e921c5b",
   "metadata": {
    "scrolled": true
   },
   "outputs": [
    {
     "data": {
      "text/plain": [
       "Index(['id', 'amount_tsh', 'date_recorded', 'funder', 'gps_height',\n",
       "       'installer', 'longitude', 'latitude', 'wpt_name', 'num_private',\n",
       "       'basin', 'subvillage', 'region', 'region_code', 'district_code', 'lga',\n",
       "       'ward', 'population', 'public_meeting', 'recorded_by',\n",
       "       'scheme_management', 'scheme_name', 'permit', 'construction_year',\n",
       "       'extraction_type', 'extraction_type_group', 'extraction_type_class',\n",
       "       'management', 'management_group', 'payment', 'payment_type',\n",
       "       'water_quality', 'quality_group', 'quantity', 'quantity_group',\n",
       "       'source', 'source_type', 'source_class', 'waterpoint_type',\n",
       "       'waterpoint_type_group'],\n",
       "      dtype='object')"
      ]
     },
     "execution_count": 3,
     "metadata": {},
     "output_type": "execute_result"
    }
   ],
   "source": [
    "X.columns"
   ]
  },
  {
   "cell_type": "code",
   "execution_count": 4,
   "id": "0e8d1cd1",
   "metadata": {},
   "outputs": [
    {
     "data": {
      "text/html": [
       "<div>\n",
       "<style scoped>\n",
       "    .dataframe tbody tr th:only-of-type {\n",
       "        vertical-align: middle;\n",
       "    }\n",
       "\n",
       "    .dataframe tbody tr th {\n",
       "        vertical-align: top;\n",
       "    }\n",
       "\n",
       "    .dataframe thead th {\n",
       "        text-align: right;\n",
       "    }\n",
       "</style>\n",
       "<table border=\"1\" class=\"dataframe\">\n",
       "  <thead>\n",
       "    <tr style=\"text-align: right;\">\n",
       "      <th></th>\n",
       "      <th>id</th>\n",
       "      <th>amount_tsh</th>\n",
       "      <th>gps_height</th>\n",
       "      <th>longitude</th>\n",
       "      <th>latitude</th>\n",
       "      <th>num_private</th>\n",
       "      <th>region_code</th>\n",
       "      <th>district_code</th>\n",
       "      <th>population</th>\n",
       "      <th>construction_year</th>\n",
       "    </tr>\n",
       "  </thead>\n",
       "  <tbody>\n",
       "    <tr>\n",
       "      <th>count</th>\n",
       "      <td>59400.000000</td>\n",
       "      <td>59400.000000</td>\n",
       "      <td>59400.000000</td>\n",
       "      <td>59400.000000</td>\n",
       "      <td>5.940000e+04</td>\n",
       "      <td>59400.000000</td>\n",
       "      <td>59400.000000</td>\n",
       "      <td>59400.000000</td>\n",
       "      <td>59400.000000</td>\n",
       "      <td>59400.000000</td>\n",
       "    </tr>\n",
       "    <tr>\n",
       "      <th>mean</th>\n",
       "      <td>37115.131768</td>\n",
       "      <td>317.650385</td>\n",
       "      <td>668.297239</td>\n",
       "      <td>34.077427</td>\n",
       "      <td>-5.706033e+00</td>\n",
       "      <td>0.474141</td>\n",
       "      <td>15.297003</td>\n",
       "      <td>5.629747</td>\n",
       "      <td>179.909983</td>\n",
       "      <td>1300.652475</td>\n",
       "    </tr>\n",
       "    <tr>\n",
       "      <th>std</th>\n",
       "      <td>21453.128371</td>\n",
       "      <td>2997.574558</td>\n",
       "      <td>693.116350</td>\n",
       "      <td>6.567432</td>\n",
       "      <td>2.946019e+00</td>\n",
       "      <td>12.236230</td>\n",
       "      <td>17.587406</td>\n",
       "      <td>9.633649</td>\n",
       "      <td>471.482176</td>\n",
       "      <td>951.620547</td>\n",
       "    </tr>\n",
       "    <tr>\n",
       "      <th>min</th>\n",
       "      <td>0.000000</td>\n",
       "      <td>0.000000</td>\n",
       "      <td>-90.000000</td>\n",
       "      <td>0.000000</td>\n",
       "      <td>-1.164944e+01</td>\n",
       "      <td>0.000000</td>\n",
       "      <td>1.000000</td>\n",
       "      <td>0.000000</td>\n",
       "      <td>0.000000</td>\n",
       "      <td>0.000000</td>\n",
       "    </tr>\n",
       "    <tr>\n",
       "      <th>25%</th>\n",
       "      <td>18519.750000</td>\n",
       "      <td>0.000000</td>\n",
       "      <td>0.000000</td>\n",
       "      <td>33.090347</td>\n",
       "      <td>-8.540621e+00</td>\n",
       "      <td>0.000000</td>\n",
       "      <td>5.000000</td>\n",
       "      <td>2.000000</td>\n",
       "      <td>0.000000</td>\n",
       "      <td>0.000000</td>\n",
       "    </tr>\n",
       "    <tr>\n",
       "      <th>50%</th>\n",
       "      <td>37061.500000</td>\n",
       "      <td>0.000000</td>\n",
       "      <td>369.000000</td>\n",
       "      <td>34.908743</td>\n",
       "      <td>-5.021597e+00</td>\n",
       "      <td>0.000000</td>\n",
       "      <td>12.000000</td>\n",
       "      <td>3.000000</td>\n",
       "      <td>25.000000</td>\n",
       "      <td>1986.000000</td>\n",
       "    </tr>\n",
       "    <tr>\n",
       "      <th>75%</th>\n",
       "      <td>55656.500000</td>\n",
       "      <td>20.000000</td>\n",
       "      <td>1319.250000</td>\n",
       "      <td>37.178387</td>\n",
       "      <td>-3.326156e+00</td>\n",
       "      <td>0.000000</td>\n",
       "      <td>17.000000</td>\n",
       "      <td>5.000000</td>\n",
       "      <td>215.000000</td>\n",
       "      <td>2004.000000</td>\n",
       "    </tr>\n",
       "    <tr>\n",
       "      <th>max</th>\n",
       "      <td>74247.000000</td>\n",
       "      <td>350000.000000</td>\n",
       "      <td>2770.000000</td>\n",
       "      <td>40.345193</td>\n",
       "      <td>-2.000000e-08</td>\n",
       "      <td>1776.000000</td>\n",
       "      <td>99.000000</td>\n",
       "      <td>80.000000</td>\n",
       "      <td>30500.000000</td>\n",
       "      <td>2013.000000</td>\n",
       "    </tr>\n",
       "  </tbody>\n",
       "</table>\n",
       "</div>"
      ],
      "text/plain": [
       "                 id     amount_tsh    gps_height     longitude      latitude  \\\n",
       "count  59400.000000   59400.000000  59400.000000  59400.000000  5.940000e+04   \n",
       "mean   37115.131768     317.650385    668.297239     34.077427 -5.706033e+00   \n",
       "std    21453.128371    2997.574558    693.116350      6.567432  2.946019e+00   \n",
       "min        0.000000       0.000000    -90.000000      0.000000 -1.164944e+01   \n",
       "25%    18519.750000       0.000000      0.000000     33.090347 -8.540621e+00   \n",
       "50%    37061.500000       0.000000    369.000000     34.908743 -5.021597e+00   \n",
       "75%    55656.500000      20.000000   1319.250000     37.178387 -3.326156e+00   \n",
       "max    74247.000000  350000.000000   2770.000000     40.345193 -2.000000e-08   \n",
       "\n",
       "        num_private   region_code  district_code    population  \\\n",
       "count  59400.000000  59400.000000   59400.000000  59400.000000   \n",
       "mean       0.474141     15.297003       5.629747    179.909983   \n",
       "std       12.236230     17.587406       9.633649    471.482176   \n",
       "min        0.000000      1.000000       0.000000      0.000000   \n",
       "25%        0.000000      5.000000       2.000000      0.000000   \n",
       "50%        0.000000     12.000000       3.000000     25.000000   \n",
       "75%        0.000000     17.000000       5.000000    215.000000   \n",
       "max     1776.000000     99.000000      80.000000  30500.000000   \n",
       "\n",
       "       construction_year  \n",
       "count       59400.000000  \n",
       "mean         1300.652475  \n",
       "std           951.620547  \n",
       "min             0.000000  \n",
       "25%             0.000000  \n",
       "50%          1986.000000  \n",
       "75%          2004.000000  \n",
       "max          2013.000000  "
      ]
     },
     "execution_count": 4,
     "metadata": {},
     "output_type": "execute_result"
    }
   ],
   "source": [
    "X.describe()"
   ]
  },
  {
   "cell_type": "markdown",
   "id": "96e44808",
   "metadata": {},
   "source": [
    "## Interested Columns and Descriptions"
   ]
  },
  {
   "cell_type": "markdown",
   "id": "5e865bad",
   "metadata": {},
   "source": [
    "### Water Quality\n",
    "\n",
    "Water quality is non-parametric and describes the condition of the water.\n",
    "\n",
    "This attribute is also summarized in the `quality_group` column.\n",
    "\n",
    "The quality of the water may be an important factor in determining the longevity of the pump."
   ]
  },
  {
   "cell_type": "code",
   "execution_count": 5,
   "id": "3971fb63",
   "metadata": {
    "scrolled": false
   },
   "outputs": [
    {
     "data": {
      "text/plain": [
       "soft                  50818\n",
       "salty                  4856\n",
       "unknown                1876\n",
       "milky                   804\n",
       "coloured                490\n",
       "salty abandoned         339\n",
       "fluoride                200\n",
       "fluoride abandoned       17\n",
       "Name: water_quality, dtype: int64"
      ]
     },
     "execution_count": 5,
     "metadata": {},
     "output_type": "execute_result"
    }
   ],
   "source": [
    "X.water_quality.value_counts()"
   ]
  },
  {
   "cell_type": "code",
   "execution_count": 6,
   "id": "2da3d7df",
   "metadata": {},
   "outputs": [
    {
     "data": {
      "text/plain": [
       "good        50818\n",
       "salty        5195\n",
       "unknown      1876\n",
       "milky         804\n",
       "colored       490\n",
       "fluoride      217\n",
       "Name: quality_group, dtype: int64"
      ]
     },
     "execution_count": 6,
     "metadata": {},
     "output_type": "execute_result"
    }
   ],
   "source": [
    "X.quality_group.value_counts()"
   ]
  },
  {
   "cell_type": "markdown",
   "id": "20c70306",
   "metadata": {},
   "source": [
    "### Construction Year\n",
    "\n",
    "The older a pump is, the more time the mechanisms and piping have had to erode. I postulate that an older pump is more likely to be in need or maintenance than a newer pump.\n",
    "\n",
    "There is a problem with this data column:\n",
    "- 20709 of our observations are NaN.\n",
    "- Older pumps have fewer observations\n",
    "\n",
    "We may be able to reconcile this data by binning pipes by age into 'New' and 'Old' pipes, where 'Old' is defined by some cut-off year. It is also likely that a large portion (or all) of our NaNs will fall into the 'Old' category, allowing us to impute our missing data with likely information without referencing other parameters."
   ]
  },
  {
   "cell_type": "code",
   "execution_count": 7,
   "id": "22d3882a",
   "metadata": {},
   "outputs": [
    {
     "data": {
      "text/plain": [
       "0    1999\n",
       "1    2010\n",
       "2    2009\n",
       "3    1986\n",
       "4       0\n",
       "Name: construction_year, dtype: int64"
      ]
     },
     "execution_count": 7,
     "metadata": {},
     "output_type": "execute_result"
    }
   ],
   "source": [
    "X.construction_year.head()"
   ]
  },
  {
   "cell_type": "markdown",
   "id": "68ee44f2",
   "metadata": {},
   "source": [
    "### Source\n",
    "\n",
    "Source may be important as it would determine the mechanism of the pump. A bore hole ground water pump will be designed differently than a rain water collecting pump. These mechanisms will have different specifications regarding wear and corrosion and may lead to different statuses given our algorithm."
   ]
  },
  {
   "cell_type": "code",
   "execution_count": 8,
   "id": "90f487b9",
   "metadata": {},
   "outputs": [
    {
     "data": {
      "text/html": [
       "<div>\n",
       "<style scoped>\n",
       "    .dataframe tbody tr th:only-of-type {\n",
       "        vertical-align: middle;\n",
       "    }\n",
       "\n",
       "    .dataframe tbody tr th {\n",
       "        vertical-align: top;\n",
       "    }\n",
       "\n",
       "    .dataframe thead th {\n",
       "        text-align: right;\n",
       "    }\n",
       "</style>\n",
       "<table border=\"1\" class=\"dataframe\">\n",
       "  <thead>\n",
       "    <tr style=\"text-align: right;\">\n",
       "      <th></th>\n",
       "      <th>source</th>\n",
       "      <th>source_type</th>\n",
       "      <th>source_class</th>\n",
       "    </tr>\n",
       "  </thead>\n",
       "  <tbody>\n",
       "    <tr>\n",
       "      <th>0</th>\n",
       "      <td>spring</td>\n",
       "      <td>spring</td>\n",
       "      <td>groundwater</td>\n",
       "    </tr>\n",
       "    <tr>\n",
       "      <th>1</th>\n",
       "      <td>rainwater harvesting</td>\n",
       "      <td>rainwater harvesting</td>\n",
       "      <td>surface</td>\n",
       "    </tr>\n",
       "    <tr>\n",
       "      <th>2</th>\n",
       "      <td>dam</td>\n",
       "      <td>dam</td>\n",
       "      <td>surface</td>\n",
       "    </tr>\n",
       "    <tr>\n",
       "      <th>3</th>\n",
       "      <td>machine dbh</td>\n",
       "      <td>borehole</td>\n",
       "      <td>groundwater</td>\n",
       "    </tr>\n",
       "    <tr>\n",
       "      <th>4</th>\n",
       "      <td>rainwater harvesting</td>\n",
       "      <td>rainwater harvesting</td>\n",
       "      <td>surface</td>\n",
       "    </tr>\n",
       "  </tbody>\n",
       "</table>\n",
       "</div>"
      ],
      "text/plain": [
       "                 source           source_type source_class\n",
       "0                spring                spring  groundwater\n",
       "1  rainwater harvesting  rainwater harvesting      surface\n",
       "2                   dam                   dam      surface\n",
       "3           machine dbh              borehole  groundwater\n",
       "4  rainwater harvesting  rainwater harvesting      surface"
      ]
     },
     "execution_count": 8,
     "metadata": {},
     "output_type": "execute_result"
    }
   ],
   "source": [
    "X_source = X[[ 'source', 'source_type', 'source_class']]\n",
    "X_source.head()"
   ]
  },
  {
   "cell_type": "code",
   "execution_count": 9,
   "id": "5282a968",
   "metadata": {},
   "outputs": [
    {
     "data": {
      "text/plain": [
       "spring                  17021\n",
       "shallow well            16824\n",
       "machine dbh             11075\n",
       "river                    9612\n",
       "rainwater harvesting     2295\n",
       "hand dtw                  874\n",
       "lake                      765\n",
       "dam                       656\n",
       "other                     212\n",
       "unknown                    66\n",
       "Name: source, dtype: int64"
      ]
     },
     "execution_count": 9,
     "metadata": {},
     "output_type": "execute_result"
    }
   ],
   "source": [
    "X_source.source.value_counts()"
   ]
  },
  {
   "cell_type": "code",
   "execution_count": 10,
   "id": "bc6bdc32",
   "metadata": {},
   "outputs": [
    {
     "data": {
      "text/plain": [
       "spring                  17021\n",
       "shallow well            16824\n",
       "borehole                11949\n",
       "river/lake              10377\n",
       "rainwater harvesting     2295\n",
       "dam                       656\n",
       "other                     278\n",
       "Name: source_type, dtype: int64"
      ]
     },
     "execution_count": 10,
     "metadata": {},
     "output_type": "execute_result"
    }
   ],
   "source": [
    "X_source.source_type.value_counts()"
   ]
  },
  {
   "cell_type": "code",
   "execution_count": 11,
   "id": "36631970",
   "metadata": {},
   "outputs": [
    {
     "data": {
      "text/plain": [
       "groundwater    45794\n",
       "surface        13328\n",
       "unknown          278\n",
       "Name: source_class, dtype: int64"
      ]
     },
     "execution_count": 11,
     "metadata": {},
     "output_type": "execute_result"
    }
   ],
   "source": [
    "X_source.source_class.value_counts()"
   ]
  },
  {
   "cell_type": "markdown",
   "id": "2e5b2155",
   "metadata": {},
   "source": [
    "### Inflow / Outflow\n",
    "\n",
    "The column `amount_tsh` is defined as \"Total static head (amount water available to waterpoint)\".\n",
    "\n",
    "By using `amount_tsh` and `quantity` or `quantity_group` we may get some idea of whether or not the pump is working properly. As a pump that has water to draw but is not drawing water is likely in need of maintenance.\n",
    "\n",
    "`quantity_group` and `quantity` are the same. We will drop `quantity_group` because it has the most characters in the column name.\n",
    "\n",
    "`amount_tsh` may be problematic because of the amount of `0` inputs that cannot be differentiated from NaN or 0. May remove later because of this."
   ]
  },
  {
   "cell_type": "code",
   "execution_count": 12,
   "id": "4cc9dcc5",
   "metadata": {
    "scrolled": false
   },
   "outputs": [
    {
     "data": {
      "text/html": [
       "<div>\n",
       "<style scoped>\n",
       "    .dataframe tbody tr th:only-of-type {\n",
       "        vertical-align: middle;\n",
       "    }\n",
       "\n",
       "    .dataframe tbody tr th {\n",
       "        vertical-align: top;\n",
       "    }\n",
       "\n",
       "    .dataframe thead th {\n",
       "        text-align: right;\n",
       "    }\n",
       "</style>\n",
       "<table border=\"1\" class=\"dataframe\">\n",
       "  <thead>\n",
       "    <tr style=\"text-align: right;\">\n",
       "      <th></th>\n",
       "      <th>amount_tsh</th>\n",
       "      <th>quantity</th>\n",
       "      <th>quantity_group</th>\n",
       "    </tr>\n",
       "  </thead>\n",
       "  <tbody>\n",
       "    <tr>\n",
       "      <th>0</th>\n",
       "      <td>6000.0</td>\n",
       "      <td>enough</td>\n",
       "      <td>enough</td>\n",
       "    </tr>\n",
       "    <tr>\n",
       "      <th>1</th>\n",
       "      <td>0.0</td>\n",
       "      <td>insufficient</td>\n",
       "      <td>insufficient</td>\n",
       "    </tr>\n",
       "    <tr>\n",
       "      <th>2</th>\n",
       "      <td>25.0</td>\n",
       "      <td>enough</td>\n",
       "      <td>enough</td>\n",
       "    </tr>\n",
       "    <tr>\n",
       "      <th>3</th>\n",
       "      <td>0.0</td>\n",
       "      <td>dry</td>\n",
       "      <td>dry</td>\n",
       "    </tr>\n",
       "    <tr>\n",
       "      <th>4</th>\n",
       "      <td>0.0</td>\n",
       "      <td>seasonal</td>\n",
       "      <td>seasonal</td>\n",
       "    </tr>\n",
       "  </tbody>\n",
       "</table>\n",
       "</div>"
      ],
      "text/plain": [
       "   amount_tsh      quantity quantity_group\n",
       "0      6000.0        enough         enough\n",
       "1         0.0  insufficient   insufficient\n",
       "2        25.0        enough         enough\n",
       "3         0.0           dry            dry\n",
       "4         0.0      seasonal       seasonal"
      ]
     },
     "execution_count": 12,
     "metadata": {},
     "output_type": "execute_result"
    }
   ],
   "source": [
    "X_IO = X[['amount_tsh', 'quantity', 'quantity_group']]\n",
    "X_IO.head()"
   ]
  },
  {
   "cell_type": "code",
   "execution_count": 13,
   "id": "e66994f4",
   "metadata": {
    "scrolled": true
   },
   "outputs": [
    {
     "data": {
      "text/plain": [
       "enough          33186\n",
       "insufficient    15129\n",
       "dry              6246\n",
       "seasonal         4050\n",
       "unknown           789\n",
       "Name: quantity, dtype: int64"
      ]
     },
     "execution_count": 13,
     "metadata": {},
     "output_type": "execute_result"
    }
   ],
   "source": [
    "X_IO.quantity.value_counts()"
   ]
  },
  {
   "cell_type": "code",
   "execution_count": 14,
   "id": "ab8d0075",
   "metadata": {
    "scrolled": false
   },
   "outputs": [
    {
     "data": {
      "text/plain": [
       "enough          33186\n",
       "insufficient    15129\n",
       "dry              6246\n",
       "seasonal         4050\n",
       "unknown           789\n",
       "Name: quantity_group, dtype: int64"
      ]
     },
     "execution_count": 14,
     "metadata": {},
     "output_type": "execute_result"
    }
   ],
   "source": [
    "X_IO.quantity_group.value_counts()"
   ]
  },
  {
   "cell_type": "code",
   "execution_count": 15,
   "id": "b8f1635a",
   "metadata": {},
   "outputs": [
    {
     "data": {
      "text/plain": [
       "True    59400\n",
       "dtype: int64"
      ]
     },
     "execution_count": 15,
     "metadata": {},
     "output_type": "execute_result"
    }
   ],
   "source": [
    "test_df = X_IO.quantity_group == X_IO.quantity\n",
    "test_df.value_counts()"
   ]
  },
  {
   "cell_type": "code",
   "execution_count": 16,
   "id": "340e87ce",
   "metadata": {},
   "outputs": [
    {
     "data": {
      "text/plain": [
       "count     59400.000000\n",
       "mean        317.650385\n",
       "std        2997.574558\n",
       "min           0.000000\n",
       "25%           0.000000\n",
       "50%           0.000000\n",
       "75%          20.000000\n",
       "max      350000.000000\n",
       "Name: amount_tsh, dtype: float64"
      ]
     },
     "execution_count": 16,
     "metadata": {},
     "output_type": "execute_result"
    }
   ],
   "source": [
    "X_IO.amount_tsh.describe()"
   ]
  },
  {
   "cell_type": "markdown",
   "id": "525ca5f7",
   "metadata": {},
   "source": [
    "### Extraction Type\n",
    "\n",
    "Extraction type is the actual mechanism of the pump. Different mechanisms are easier or more difficult to repair and break down at different rates. This may be more useful than source, as multiple types of mechanisms can be used for the same source type."
   ]
  },
  {
   "cell_type": "code",
   "execution_count": 17,
   "id": "ead6cddf",
   "metadata": {
    "scrolled": true
   },
   "outputs": [
    {
     "data": {
      "text/plain": [
       "gravity         26780\n",
       "handpump        16456\n",
       "other            6430\n",
       "submersible      6179\n",
       "motorpump        2987\n",
       "rope pump         451\n",
       "wind-powered      117\n",
       "Name: extraction_type_class, dtype: int64"
      ]
     },
     "execution_count": 17,
     "metadata": {},
     "output_type": "execute_result"
    }
   ],
   "source": [
    "X.extraction_type_class.value_counts()"
   ]
  },
  {
   "cell_type": "markdown",
   "id": "c4c0bad5",
   "metadata": {},
   "source": [
    "### Population\n",
    "\n",
    "{write stuff here}"
   ]
  },
  {
   "cell_type": "code",
   "execution_count": 18,
   "id": "98ef532e",
   "metadata": {},
   "outputs": [
    {
     "data": {
      "text/html": [
       "<div>\n",
       "<style scoped>\n",
       "    .dataframe tbody tr th:only-of-type {\n",
       "        vertical-align: middle;\n",
       "    }\n",
       "\n",
       "    .dataframe tbody tr th {\n",
       "        vertical-align: top;\n",
       "    }\n",
       "\n",
       "    .dataframe thead th {\n",
       "        text-align: right;\n",
       "    }\n",
       "</style>\n",
       "<table border=\"1\" class=\"dataframe\">\n",
       "  <thead>\n",
       "    <tr style=\"text-align: right;\">\n",
       "      <th></th>\n",
       "      <th>id</th>\n",
       "      <th>status_group</th>\n",
       "    </tr>\n",
       "  </thead>\n",
       "  <tbody>\n",
       "    <tr>\n",
       "      <th>0</th>\n",
       "      <td>69572</td>\n",
       "      <td>functional</td>\n",
       "    </tr>\n",
       "    <tr>\n",
       "      <th>1</th>\n",
       "      <td>8776</td>\n",
       "      <td>functional</td>\n",
       "    </tr>\n",
       "    <tr>\n",
       "      <th>2</th>\n",
       "      <td>34310</td>\n",
       "      <td>functional</td>\n",
       "    </tr>\n",
       "    <tr>\n",
       "      <th>3</th>\n",
       "      <td>67743</td>\n",
       "      <td>non functional</td>\n",
       "    </tr>\n",
       "    <tr>\n",
       "      <th>4</th>\n",
       "      <td>19728</td>\n",
       "      <td>functional</td>\n",
       "    </tr>\n",
       "  </tbody>\n",
       "</table>\n",
       "</div>"
      ],
      "text/plain": [
       "      id    status_group\n",
       "0  69572      functional\n",
       "1   8776      functional\n",
       "2  34310      functional\n",
       "3  67743  non functional\n",
       "4  19728      functional"
      ]
     },
     "execution_count": 18,
     "metadata": {},
     "output_type": "execute_result"
    }
   ],
   "source": [
    "y.head()"
   ]
  },
  {
   "cell_type": "markdown",
   "id": "d54dad64",
   "metadata": {},
   "source": [
    "## Data Cleaning"
   ]
  },
  {
   "cell_type": "markdown",
   "id": "6ab63d78",
   "metadata": {},
   "source": [
    "Things to do:\n",
    "- Concatenate XY values so if rows are removed, they are removed from both y and x data.\n",
    "- Remove unwanted or clerical columns for `political` models and `physical` models.\n",
    "- Bin `construction_year` and potentially roll smaller values into `other` bins to help with class imbalance.\n",
    "- Output cleaned data to new csv for modeling purposes.\n",
    "\n",
    "These cleaning processes need to be done for the spatial join dataset (different notebook) as well.\n",
    "\n",
    "Spatial Join data set and original data set are being kept seperate due to differences in dataframe shape."
   ]
  },
  {
   "cell_type": "code",
   "execution_count": 19,
   "id": "d5cb198f",
   "metadata": {},
   "outputs": [
    {
     "data": {
      "text/plain": [
       "Index(['id', 'status_group'], dtype='object')"
      ]
     },
     "execution_count": 19,
     "metadata": {},
     "output_type": "execute_result"
    }
   ],
   "source": [
    "y.columns"
   ]
  },
  {
   "cell_type": "code",
   "execution_count": 20,
   "id": "8aab4617",
   "metadata": {},
   "outputs": [
    {
     "data": {
      "text/plain": [
       "True    59400\n",
       "Name: id, dtype: int64"
      ]
     },
     "execution_count": 20,
     "metadata": {},
     "output_type": "execute_result"
    }
   ],
   "source": [
    "# Check if X and y id values are indexed appropriately\n",
    "test_df = X['id'] == y['id']\n",
    "test_df.value_counts()"
   ]
  },
  {
   "cell_type": "code",
   "execution_count": 21,
   "id": "5731990c",
   "metadata": {},
   "outputs": [],
   "source": [
    "# Concatenate 'target' values from y into dataframe to keep target values indexed appropriately.\n",
    "\n",
    "X['target'] = y.status_group"
   ]
  },
  {
   "cell_type": "markdown",
   "id": "a950c82d",
   "metadata": {},
   "source": [
    "### Binning"
   ]
  },
  {
   "cell_type": "code",
   "execution_count": 22,
   "id": "0d90806d",
   "metadata": {
    "scrolled": false
   },
   "outputs": [
    {
     "data": {
      "text/plain": [
       "False    38909\n",
       "True     20491\n",
       "Name: is_new, dtype: int64"
      ]
     },
     "execution_count": 22,
     "metadata": {},
     "output_type": "execute_result"
    }
   ],
   "source": [
    "# Binning construction_year into new boolean column is_new with cut-off year 'NewYear'\n",
    "\n",
    "# Set cut-off year\n",
    "NewYear = 2000\n",
    "\n",
    "# Create new boolean column with cut-off year\n",
    "X['is_new'] = X['construction_year'] >= NewYear\n",
    "X.is_new.value_counts()"
   ]
  },
  {
   "cell_type": "code",
   "execution_count": 23,
   "id": "90dc487b",
   "metadata": {
    "scrolled": false
   },
   "outputs": [
    {
     "name": "stderr",
     "output_type": "stream",
     "text": [
      "C:\\Users\\bjere\\anaconda\\lib\\site-packages\\pandas\\core\\indexing.py:1732: SettingWithCopyWarning: \n",
      "A value is trying to be set on a copy of a slice from a DataFrame\n",
      "\n",
      "See the caveats in the documentation: https://pandas.pydata.org/pandas-docs/stable/user_guide/indexing.html#returning-a-view-versus-a-copy\n",
      "  self._setitem_single_block(indexer, value, name)\n"
     ]
    }
   ],
   "source": [
    "# Bin funder\n",
    "\n",
    "X['funder'].loc[X['funder'] != 'Government Of Tanzania'] = 'Other'"
   ]
  },
  {
   "cell_type": "code",
   "execution_count": 24,
   "id": "a148e02f",
   "metadata": {},
   "outputs": [],
   "source": [
    "# Creating new column to bin scheme_management\n",
    "X['scheme_class'] = X['scheme_management']"
   ]
  },
  {
   "cell_type": "code",
   "execution_count": 25,
   "id": "3ede69f8",
   "metadata": {},
   "outputs": [],
   "source": [
    "# Bin scheme_management as scheme_class\n",
    "\n",
    "replace_dict = {'Parastatal' : 'Government',\n",
    "                'Water authority' : 'Government',\n",
    "                'WUA' : 'Government',\n",
    "                'WUG' : 'Government',\n",
    "                'VWC' : 'Government',\n",
    "                'SWC' : 'Government',\n",
    "                'Water Board' : 'Government', \n",
    "                'Private operator' : 'Other',\n",
    "                'Trust' : 'Other',\n",
    "                'Company' : 'Other',\n",
    "                'None' : 'None',\n",
    "                np.NaN : 'None'}\n",
    "\n",
    "X.scheme_class.replace(replace_dict, inplace=True)"
   ]
  },
  {
   "cell_type": "code",
   "execution_count": 26,
   "id": "bbb973c4",
   "metadata": {
    "scrolled": true
   },
   "outputs": [
    {
     "data": {
      "text/plain": [
       "Government    52560\n",
       "None           3878\n",
       "Other          2962\n",
       "Name: scheme_class, dtype: int64"
      ]
     },
     "execution_count": 26,
     "metadata": {},
     "output_type": "execute_result"
    }
   ],
   "source": [
    "X.scheme_class.value_counts()"
   ]
  },
  {
   "cell_type": "code",
   "execution_count": 27,
   "id": "6d1b5eec",
   "metadata": {},
   "outputs": [],
   "source": [
    "## Binning Installer\n",
    "\n",
    "X['installer'] = X.installer.str.upper()"
   ]
  },
  {
   "cell_type": "code",
   "execution_count": 28,
   "id": "9aa831ba",
   "metadata": {
    "scrolled": true
   },
   "outputs": [
    {
     "data": {
      "text/plain": [
       "Government               27013\n",
       "Private                  10101\n",
       "Other                     6895\n",
       "MWE                        157\n",
       "HANDENI TRUNK MAIN(        156\n",
       "                         ...  \n",
       "JAFARY MBAGA                 1\n",
       "SA                           1\n",
       "LULEKA                       1\n",
       "TLC/SELEMAN MANG'OMBE        1\n",
       "SELEPTA                      1\n",
       "Name: installer, Length: 1884, dtype: int64"
      ]
     },
     "execution_count": 28,
     "metadata": {},
     "output_type": "execute_result"
    }
   ],
   "source": [
    "# Consolidating government installers into Government.\n",
    "\n",
    "imputer = {'GOVERNMENT' : 'Government',\n",
    "           'DWE' : 'Government',\n",
    "           'RWE' : 'Government',\n",
    "           'WIZARA  YA MAJI' : 'Government',\n",
    "           'COMMU' : 'Government',\n",
    "           '0' : 'Other',\n",
    "           'DANIDA' : 'Private',\n",
    "           'HESAWA' : 'Private',\n",
    "           'KKKT' : 'Private',\n",
    "           'CENTRAL GOVERNMENT' : 'Government',\n",
    "           'TCRS' : 'Private',\n",
    "           'COMMUNITY' : 'Other',\n",
    "           'CES' : 'Private',\n",
    "           'DANID' : 'Private',\n",
    "           'DISTRICT COUNCIL' : 'Government',\n",
    "           'WORLD VISION' : 'Private',\n",
    "           'LGA' : 'Government',\n",
    "           'WEDECO' : 'Private',\n",
    "           'TASAF' : 'Government',\n",
    "           'GOVER' : 'Government',\n",
    "           'AMREF' : 'Private',\n",
    "           'TWESA' : 'Government',\n",
    "           'WU' : 'Private',\n",
    "           'DMDD' : 'Other',\n",
    "           'ACRA' : 'Private',\n",
    "           'FINI WATER' : 'Other',\n",
    "           'NORAD' : 'Private',\n",
    "           'DA' : 'Government',\n",
    "           'SEMA' : 'Private',\n",
    "           'DW' : 'Other',\n",
    "           'JAICA' : 'Private',\n",
    "           'OXFAM' : 'Private',\n",
    "           'UNICEF' : 'Private',\n",
    "           'SHIPO' : 'Private',\n",
    "           'IDARA YA MAJI' : 'Government',\n",
    "           'GOVE' : 'Government',\n",
    "           'VILLAGERS' : 'Other',\n",
    "           'SENGEREMA WATER DEPARTMENT' : 'Government',\n",
    "           'KILIWATER' : 'Private',\n",
    "           'FINW' : 'Private',\n",
    "           'RC CHURCH' : 'Private',\n",
    "           'DH' : 'Government',\n",
    "           'KUWAIT' : 'Private',\n",
    "           'DWSP' : 'Government',\n",
    "           'DISTRI' : 'Government',\n",
    "           'LAWATEFUKA WATER SUP' : 'Government',\n",
    "           'RC' : 'Government',\n",
    "           'MAGADINI-MAKIWARU WA' : 'Other',\n",
    "           'DISTRICT WATER DEPARTMENT' : 'Government',\n",
    "           'FW' : 'Other',\n",
    "           'KKKT _ KONDE AND DWE' : 'Other',\n",
    "           'PRIVATE' : 'Private',\n",
    "           'CENTR' : 'Other',\n",
    "           'WVT' : 'Private'}\n",
    "\n",
    "X.installer.replace(imputer, inplace=True)\n",
    "X.installer.fillna('Other', inplace=True)\n",
    "\n",
    "X.installer.value_counts()"
   ]
  },
  {
   "cell_type": "code",
   "execution_count": 29,
   "id": "81b5f0a0",
   "metadata": {},
   "outputs": [],
   "source": [
    "# Iterate through remaining values and replace with bulk Other\n",
    "# This column requires more fine-tooth combing regarding binning given that following our brief definition foray,\n",
    "#      there are still 1884 unique rows with < 157 entries that amount to near 20,000, or approximately 30% of the\n",
    "#      full data set's entries. Because of our binning method, Other will likely be oversampled.\n",
    "\n",
    "for i in X['installer'].values:\n",
    "    if i != 'Government':\n",
    "        if i != 'Private':\n",
    "            if i != 'Other':\n",
    "                X.installer.replace({i:'Other'}, inplace=True)"
   ]
  },
  {
   "cell_type": "code",
   "execution_count": 30,
   "id": "cdf77c45",
   "metadata": {},
   "outputs": [
    {
     "data": {
      "text/plain": [
       "Government    27013\n",
       "Other         22286\n",
       "Private       10101\n",
       "Name: installer, dtype: int64"
      ]
     },
     "execution_count": 30,
     "metadata": {},
     "output_type": "execute_result"
    }
   ],
   "source": [
    "X.installer.value_counts()"
   ]
  },
  {
   "cell_type": "markdown",
   "id": "897dbd81",
   "metadata": {},
   "source": [
    "### Dealing with NaNs"
   ]
  },
  {
   "cell_type": "code",
   "execution_count": 33,
   "id": "82da3737",
   "metadata": {},
   "outputs": [
    {
     "name": "stderr",
     "output_type": "stream",
     "text": [
      "C:\\Users\\bjere\\anaconda\\lib\\site-packages\\pandas\\core\\generic.py:6392: SettingWithCopyWarning: \n",
      "A value is trying to be set on a copy of a slice from a DataFrame\n",
      "\n",
      "See the caveats in the documentation: https://pandas.pydata.org/pandas-docs/stable/user_guide/indexing.html#returning-a-view-versus-a-copy\n",
      "  return self._update_inplace(result)\n"
     ]
    }
   ],
   "source": [
    "# Set replacement dictionary for permit NaNs\n",
    "# For column permits we have these values associated with management schemes:\n",
    "#\n",
    "#       Government: we assume true because government entities likely have the political authority to permit wells.\n",
    "#       Other: We assume false because the entity is unknown or not a government entity and errors here effect only\n",
    "#              a small amount of entries.\n",
    "#       None: We assume false because the source either predates permitting or was likely installed without permit \n",
    "#             and errors here effect only a small amount of entries.\n",
    "\n",
    "imputer = {'Government' : True,\n",
    "           'Other' : False,\n",
    "           'None' : False}\n",
    "\n",
    "X.permit.fillna(X.scheme_class.map(imputer), inplace=True)"
   ]
  },
  {
   "cell_type": "code",
   "execution_count": null,
   "id": "86064517",
   "metadata": {},
   "outputs": [],
   "source": []
  },
  {
   "cell_type": "markdown",
   "id": "8b26fcc8",
   "metadata": {},
   "source": [
    "### Column Selection"
   ]
  },
  {
   "cell_type": "code",
   "execution_count": 31,
   "id": "592baca8",
   "metadata": {},
   "outputs": [],
   "source": [
    "# Columns for physical model:\n",
    "cols1 = ['is_new', 'extraction_type_class', 'amount_tsh', 'quantity', \n",
    "         'source_type', 'source_class', 'quality_group', 'population', \n",
    "         'target']\n",
    "\n",
    "# Columns for political model\n",
    "cols2 = ['funder', 'num_private', 'region', 'subvillage', 'scheme_management',\n",
    "         'scheme_class', 'permit', 'payment', 'source', 'installer']"
   ]
  },
  {
   "cell_type": "code",
   "execution_count": 32,
   "id": "4ea0fde9",
   "metadata": {},
   "outputs": [],
   "source": [
    "# Dropping columns we're not interested in or do not make sense for analysis\n",
    "\n",
    "# Set list of kept columns for concatenation with Samira's kept columns\n",
    "keep_cols = cols1 + cols2\n",
    "\n",
    "# New dataframe with kept columns\n",
    "df = X[keep_cols]"
   ]
  },
  {
   "cell_type": "code",
   "execution_count": 34,
   "id": "febd06cb",
   "metadata": {
    "scrolled": true
   },
   "outputs": [
    {
     "data": {
      "text/html": [
       "<div>\n",
       "<style scoped>\n",
       "    .dataframe tbody tr th:only-of-type {\n",
       "        vertical-align: middle;\n",
       "    }\n",
       "\n",
       "    .dataframe tbody tr th {\n",
       "        vertical-align: top;\n",
       "    }\n",
       "\n",
       "    .dataframe thead th {\n",
       "        text-align: right;\n",
       "    }\n",
       "</style>\n",
       "<table border=\"1\" class=\"dataframe\">\n",
       "  <thead>\n",
       "    <tr style=\"text-align: right;\">\n",
       "      <th></th>\n",
       "      <th>is_new</th>\n",
       "      <th>extraction_type_class</th>\n",
       "      <th>amount_tsh</th>\n",
       "      <th>quantity</th>\n",
       "      <th>source_type</th>\n",
       "      <th>source_class</th>\n",
       "      <th>quality_group</th>\n",
       "      <th>population</th>\n",
       "      <th>target</th>\n",
       "      <th>funder</th>\n",
       "      <th>num_private</th>\n",
       "      <th>region</th>\n",
       "      <th>subvillage</th>\n",
       "      <th>scheme_management</th>\n",
       "      <th>scheme_class</th>\n",
       "      <th>permit</th>\n",
       "      <th>payment</th>\n",
       "      <th>source</th>\n",
       "      <th>installer</th>\n",
       "    </tr>\n",
       "  </thead>\n",
       "  <tbody>\n",
       "    <tr>\n",
       "      <th>0</th>\n",
       "      <td>False</td>\n",
       "      <td>gravity</td>\n",
       "      <td>6000.0</td>\n",
       "      <td>enough</td>\n",
       "      <td>spring</td>\n",
       "      <td>groundwater</td>\n",
       "      <td>good</td>\n",
       "      <td>109</td>\n",
       "      <td>functional</td>\n",
       "      <td>Other</td>\n",
       "      <td>0</td>\n",
       "      <td>Iringa</td>\n",
       "      <td>Mnyusi B</td>\n",
       "      <td>VWC</td>\n",
       "      <td>Government</td>\n",
       "      <td>False</td>\n",
       "      <td>pay annually</td>\n",
       "      <td>spring</td>\n",
       "      <td>Other</td>\n",
       "    </tr>\n",
       "    <tr>\n",
       "      <th>1</th>\n",
       "      <td>True</td>\n",
       "      <td>gravity</td>\n",
       "      <td>0.0</td>\n",
       "      <td>insufficient</td>\n",
       "      <td>rainwater harvesting</td>\n",
       "      <td>surface</td>\n",
       "      <td>good</td>\n",
       "      <td>280</td>\n",
       "      <td>functional</td>\n",
       "      <td>Other</td>\n",
       "      <td>0</td>\n",
       "      <td>Mara</td>\n",
       "      <td>Nyamara</td>\n",
       "      <td>Other</td>\n",
       "      <td>Other</td>\n",
       "      <td>True</td>\n",
       "      <td>never pay</td>\n",
       "      <td>rainwater harvesting</td>\n",
       "      <td>Other</td>\n",
       "    </tr>\n",
       "    <tr>\n",
       "      <th>2</th>\n",
       "      <td>True</td>\n",
       "      <td>gravity</td>\n",
       "      <td>25.0</td>\n",
       "      <td>enough</td>\n",
       "      <td>dam</td>\n",
       "      <td>surface</td>\n",
       "      <td>good</td>\n",
       "      <td>250</td>\n",
       "      <td>functional</td>\n",
       "      <td>Other</td>\n",
       "      <td>0</td>\n",
       "      <td>Manyara</td>\n",
       "      <td>Majengo</td>\n",
       "      <td>VWC</td>\n",
       "      <td>Government</td>\n",
       "      <td>True</td>\n",
       "      <td>pay per bucket</td>\n",
       "      <td>dam</td>\n",
       "      <td>Private</td>\n",
       "    </tr>\n",
       "    <tr>\n",
       "      <th>3</th>\n",
       "      <td>False</td>\n",
       "      <td>submersible</td>\n",
       "      <td>0.0</td>\n",
       "      <td>dry</td>\n",
       "      <td>borehole</td>\n",
       "      <td>groundwater</td>\n",
       "      <td>good</td>\n",
       "      <td>58</td>\n",
       "      <td>non functional</td>\n",
       "      <td>Other</td>\n",
       "      <td>0</td>\n",
       "      <td>Mtwara</td>\n",
       "      <td>Mahakamani</td>\n",
       "      <td>VWC</td>\n",
       "      <td>Government</td>\n",
       "      <td>True</td>\n",
       "      <td>never pay</td>\n",
       "      <td>machine dbh</td>\n",
       "      <td>Private</td>\n",
       "    </tr>\n",
       "    <tr>\n",
       "      <th>4</th>\n",
       "      <td>False</td>\n",
       "      <td>gravity</td>\n",
       "      <td>0.0</td>\n",
       "      <td>seasonal</td>\n",
       "      <td>rainwater harvesting</td>\n",
       "      <td>surface</td>\n",
       "      <td>good</td>\n",
       "      <td>0</td>\n",
       "      <td>functional</td>\n",
       "      <td>Other</td>\n",
       "      <td>0</td>\n",
       "      <td>Kagera</td>\n",
       "      <td>Kyanyamisa</td>\n",
       "      <td>NaN</td>\n",
       "      <td>None</td>\n",
       "      <td>True</td>\n",
       "      <td>never pay</td>\n",
       "      <td>rainwater harvesting</td>\n",
       "      <td>Other</td>\n",
       "    </tr>\n",
       "    <tr>\n",
       "      <th>...</th>\n",
       "      <td>...</td>\n",
       "      <td>...</td>\n",
       "      <td>...</td>\n",
       "      <td>...</td>\n",
       "      <td>...</td>\n",
       "      <td>...</td>\n",
       "      <td>...</td>\n",
       "      <td>...</td>\n",
       "      <td>...</td>\n",
       "      <td>...</td>\n",
       "      <td>...</td>\n",
       "      <td>...</td>\n",
       "      <td>...</td>\n",
       "      <td>...</td>\n",
       "      <td>...</td>\n",
       "      <td>...</td>\n",
       "      <td>...</td>\n",
       "      <td>...</td>\n",
       "      <td>...</td>\n",
       "    </tr>\n",
       "    <tr>\n",
       "      <th>59395</th>\n",
       "      <td>False</td>\n",
       "      <td>gravity</td>\n",
       "      <td>10.0</td>\n",
       "      <td>enough</td>\n",
       "      <td>spring</td>\n",
       "      <td>groundwater</td>\n",
       "      <td>good</td>\n",
       "      <td>125</td>\n",
       "      <td>functional</td>\n",
       "      <td>Other</td>\n",
       "      <td>0</td>\n",
       "      <td>Kilimanjaro</td>\n",
       "      <td>Kiduruni</td>\n",
       "      <td>Water Board</td>\n",
       "      <td>Government</td>\n",
       "      <td>True</td>\n",
       "      <td>pay per bucket</td>\n",
       "      <td>spring</td>\n",
       "      <td>Private</td>\n",
       "    </tr>\n",
       "    <tr>\n",
       "      <th>59396</th>\n",
       "      <td>False</td>\n",
       "      <td>gravity</td>\n",
       "      <td>4700.0</td>\n",
       "      <td>enough</td>\n",
       "      <td>river/lake</td>\n",
       "      <td>surface</td>\n",
       "      <td>good</td>\n",
       "      <td>56</td>\n",
       "      <td>functional</td>\n",
       "      <td>Other</td>\n",
       "      <td>0</td>\n",
       "      <td>Iringa</td>\n",
       "      <td>Igumbilo</td>\n",
       "      <td>VWC</td>\n",
       "      <td>Government</td>\n",
       "      <td>True</td>\n",
       "      <td>pay annually</td>\n",
       "      <td>river</td>\n",
       "      <td>Other</td>\n",
       "    </tr>\n",
       "    <tr>\n",
       "      <th>59397</th>\n",
       "      <td>False</td>\n",
       "      <td>handpump</td>\n",
       "      <td>0.0</td>\n",
       "      <td>enough</td>\n",
       "      <td>borehole</td>\n",
       "      <td>groundwater</td>\n",
       "      <td>fluoride</td>\n",
       "      <td>0</td>\n",
       "      <td>functional</td>\n",
       "      <td>Other</td>\n",
       "      <td>0</td>\n",
       "      <td>Mbeya</td>\n",
       "      <td>Madungulu</td>\n",
       "      <td>VWC</td>\n",
       "      <td>Government</td>\n",
       "      <td>False</td>\n",
       "      <td>pay monthly</td>\n",
       "      <td>machine dbh</td>\n",
       "      <td>Other</td>\n",
       "    </tr>\n",
       "    <tr>\n",
       "      <th>59398</th>\n",
       "      <td>False</td>\n",
       "      <td>handpump</td>\n",
       "      <td>0.0</td>\n",
       "      <td>insufficient</td>\n",
       "      <td>shallow well</td>\n",
       "      <td>groundwater</td>\n",
       "      <td>good</td>\n",
       "      <td>0</td>\n",
       "      <td>functional</td>\n",
       "      <td>Other</td>\n",
       "      <td>0</td>\n",
       "      <td>Dodoma</td>\n",
       "      <td>Mwinyi</td>\n",
       "      <td>VWC</td>\n",
       "      <td>Government</td>\n",
       "      <td>True</td>\n",
       "      <td>never pay</td>\n",
       "      <td>shallow well</td>\n",
       "      <td>Other</td>\n",
       "    </tr>\n",
       "    <tr>\n",
       "      <th>59399</th>\n",
       "      <td>True</td>\n",
       "      <td>handpump</td>\n",
       "      <td>0.0</td>\n",
       "      <td>enough</td>\n",
       "      <td>shallow well</td>\n",
       "      <td>groundwater</td>\n",
       "      <td>salty</td>\n",
       "      <td>150</td>\n",
       "      <td>functional</td>\n",
       "      <td>Other</td>\n",
       "      <td>0</td>\n",
       "      <td>Morogoro</td>\n",
       "      <td>Kikatanyemba</td>\n",
       "      <td>VWC</td>\n",
       "      <td>Government</td>\n",
       "      <td>True</td>\n",
       "      <td>pay when scheme fails</td>\n",
       "      <td>shallow well</td>\n",
       "      <td>Other</td>\n",
       "    </tr>\n",
       "  </tbody>\n",
       "</table>\n",
       "<p>59400 rows × 19 columns</p>\n",
       "</div>"
      ],
      "text/plain": [
       "       is_new extraction_type_class  amount_tsh      quantity  \\\n",
       "0       False               gravity      6000.0        enough   \n",
       "1        True               gravity         0.0  insufficient   \n",
       "2        True               gravity        25.0        enough   \n",
       "3       False           submersible         0.0           dry   \n",
       "4       False               gravity         0.0      seasonal   \n",
       "...       ...                   ...         ...           ...   \n",
       "59395   False               gravity        10.0        enough   \n",
       "59396   False               gravity      4700.0        enough   \n",
       "59397   False              handpump         0.0        enough   \n",
       "59398   False              handpump         0.0  insufficient   \n",
       "59399    True              handpump         0.0        enough   \n",
       "\n",
       "                source_type source_class quality_group  population  \\\n",
       "0                    spring  groundwater          good         109   \n",
       "1      rainwater harvesting      surface          good         280   \n",
       "2                       dam      surface          good         250   \n",
       "3                  borehole  groundwater          good          58   \n",
       "4      rainwater harvesting      surface          good           0   \n",
       "...                     ...          ...           ...         ...   \n",
       "59395                spring  groundwater          good         125   \n",
       "59396            river/lake      surface          good          56   \n",
       "59397              borehole  groundwater      fluoride           0   \n",
       "59398          shallow well  groundwater          good           0   \n",
       "59399          shallow well  groundwater         salty         150   \n",
       "\n",
       "               target funder  num_private       region    subvillage  \\\n",
       "0          functional  Other            0       Iringa      Mnyusi B   \n",
       "1          functional  Other            0         Mara       Nyamara   \n",
       "2          functional  Other            0      Manyara       Majengo   \n",
       "3      non functional  Other            0       Mtwara    Mahakamani   \n",
       "4          functional  Other            0       Kagera    Kyanyamisa   \n",
       "...               ...    ...          ...          ...           ...   \n",
       "59395      functional  Other            0  Kilimanjaro      Kiduruni   \n",
       "59396      functional  Other            0       Iringa      Igumbilo   \n",
       "59397      functional  Other            0        Mbeya     Madungulu   \n",
       "59398      functional  Other            0       Dodoma        Mwinyi   \n",
       "59399      functional  Other            0     Morogoro  Kikatanyemba   \n",
       "\n",
       "      scheme_management scheme_class  permit                payment  \\\n",
       "0                   VWC   Government   False           pay annually   \n",
       "1                 Other        Other    True              never pay   \n",
       "2                   VWC   Government    True         pay per bucket   \n",
       "3                   VWC   Government    True              never pay   \n",
       "4                   NaN         None    True              never pay   \n",
       "...                 ...          ...     ...                    ...   \n",
       "59395       Water Board   Government    True         pay per bucket   \n",
       "59396               VWC   Government    True           pay annually   \n",
       "59397               VWC   Government   False            pay monthly   \n",
       "59398               VWC   Government    True              never pay   \n",
       "59399               VWC   Government    True  pay when scheme fails   \n",
       "\n",
       "                     source installer  \n",
       "0                    spring     Other  \n",
       "1      rainwater harvesting     Other  \n",
       "2                       dam   Private  \n",
       "3               machine dbh   Private  \n",
       "4      rainwater harvesting     Other  \n",
       "...                     ...       ...  \n",
       "59395                spring   Private  \n",
       "59396                 river     Other  \n",
       "59397           machine dbh     Other  \n",
       "59398          shallow well     Other  \n",
       "59399          shallow well     Other  \n",
       "\n",
       "[59400 rows x 19 columns]"
      ]
     },
     "execution_count": 34,
     "metadata": {},
     "output_type": "execute_result"
    }
   ],
   "source": [
    "# Display cleaned data frame\n",
    "df"
   ]
  },
  {
   "cell_type": "code",
   "execution_count": 35,
   "id": "d98b5b3f",
   "metadata": {},
   "outputs": [],
   "source": [
    "# Write cleaned dataframe to csv file for modeling\n",
    "\n",
    "df.to_csv(path_or_buf = \"./00_Source_Data/Data/df_clean.csv\", header=True)"
   ]
  },
  {
   "cell_type": "code",
   "execution_count": null,
   "id": "add7dead",
   "metadata": {},
   "outputs": [],
   "source": []
  }
 ],
 "metadata": {
  "kernelspec": {
   "display_name": "Python (learn-env)",
   "language": "python",
   "name": "learn-env"
  },
  "language_info": {
   "codemirror_mode": {
    "name": "ipython",
    "version": 3
   },
   "file_extension": ".py",
   "mimetype": "text/x-python",
   "name": "python",
   "nbconvert_exporter": "python",
   "pygments_lexer": "ipython3",
   "version": "3.9.7"
  }
 },
 "nbformat": 4,
 "nbformat_minor": 5
}
