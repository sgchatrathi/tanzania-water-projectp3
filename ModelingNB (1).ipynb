{
 "cells": [
  {
   "cell_type": "markdown",
   "metadata": {},
   "source": [
    "# Business Understanding\n",
    "\n",
    "Tanzania has struggled with finding a solution to their water crisis for years. Not only is the affordability of clean water an issue, but the infrastructre and maintenance for water has also proven to be a consistent problem for Tanzania. Our stakeholder is Water. Water is a non-government organization that is looking to implement the effectiveness of their water pumps. They want to see how to optimize their time and resources to effectively predict whether a water pump is functional, non existent, or just broken and needs repair. By understanding this distinction, our stakeholder will be able to deploy their resources effectively and efficiently.\n",
    "\n",
    "\n",
    "\n"
   ]
  },
  {
   "cell_type": "code",
   "execution_count": 1,
   "metadata": {},
   "outputs": [],
   "source": [
    "import pandas as pd\n",
    "import numpy as np\n",
    "import seaborn as sns\n",
    "import matplotlib.pyplot as plt"
   ]
  },
  {
   "cell_type": "code",
   "execution_count": 2,
   "metadata": {},
   "outputs": [],
   "source": [
    "df = pd.read_csv('./00_Source_Data/data/df_clean.csv')"
   ]
  },
  {
   "cell_type": "code",
   "execution_count": 3,
   "metadata": {},
   "outputs": [
    {
     "data": {
      "text/html": [
       "<div>\n",
       "<style scoped>\n",
       "    .dataframe tbody tr th:only-of-type {\n",
       "        vertical-align: middle;\n",
       "    }\n",
       "\n",
       "    .dataframe tbody tr th {\n",
       "        vertical-align: top;\n",
       "    }\n",
       "\n",
       "    .dataframe thead th {\n",
       "        text-align: right;\n",
       "    }\n",
       "</style>\n",
       "<table border=\"1\" class=\"dataframe\">\n",
       "  <thead>\n",
       "    <tr style=\"text-align: right;\">\n",
       "      <th></th>\n",
       "      <th>Unnamed: 0</th>\n",
       "      <th>is_new</th>\n",
       "      <th>extraction_type_class</th>\n",
       "      <th>amount_tsh</th>\n",
       "      <th>quantity</th>\n",
       "      <th>source_type</th>\n",
       "      <th>source_class</th>\n",
       "      <th>quality_group</th>\n",
       "      <th>population</th>\n",
       "      <th>target</th>\n",
       "      <th>funder</th>\n",
       "      <th>num_private</th>\n",
       "      <th>region</th>\n",
       "      <th>subvillage</th>\n",
       "      <th>scheme_management</th>\n",
       "      <th>scheme_class</th>\n",
       "      <th>permit</th>\n",
       "      <th>payment</th>\n",
       "      <th>source</th>\n",
       "      <th>installer</th>\n",
       "    </tr>\n",
       "  </thead>\n",
       "  <tbody>\n",
       "    <tr>\n",
       "      <th>0</th>\n",
       "      <td>0</td>\n",
       "      <td>False</td>\n",
       "      <td>gravity</td>\n",
       "      <td>6000.0</td>\n",
       "      <td>enough</td>\n",
       "      <td>spring</td>\n",
       "      <td>groundwater</td>\n",
       "      <td>good</td>\n",
       "      <td>109</td>\n",
       "      <td>functional</td>\n",
       "      <td>Other</td>\n",
       "      <td>0</td>\n",
       "      <td>Iringa</td>\n",
       "      <td>Mnyusi B</td>\n",
       "      <td>VWC</td>\n",
       "      <td>Government</td>\n",
       "      <td>False</td>\n",
       "      <td>pay annually</td>\n",
       "      <td>spring</td>\n",
       "      <td>Other</td>\n",
       "    </tr>\n",
       "    <tr>\n",
       "      <th>1</th>\n",
       "      <td>1</td>\n",
       "      <td>True</td>\n",
       "      <td>gravity</td>\n",
       "      <td>0.0</td>\n",
       "      <td>insufficient</td>\n",
       "      <td>rainwater harvesting</td>\n",
       "      <td>surface</td>\n",
       "      <td>good</td>\n",
       "      <td>280</td>\n",
       "      <td>functional</td>\n",
       "      <td>Other</td>\n",
       "      <td>0</td>\n",
       "      <td>Mara</td>\n",
       "      <td>Nyamara</td>\n",
       "      <td>Other</td>\n",
       "      <td>Other</td>\n",
       "      <td>True</td>\n",
       "      <td>never pay</td>\n",
       "      <td>rainwater harvesting</td>\n",
       "      <td>Other</td>\n",
       "    </tr>\n",
       "    <tr>\n",
       "      <th>2</th>\n",
       "      <td>2</td>\n",
       "      <td>True</td>\n",
       "      <td>gravity</td>\n",
       "      <td>25.0</td>\n",
       "      <td>enough</td>\n",
       "      <td>dam</td>\n",
       "      <td>surface</td>\n",
       "      <td>good</td>\n",
       "      <td>250</td>\n",
       "      <td>functional</td>\n",
       "      <td>Other</td>\n",
       "      <td>0</td>\n",
       "      <td>Manyara</td>\n",
       "      <td>Majengo</td>\n",
       "      <td>VWC</td>\n",
       "      <td>Government</td>\n",
       "      <td>True</td>\n",
       "      <td>pay per bucket</td>\n",
       "      <td>dam</td>\n",
       "      <td>Private</td>\n",
       "    </tr>\n",
       "    <tr>\n",
       "      <th>3</th>\n",
       "      <td>3</td>\n",
       "      <td>False</td>\n",
       "      <td>submersible</td>\n",
       "      <td>0.0</td>\n",
       "      <td>dry</td>\n",
       "      <td>borehole</td>\n",
       "      <td>groundwater</td>\n",
       "      <td>good</td>\n",
       "      <td>58</td>\n",
       "      <td>non functional</td>\n",
       "      <td>Other</td>\n",
       "      <td>0</td>\n",
       "      <td>Mtwara</td>\n",
       "      <td>Mahakamani</td>\n",
       "      <td>VWC</td>\n",
       "      <td>Government</td>\n",
       "      <td>True</td>\n",
       "      <td>never pay</td>\n",
       "      <td>machine dbh</td>\n",
       "      <td>Private</td>\n",
       "    </tr>\n",
       "    <tr>\n",
       "      <th>4</th>\n",
       "      <td>4</td>\n",
       "      <td>False</td>\n",
       "      <td>gravity</td>\n",
       "      <td>0.0</td>\n",
       "      <td>seasonal</td>\n",
       "      <td>rainwater harvesting</td>\n",
       "      <td>surface</td>\n",
       "      <td>good</td>\n",
       "      <td>0</td>\n",
       "      <td>functional</td>\n",
       "      <td>Other</td>\n",
       "      <td>0</td>\n",
       "      <td>Kagera</td>\n",
       "      <td>Kyanyamisa</td>\n",
       "      <td>NaN</td>\n",
       "      <td>None</td>\n",
       "      <td>True</td>\n",
       "      <td>never pay</td>\n",
       "      <td>rainwater harvesting</td>\n",
       "      <td>Other</td>\n",
       "    </tr>\n",
       "  </tbody>\n",
       "</table>\n",
       "</div>"
      ],
      "text/plain": [
       "   Unnamed: 0  is_new extraction_type_class  amount_tsh      quantity  \\\n",
       "0           0   False               gravity      6000.0        enough   \n",
       "1           1    True               gravity         0.0  insufficient   \n",
       "2           2    True               gravity        25.0        enough   \n",
       "3           3   False           submersible         0.0           dry   \n",
       "4           4   False               gravity         0.0      seasonal   \n",
       "\n",
       "            source_type source_class quality_group  population  \\\n",
       "0                spring  groundwater          good         109   \n",
       "1  rainwater harvesting      surface          good         280   \n",
       "2                   dam      surface          good         250   \n",
       "3              borehole  groundwater          good          58   \n",
       "4  rainwater harvesting      surface          good           0   \n",
       "\n",
       "           target funder  num_private   region  subvillage scheme_management  \\\n",
       "0      functional  Other            0   Iringa    Mnyusi B               VWC   \n",
       "1      functional  Other            0     Mara     Nyamara             Other   \n",
       "2      functional  Other            0  Manyara     Majengo               VWC   \n",
       "3  non functional  Other            0   Mtwara  Mahakamani               VWC   \n",
       "4      functional  Other            0   Kagera  Kyanyamisa               NaN   \n",
       "\n",
       "  scheme_class  permit         payment                source installer  \n",
       "0   Government   False    pay annually                spring     Other  \n",
       "1        Other    True       never pay  rainwater harvesting     Other  \n",
       "2   Government    True  pay per bucket                   dam   Private  \n",
       "3   Government    True       never pay           machine dbh   Private  \n",
       "4         None    True       never pay  rainwater harvesting     Other  "
      ]
     },
     "execution_count": 3,
     "metadata": {},
     "output_type": "execute_result"
    }
   ],
   "source": [
    "df.head()"
   ]
  },
  {
   "cell_type": "code",
   "execution_count": 4,
   "metadata": {},
   "outputs": [
    {
     "data": {
      "text/plain": [
       "functional                 32259\n",
       "non functional             22824\n",
       "functional needs repair     4317\n",
       "Name: target, dtype: int64"
      ]
     },
     "execution_count": 4,
     "metadata": {},
     "output_type": "execute_result"
    }
   ],
   "source": [
    "df['target'].value_counts()"
   ]
  },
  {
   "cell_type": "code",
   "execution_count": 5,
   "metadata": {},
   "outputs": [
    {
     "data": {
      "text/plain": [
       "installer   target                 \n",
       "Government  functional                 13629\n",
       "Other       functional                 12547\n",
       "Government  non functional             11029\n",
       "Other       non functional              8346\n",
       "Private     functional                  6083\n",
       "            non functional              3449\n",
       "Government  functional needs repair     2355\n",
       "Other       functional needs repair     1393\n",
       "Private     functional needs repair      569\n",
       "dtype: int64"
      ]
     },
     "execution_count": 5,
     "metadata": {},
     "output_type": "execute_result"
    }
   ],
   "source": [
    "df_perm = df[['installer','target']]\n",
    "df_perm.value_counts()\n",
    "\n"
   ]
  },
  {
   "cell_type": "code",
   "execution_count": 6,
   "metadata": {},
   "outputs": [
    {
     "data": {
      "text/plain": [
       "Other                     50316\n",
       "Government Of Tanzania     9084\n",
       "Name: funder, dtype: int64"
      ]
     },
     "execution_count": 6,
     "metadata": {},
     "output_type": "execute_result"
    }
   ],
   "source": [
    "df['funder'].value_counts()"
   ]
  },
  {
   "cell_type": "code",
   "execution_count": 7,
   "metadata": {},
   "outputs": [
    {
     "data": {
      "text/plain": [
       "Government    52560\n",
       "None           3878\n",
       "Other          2962\n",
       "Name: scheme_class, dtype: int64"
      ]
     },
     "execution_count": 7,
     "metadata": {},
     "output_type": "execute_result"
    }
   ],
   "source": [
    "df['scheme_class'].value_counts()"
   ]
  },
  {
   "cell_type": "code",
   "execution_count": 8,
   "metadata": {},
   "outputs": [
    {
     "data": {
      "text/plain": [
       "Government    27013\n",
       "Other         22286\n",
       "Private       10101\n",
       "Name: installer, dtype: int64"
      ]
     },
     "execution_count": 8,
     "metadata": {},
     "output_type": "execute_result"
    }
   ],
   "source": [
    "df['installer'].value_counts()"
   ]
  },
  {
   "cell_type": "code",
   "execution_count": null,
   "metadata": {},
   "outputs": [],
   "source": []
  },
  {
   "cell_type": "markdown",
   "metadata": {},
   "source": [
    "df.B.fillna(df.A.map(dict))"
   ]
  },
  {
   "cell_type": "code",
   "execution_count": null,
   "metadata": {},
   "outputs": [],
   "source": []
  },
  {
   "cell_type": "code",
   "execution_count": null,
   "metadata": {},
   "outputs": [],
   "source": []
  },
  {
   "cell_type": "markdown",
   "metadata": {},
   "source": [
    "# Dummy Classifier for Political Model"
   ]
  },
  {
   "cell_type": "markdown",
   "metadata": {},
   "source": [
    "We now want to model based of the political factors of our dataset, organizing how political variables affect the overall functionality versus our other physical characteristics. We are also going to use precision as our overall metric as a means of understanding our  false positives."
   ]
  },
  {
   "cell_type": "code",
   "execution_count": null,
   "metadata": {},
   "outputs": [],
   "source": []
  },
  {
   "cell_type": "code",
   "execution_count": 9,
   "metadata": {},
   "outputs": [],
   "source": [
    "political_col = ['funder', 'num_private', 'region', \n",
    "                'scheme_class', 'payment',\n",
    "                 'source','target', 'permit', 'installer']\n",
    "df_pol = df[political_col]\n",
    "\n",
    "\n"
   ]
  },
  {
   "cell_type": "markdown",
   "metadata": {},
   "source": [
    "Our"
   ]
  },
  {
   "cell_type": "code",
   "execution_count": 10,
   "metadata": {},
   "outputs": [
    {
     "data": {
      "image/png": "[encoded data removed]",
      "text/plain": [
       "<Figure size 1080x1800 with 8 Axes>"
      ]
     },
     "metadata": {
      "needs_background": "light"
     },
     "output_type": "display_data"
    }
   ],
   "source": [
    "# Creating a large figure\n",
    "fig = plt.figure(figsize=(15, 25))\n",
    "\n",
    "# Iterating over the different plots\n",
    "for i in range(0, 8):\n",
    "    # Figure number starts at 1\n",
    "    ax = fig.add_subplot(5, 2, i+1)\n",
    "    # Add a title to make it clear what each subplot shows\n",
    "    plt.title(df_pol.columns[i])\n",
    "    # Use alpha to better see crossing pints\n",
    "    ax.scatter(df_pol['target'], df_pol.iloc[:, i], c='teal', alpha=0.1)\n",
    "    # Only show the tick marks for each target\n",
    "    plt.xticks(df_pol.target.unique())"
   ]
  },
  {
   "cell_type": "markdown",
   "metadata": {},
   "source": [
    "Our model shows that we would benefit from a logistic regression in comparison to a linear regression, due to our categorical variables. "
   ]
  },
  {
   "cell_type": "markdown",
   "metadata": {},
   "source": [
    "# Train/Test Split"
   ]
  },
  {
   "cell_type": "code",
   "execution_count": 11,
   "metadata": {},
   "outputs": [],
   "source": [
    "from sklearn.linear_model import LogisticRegression\n",
    "from sklearn.model_selection import train_test_split\n",
    "\n",
    "y = df_pol['target']\n",
    "X = df_pol.drop(columns = ['target'], axis = 1)\n",
    "\n",
    "X_train, X_test, y_train, y_test = train_test_split(X, y, test_size = 0.3, random_state = 42)"
   ]
  },
  {
   "cell_type": "markdown",
   "metadata": {},
   "source": []
  },
  {
   "cell_type": "code",
   "execution_count": 12,
   "metadata": {},
   "outputs": [
    {
     "data": {
      "text/plain": [
       "0.541967291967292"
      ]
     },
     "execution_count": 12,
     "metadata": {},
     "output_type": "execute_result"
    }
   ],
   "source": [
    "from sklearn.dummy import DummyClassifier\n",
    "\n",
    "pol_clf = DummyClassifier(strategy=\"most_frequent\")\n",
    "pol_clf.fit(X_train, y_train)\n",
    "\n",
    "\n",
    "\n",
    "DummyClassifier(strategy='most_frequent')\n",
    "\n",
    "pol_clf.score(X_train, y_train)\n"
   ]
  },
  {
   "cell_type": "markdown",
   "metadata": {},
   "source": [
    "Encode Things:\n",
    "\n",
    "from sklearn.preprocessing import Onehot\n",
    "\n",
    "\n"
   ]
  },
  {
   "cell_type": "code",
   "execution_count": null,
   "metadata": {},
   "outputs": [],
   "source": [
    "\n"
   ]
  },
  {
   "cell_type": "code",
   "execution_count": 13,
   "metadata": {},
   "outputs": [
    {
     "data": {
      "text/plain": [
       "funder          0\n",
       "num_private     0\n",
       "region          0\n",
       "scheme_class    0\n",
       "payment         0\n",
       "source          0\n",
       "permit          0\n",
       "installer       0\n",
       "dtype: int64"
      ]
     },
     "execution_count": 13,
     "metadata": {},
     "output_type": "execute_result"
    }
   ],
   "source": [
    "X_train.isna().sum()"
   ]
  },
  {
   "cell_type": "code",
   "execution_count": null,
   "metadata": {},
   "outputs": [],
   "source": []
  },
  {
   "cell_type": "code",
   "execution_count": 14,
   "metadata": {},
   "outputs": [
    {
     "data": {
      "text/plain": [
       "SimpleImputer(strategy='most_frequent')"
      ]
     },
     "execution_count": 14,
     "metadata": {},
     "output_type": "execute_result"
    }
   ],
   "source": [
    "from sklearn.impute import SimpleImputer\n",
    "\n",
    "imp_mode = SimpleImputer(missing_values= np.nan, strategy='most_frequent')\n",
    "\n",
    "imp_mode.fit(X_train)\n",
    "\n",
    "\n",
    "\n"
   ]
  },
  {
   "cell_type": "code",
   "execution_count": null,
   "metadata": {},
   "outputs": [],
   "source": []
  },
  {
   "cell_type": "code",
   "execution_count": null,
   "metadata": {},
   "outputs": [],
   "source": []
  },
  {
   "cell_type": "code",
   "execution_count": 15,
   "metadata": {},
   "outputs": [],
   "source": [
    "from sklearn.preprocessing import OneHotEncoder\n",
    "\n",
    "ohe = OneHotEncoder(handle_unknown = 'ignore', sparse = False)\n",
    "\n",
    "ohe.fit(X_train)\n",
    "\n",
    "X_train_ohe1 = ohe.transform(X_train)\n",
    "X_train_ohe = pd.DataFrame(X_train_ohe1)\n",
    "X_train_ohe.columns = ohe.get_feature_names(X_train.columns)\n",
    "\n"
   ]
  },
  {
   "cell_type": "code",
   "execution_count": 16,
   "metadata": {},
   "outputs": [
    {
     "data": {
      "text/html": [
       "<div>\n",
       "<style scoped>\n",
       "    .dataframe tbody tr th:only-of-type {\n",
       "        vertical-align: middle;\n",
       "    }\n",
       "\n",
       "    .dataframe tbody tr th {\n",
       "        vertical-align: top;\n",
       "    }\n",
       "\n",
       "    .dataframe thead th {\n",
       "        text-align: right;\n",
       "    }\n",
       "</style>\n",
       "<table border=\"1\" class=\"dataframe\">\n",
       "  <thead>\n",
       "    <tr style=\"text-align: right;\">\n",
       "      <th></th>\n",
       "      <th>funder_Government Of Tanzania</th>\n",
       "      <th>funder_Other</th>\n",
       "      <th>num_private_0</th>\n",
       "      <th>num_private_1</th>\n",
       "      <th>num_private_2</th>\n",
       "      <th>num_private_3</th>\n",
       "      <th>num_private_4</th>\n",
       "      <th>num_private_5</th>\n",
       "      <th>num_private_6</th>\n",
       "      <th>num_private_7</th>\n",
       "      <th>...</th>\n",
       "      <th>source_rainwater harvesting</th>\n",
       "      <th>source_river</th>\n",
       "      <th>source_shallow well</th>\n",
       "      <th>source_spring</th>\n",
       "      <th>source_unknown</th>\n",
       "      <th>permit_False</th>\n",
       "      <th>permit_True</th>\n",
       "      <th>installer_Government</th>\n",
       "      <th>installer_Other</th>\n",
       "      <th>installer_Private</th>\n",
       "    </tr>\n",
       "  </thead>\n",
       "  <tbody>\n",
       "    <tr>\n",
       "      <th>0</th>\n",
       "      <td>0.0</td>\n",
       "      <td>1.0</td>\n",
       "      <td>1.0</td>\n",
       "      <td>0.0</td>\n",
       "      <td>0.0</td>\n",
       "      <td>0.0</td>\n",
       "      <td>0.0</td>\n",
       "      <td>0.0</td>\n",
       "      <td>0.0</td>\n",
       "      <td>0.0</td>\n",
       "      <td>...</td>\n",
       "      <td>0.0</td>\n",
       "      <td>0.0</td>\n",
       "      <td>0.0</td>\n",
       "      <td>1.0</td>\n",
       "      <td>0.0</td>\n",
       "      <td>0.0</td>\n",
       "      <td>1.0</td>\n",
       "      <td>0.0</td>\n",
       "      <td>0.0</td>\n",
       "      <td>1.0</td>\n",
       "    </tr>\n",
       "    <tr>\n",
       "      <th>1</th>\n",
       "      <td>0.0</td>\n",
       "      <td>1.0</td>\n",
       "      <td>1.0</td>\n",
       "      <td>0.0</td>\n",
       "      <td>0.0</td>\n",
       "      <td>0.0</td>\n",
       "      <td>0.0</td>\n",
       "      <td>0.0</td>\n",
       "      <td>0.0</td>\n",
       "      <td>0.0</td>\n",
       "      <td>...</td>\n",
       "      <td>0.0</td>\n",
       "      <td>0.0</td>\n",
       "      <td>1.0</td>\n",
       "      <td>0.0</td>\n",
       "      <td>0.0</td>\n",
       "      <td>1.0</td>\n",
       "      <td>0.0</td>\n",
       "      <td>0.0</td>\n",
       "      <td>0.0</td>\n",
       "      <td>1.0</td>\n",
       "    </tr>\n",
       "    <tr>\n",
       "      <th>2</th>\n",
       "      <td>0.0</td>\n",
       "      <td>1.0</td>\n",
       "      <td>1.0</td>\n",
       "      <td>0.0</td>\n",
       "      <td>0.0</td>\n",
       "      <td>0.0</td>\n",
       "      <td>0.0</td>\n",
       "      <td>0.0</td>\n",
       "      <td>0.0</td>\n",
       "      <td>0.0</td>\n",
       "      <td>...</td>\n",
       "      <td>0.0</td>\n",
       "      <td>0.0</td>\n",
       "      <td>0.0</td>\n",
       "      <td>0.0</td>\n",
       "      <td>0.0</td>\n",
       "      <td>0.0</td>\n",
       "      <td>1.0</td>\n",
       "      <td>0.0</td>\n",
       "      <td>1.0</td>\n",
       "      <td>0.0</td>\n",
       "    </tr>\n",
       "    <tr>\n",
       "      <th>3</th>\n",
       "      <td>0.0</td>\n",
       "      <td>1.0</td>\n",
       "      <td>0.0</td>\n",
       "      <td>0.0</td>\n",
       "      <td>0.0</td>\n",
       "      <td>0.0</td>\n",
       "      <td>0.0</td>\n",
       "      <td>0.0</td>\n",
       "      <td>0.0</td>\n",
       "      <td>0.0</td>\n",
       "      <td>...</td>\n",
       "      <td>0.0</td>\n",
       "      <td>0.0</td>\n",
       "      <td>0.0</td>\n",
       "      <td>1.0</td>\n",
       "      <td>0.0</td>\n",
       "      <td>0.0</td>\n",
       "      <td>1.0</td>\n",
       "      <td>0.0</td>\n",
       "      <td>0.0</td>\n",
       "      <td>1.0</td>\n",
       "    </tr>\n",
       "    <tr>\n",
       "      <th>4</th>\n",
       "      <td>0.0</td>\n",
       "      <td>1.0</td>\n",
       "      <td>1.0</td>\n",
       "      <td>0.0</td>\n",
       "      <td>0.0</td>\n",
       "      <td>0.0</td>\n",
       "      <td>0.0</td>\n",
       "      <td>0.0</td>\n",
       "      <td>0.0</td>\n",
       "      <td>0.0</td>\n",
       "      <td>...</td>\n",
       "      <td>0.0</td>\n",
       "      <td>0.0</td>\n",
       "      <td>0.0</td>\n",
       "      <td>0.0</td>\n",
       "      <td>0.0</td>\n",
       "      <td>1.0</td>\n",
       "      <td>0.0</td>\n",
       "      <td>0.0</td>\n",
       "      <td>0.0</td>\n",
       "      <td>1.0</td>\n",
       "    </tr>\n",
       "    <tr>\n",
       "      <th>...</th>\n",
       "      <td>...</td>\n",
       "      <td>...</td>\n",
       "      <td>...</td>\n",
       "      <td>...</td>\n",
       "      <td>...</td>\n",
       "      <td>...</td>\n",
       "      <td>...</td>\n",
       "      <td>...</td>\n",
       "      <td>...</td>\n",
       "      <td>...</td>\n",
       "      <td>...</td>\n",
       "      <td>...</td>\n",
       "      <td>...</td>\n",
       "      <td>...</td>\n",
       "      <td>...</td>\n",
       "      <td>...</td>\n",
       "      <td>...</td>\n",
       "      <td>...</td>\n",
       "      <td>...</td>\n",
       "      <td>...</td>\n",
       "      <td>...</td>\n",
       "    </tr>\n",
       "    <tr>\n",
       "      <th>41575</th>\n",
       "      <td>0.0</td>\n",
       "      <td>1.0</td>\n",
       "      <td>1.0</td>\n",
       "      <td>0.0</td>\n",
       "      <td>0.0</td>\n",
       "      <td>0.0</td>\n",
       "      <td>0.0</td>\n",
       "      <td>0.0</td>\n",
       "      <td>0.0</td>\n",
       "      <td>0.0</td>\n",
       "      <td>...</td>\n",
       "      <td>0.0</td>\n",
       "      <td>1.0</td>\n",
       "      <td>0.0</td>\n",
       "      <td>0.0</td>\n",
       "      <td>0.0</td>\n",
       "      <td>0.0</td>\n",
       "      <td>1.0</td>\n",
       "      <td>1.0</td>\n",
       "      <td>0.0</td>\n",
       "      <td>0.0</td>\n",
       "    </tr>\n",
       "    <tr>\n",
       "      <th>41576</th>\n",
       "      <td>0.0</td>\n",
       "      <td>1.0</td>\n",
       "      <td>1.0</td>\n",
       "      <td>0.0</td>\n",
       "      <td>0.0</td>\n",
       "      <td>0.0</td>\n",
       "      <td>0.0</td>\n",
       "      <td>0.0</td>\n",
       "      <td>0.0</td>\n",
       "      <td>0.0</td>\n",
       "      <td>...</td>\n",
       "      <td>0.0</td>\n",
       "      <td>0.0</td>\n",
       "      <td>0.0</td>\n",
       "      <td>1.0</td>\n",
       "      <td>0.0</td>\n",
       "      <td>1.0</td>\n",
       "      <td>0.0</td>\n",
       "      <td>0.0</td>\n",
       "      <td>0.0</td>\n",
       "      <td>1.0</td>\n",
       "    </tr>\n",
       "    <tr>\n",
       "      <th>41577</th>\n",
       "      <td>0.0</td>\n",
       "      <td>1.0</td>\n",
       "      <td>1.0</td>\n",
       "      <td>0.0</td>\n",
       "      <td>0.0</td>\n",
       "      <td>0.0</td>\n",
       "      <td>0.0</td>\n",
       "      <td>0.0</td>\n",
       "      <td>0.0</td>\n",
       "      <td>0.0</td>\n",
       "      <td>...</td>\n",
       "      <td>0.0</td>\n",
       "      <td>0.0</td>\n",
       "      <td>1.0</td>\n",
       "      <td>0.0</td>\n",
       "      <td>0.0</td>\n",
       "      <td>1.0</td>\n",
       "      <td>0.0</td>\n",
       "      <td>0.0</td>\n",
       "      <td>1.0</td>\n",
       "      <td>0.0</td>\n",
       "    </tr>\n",
       "    <tr>\n",
       "      <th>41578</th>\n",
       "      <td>0.0</td>\n",
       "      <td>1.0</td>\n",
       "      <td>1.0</td>\n",
       "      <td>0.0</td>\n",
       "      <td>0.0</td>\n",
       "      <td>0.0</td>\n",
       "      <td>0.0</td>\n",
       "      <td>0.0</td>\n",
       "      <td>0.0</td>\n",
       "      <td>0.0</td>\n",
       "      <td>...</td>\n",
       "      <td>0.0</td>\n",
       "      <td>0.0</td>\n",
       "      <td>1.0</td>\n",
       "      <td>0.0</td>\n",
       "      <td>0.0</td>\n",
       "      <td>0.0</td>\n",
       "      <td>1.0</td>\n",
       "      <td>0.0</td>\n",
       "      <td>0.0</td>\n",
       "      <td>1.0</td>\n",
       "    </tr>\n",
       "    <tr>\n",
       "      <th>41579</th>\n",
       "      <td>1.0</td>\n",
       "      <td>0.0</td>\n",
       "      <td>1.0</td>\n",
       "      <td>0.0</td>\n",
       "      <td>0.0</td>\n",
       "      <td>0.0</td>\n",
       "      <td>0.0</td>\n",
       "      <td>0.0</td>\n",
       "      <td>0.0</td>\n",
       "      <td>0.0</td>\n",
       "      <td>...</td>\n",
       "      <td>0.0</td>\n",
       "      <td>0.0</td>\n",
       "      <td>0.0</td>\n",
       "      <td>1.0</td>\n",
       "      <td>0.0</td>\n",
       "      <td>0.0</td>\n",
       "      <td>1.0</td>\n",
       "      <td>1.0</td>\n",
       "      <td>0.0</td>\n",
       "      <td>0.0</td>\n",
       "    </tr>\n",
       "  </tbody>\n",
       "</table>\n",
       "<p>41580 rows × 105 columns</p>\n",
       "</div>"
      ],
      "text/plain": [
       "       funder_Government Of Tanzania  funder_Other  num_private_0  \\\n",
       "0                                0.0           1.0            1.0   \n",
       "1                                0.0           1.0            1.0   \n",
       "2                                0.0           1.0            1.0   \n",
       "3                                0.0           1.0            0.0   \n",
       "4                                0.0           1.0            1.0   \n",
       "...                              ...           ...            ...   \n",
       "41575                            0.0           1.0            1.0   \n",
       "41576                            0.0           1.0            1.0   \n",
       "41577                            0.0           1.0            1.0   \n",
       "41578                            0.0           1.0            1.0   \n",
       "41579                            1.0           0.0            1.0   \n",
       "\n",
       "       num_private_1  num_private_2  num_private_3  num_private_4  \\\n",
       "0                0.0            0.0            0.0            0.0   \n",
       "1                0.0            0.0            0.0            0.0   \n",
       "2                0.0            0.0            0.0            0.0   \n",
       "3                0.0            0.0            0.0            0.0   \n",
       "4                0.0            0.0            0.0            0.0   \n",
       "...              ...            ...            ...            ...   \n",
       "41575            0.0            0.0            0.0            0.0   \n",
       "41576            0.0            0.0            0.0            0.0   \n",
       "41577            0.0            0.0            0.0            0.0   \n",
       "41578            0.0            0.0            0.0            0.0   \n",
       "41579            0.0            0.0            0.0            0.0   \n",
       "\n",
       "       num_private_5  num_private_6  num_private_7  ...  \\\n",
       "0                0.0            0.0            0.0  ...   \n",
       "1                0.0            0.0            0.0  ...   \n",
       "2                0.0            0.0            0.0  ...   \n",
       "3                0.0            0.0            0.0  ...   \n",
       "4                0.0            0.0            0.0  ...   \n",
       "...              ...            ...            ...  ...   \n",
       "41575            0.0            0.0            0.0  ...   \n",
       "41576            0.0            0.0            0.0  ...   \n",
       "41577            0.0            0.0            0.0  ...   \n",
       "41578            0.0            0.0            0.0  ...   \n",
       "41579            0.0            0.0            0.0  ...   \n",
       "\n",
       "       source_rainwater harvesting  source_river  source_shallow well  \\\n",
       "0                              0.0           0.0                  0.0   \n",
       "1                              0.0           0.0                  1.0   \n",
       "2                              0.0           0.0                  0.0   \n",
       "3                              0.0           0.0                  0.0   \n",
       "4                              0.0           0.0                  0.0   \n",
       "...                            ...           ...                  ...   \n",
       "41575                          0.0           1.0                  0.0   \n",
       "41576                          0.0           0.0                  0.0   \n",
       "41577                          0.0           0.0                  1.0   \n",
       "41578                          0.0           0.0                  1.0   \n",
       "41579                          0.0           0.0                  0.0   \n",
       "\n",
       "       source_spring  source_unknown  permit_False  permit_True  \\\n",
       "0                1.0             0.0           0.0          1.0   \n",
       "1                0.0             0.0           1.0          0.0   \n",
       "2                0.0             0.0           0.0          1.0   \n",
       "3                1.0             0.0           0.0          1.0   \n",
       "4                0.0             0.0           1.0          0.0   \n",
       "...              ...             ...           ...          ...   \n",
       "41575            0.0             0.0           0.0          1.0   \n",
       "41576            1.0             0.0           1.0          0.0   \n",
       "41577            0.0             0.0           1.0          0.0   \n",
       "41578            0.0             0.0           0.0          1.0   \n",
       "41579            1.0             0.0           0.0          1.0   \n",
       "\n",
       "       installer_Government  installer_Other  installer_Private  \n",
       "0                       0.0              0.0                1.0  \n",
       "1                       0.0              0.0                1.0  \n",
       "2                       0.0              1.0                0.0  \n",
       "3                       0.0              0.0                1.0  \n",
       "4                       0.0              0.0                1.0  \n",
       "...                     ...              ...                ...  \n",
       "41575                   1.0              0.0                0.0  \n",
       "41576                   0.0              0.0                1.0  \n",
       "41577                   0.0              1.0                0.0  \n",
       "41578                   0.0              0.0                1.0  \n",
       "41579                   1.0              0.0                0.0  \n",
       "\n",
       "[41580 rows x 105 columns]"
      ]
     },
     "execution_count": 16,
     "metadata": {},
     "output_type": "execute_result"
    }
   ],
   "source": [
    "X_train_ohe"
   ]
  },
  {
   "cell_type": "code",
   "execution_count": 17,
   "metadata": {},
   "outputs": [],
   "source": [
    "X_test_ohe1 = ohe.transform(X_train)\n",
    "X_train_ohe = pd.DataFrame(X_train_ohe1)\n",
    "X_train_ohe.columns = ohe.get_feature_names(X_train.columns)"
   ]
  },
  {
   "cell_type": "markdown",
   "metadata": {},
   "source": [
    "# Decision Tree"
   ]
  },
  {
   "cell_type": "code",
   "execution_count": 18,
   "metadata": {},
   "outputs": [
    {
     "data": {
      "text/plain": [
       "DecisionTreeClassifier(criterion='entropy', max_depth=3)"
      ]
     },
     "execution_count": 18,
     "metadata": {},
     "output_type": "execute_result"
    }
   ],
   "source": [
    "from sklearn.model_selection import cross_val_score\n",
    "from sklearn.tree import DecisionTreeClassifier, plot_tree\n",
    "from sklearn.metrics import accuracy_score\n",
    "\n",
    "clf = DecisionTreeClassifier(criterion='entropy', max_depth = 3)\n",
    "\n",
    "clf.fit(X_train_ohe, y_train)"
   ]
  },
  {
   "cell_type": "code",
   "execution_count": 19,
   "metadata": {},
   "outputs": [
    {
     "name": "stdout",
     "output_type": "stream",
     "text": [
      "Accuracy:  0.5902356902356902\n"
     ]
    }
   ],
   "source": [
    "X_test_ohe1 = ohe.transform(X_test)\n",
    "X_test_ohe = pd.DataFrame(X_test_ohe1)\n",
    "X_test_ohe.columns = ohe.get_feature_names(X_test.columns)\n",
    "\n",
    "\n",
    "\n",
    "\n",
    "#X_test_ohe = ohe.transform(X_test)\n",
    "y_preds = clf.predict(X_test_ohe)\n",
    "\n",
    "print('Accuracy: ', accuracy_score(y_test, y_preds))\n",
    "\n",
    "\n",
    "\n",
    "\n"
   ]
  },
  {
   "cell_type": "code",
   "execution_count": 20,
   "metadata": {},
   "outputs": [
    {
     "data": {
      "text/plain": [
       "Index(['funder_Government Of Tanzania', 'funder_Other', 'num_private_0',\n",
       "       'num_private_1', 'num_private_2', 'num_private_3', 'num_private_4',\n",
       "       'num_private_5', 'num_private_6', 'num_private_7',\n",
       "       ...\n",
       "       'source_rainwater harvesting', 'source_river', 'source_shallow well',\n",
       "       'source_spring', 'source_unknown', 'permit_False', 'permit_True',\n",
       "       'installer_Government', 'installer_Other', 'installer_Private'],\n",
       "      dtype='object', length=105)"
      ]
     },
     "execution_count": 20,
     "metadata": {},
     "output_type": "execute_result"
    }
   ],
   "source": [
    "ohecols = pd.DataFrame(X_train_ohe)\n",
    "ohecols.columns"
   ]
  },
  {
   "cell_type": "code",
   "execution_count": 21,
   "metadata": {},
   "outputs": [
    {
     "data": {
      "image/png": "[encoded data removed]",
      "text/plain": [
       "<Figure size 900x900 with 1 Axes>"
      ]
     },
     "metadata": {
      "needs_background": "light"
     },
     "output_type": "display_data"
    }
   ],
   "source": [
    "fig, axes = plt.subplots(nrows = 1,ncols =1 , figsize = (3,3), dpi=300)\n",
    "plot_tree(clf,\n",
    "               feature_names = X_train_ohe.columns, \n",
    "               class_names=np.unique(y).astype('str'),\n",
    "               filled = True)\n",
    "plt.show()"
   ]
  },
  {
   "cell_type": "markdown",
   "metadata": {},
   "source": [
    "payment, Region, permit, and source "
   ]
  },
  {
   "cell_type": "markdown",
   "metadata": {},
   "source": [
    "# Simple Logistic Regression"
   ]
  },
  {
   "cell_type": "code",
   "execution_count": 22,
   "metadata": {},
   "outputs": [],
   "source": [
    "log_cols1 = ['permit', 'region', 'payment', 'source']\n",
    "\n",
    "logx_train = X_train[log_cols1]\n",
    "logx_test = X_test[log_cols1]\n",
    "\n",
    "\n",
    "\n"
   ]
  },
  {
   "cell_type": "code",
   "execution_count": 23,
   "metadata": {},
   "outputs": [],
   "source": [
    "ohe.fit(logx_train)\n",
    "\n",
    "logx_train_ohe1 = ohe.transform(logx_train)\n",
    "logx_train_ohe = pd.DataFrame(logx_train_ohe1)\n",
    "logx_train_ohe.columns = ohe.get_feature_names(logx_train.columns)\n",
    "\n",
    "logx_test_ohe1 = ohe.transform(logx_test)\n",
    "logx_test_ohe = pd.DataFrame(logx_test_ohe1)\n",
    "logx_test_ohe.columns = ohe.get_feature_names(logx_test.columns)\n"
   ]
  },
  {
   "cell_type": "code",
   "execution_count": 24,
   "metadata": {},
   "outputs": [
    {
     "name": "stderr",
     "output_type": "stream",
     "text": [
      "C:\\Users\\bjere\\anaconda\\lib\\site-packages\\sklearn\\metrics\\_classification.py:1248: UndefinedMetricWarning: Precision is ill-defined and being set to 0.0 in labels with no predicted samples. Use `zero_division` parameter to control this behavior.\n",
      "  _warn_prf(average, modifier, msg_start, len(result))\n"
     ]
    },
    {
     "data": {
      "text/plain": [
       "0.5707297112116004"
      ]
     },
     "execution_count": 24,
     "metadata": {},
     "output_type": "execute_result"
    }
   ],
   "source": [
    "from sklearn.linear_model import LogisticRegression\n",
    "from sklearn.metrics import precision_score # we care about the false positive\n",
    "\n",
    "logreg = LogisticRegression(fit_intercept=False, C=1e12, solver='liblinear')\n",
    "\n",
    "\n",
    "\n",
    "\n",
    "model_log = logreg.fit(logx_train_ohe, y_train)\n",
    "model_log\n",
    "\n",
    "\n",
    "y_hat_test = logreg.predict(logx_test_ohe)\n",
    "y_hat_train = logreg.predict(logx_train_ohe)\n",
    "\n",
    "\n",
    "precision_score(y_test, y_hat_test, average ='weighted')\n"
   ]
  },
  {
   "cell_type": "code",
   "execution_count": 25,
   "metadata": {},
   "outputs": [],
   "source": [
    "df_target = df['target'] == 1"
   ]
  },
  {
   "cell_type": "code",
   "execution_count": 26,
   "metadata": {
    "scrolled": true
   },
   "outputs": [
    {
     "data": {
      "text/plain": [
       "False    59400\n",
       "Name: target, dtype: int64"
      ]
     },
     "execution_count": 26,
     "metadata": {},
     "output_type": "execute_result"
    }
   ],
   "source": [
    "df_target.value_counts()"
   ]
  },
  {
   "cell_type": "code",
   "execution_count": 28,
   "metadata": {},
   "outputs": [],
   "source": [
    "# import related libraries\n",
    "from sklearn.naive_bayes import GaussianNB"
   ]
  },
  {
   "cell_type": "code",
   "execution_count": 30,
   "metadata": {},
   "outputs": [
    {
     "name": "stdout",
     "output_type": "stream",
     "text": [
      "training precision: 0.6587645950986769\n",
      "validation precision: 0.5702020771677829\n"
     ]
    }
   ],
   "source": [
    "clf = GaussianNB()\n",
    "clf.fit(X_train_ohe, y_train)\n",
    "\n",
    "print(f\"training precision: {precision_score(y_train, clf.predict(X_train_ohe), average='weighted')}\")\n",
    "print(f\"validation precision: {precision_score(y_test, clf.predict(X_test_ohe), average='weighted')}\")\n"
   ]
  },
  {
   "cell_type": "code",
   "execution_count": 34,
   "metadata": {},
   "outputs": [
    {
     "data": {
      "text/plain": [
       "['functional', 'functional needs repair', 'non functional']"
      ]
     },
     "execution_count": 34,
     "metadata": {},
     "output_type": "execute_result"
    }
   ],
   "source": [
    "func_prior = 32259/59400\n",
    "non_funcprior = 22824/59400\n",
    "func_need_repair = 4317/59400\n",
    "\n",
    "classes = []\n",
    "\n",
    "for i in clf.classes_:\n",
    "    classes.append(i)\n",
    "    \n",
    "classes"
   ]
  },
  {
   "cell_type": "code",
   "execution_count": 35,
   "metadata": {
    "scrolled": true
   },
   "outputs": [
    {
     "data": {
      "text/plain": [
       "{'functional': 0.543080808080808,\n",
       " 'functional needs repair': 0.07267676767676767,\n",
       " 'non functional': 0.3842424242424242}"
      ]
     },
     "execution_count": 35,
     "metadata": {},
     "output_type": "execute_result"
    }
   ],
   "source": [
    "prec = [func_prior, func_need_repair, non_funcprior]\n",
    "\n",
    "priors = dict(zip(classes, prec))\n",
    "\n",
    "priors"
   ]
  },
  {
   "cell_type": "code",
   "execution_count": 37,
   "metadata": {},
   "outputs": [
    {
     "name": "stderr",
     "output_type": "stream",
     "text": [
      "C:\\Users\\bjere\\anaconda\\lib\\site-packages\\sklearn\\utils\\validation.py:70: FutureWarning: Pass priors=[0.543080808080808, 0.07267676767676767, 0.3842424242424242] as keyword args. From version 1.0 (renaming of 0.25) passing these as positional arguments will result in an error\n",
      "  warnings.warn(f\"Pass {args_msg} as keyword args. From version \"\n"
     ]
    },
    {
     "name": "stdout",
     "output_type": "stream",
     "text": [
      "training precision: 0.6587645950986769\n",
      "validation precision: 0.5702020771677829\n"
     ]
    }
   ],
   "source": [
    "clf = GaussianNB(prec)\n",
    "clf.fit(X_train_ohe, y_train)\n",
    "\n",
    "print(f\"training precision: {precision_score(y_train, clf.predict(X_train_ohe), average='weighted')}\")\n",
    "print(f\"validation precision: {precision_score(y_test, clf.predict(X_test_ohe), average='weighted')}\")"
   ]
  },
  {
   "cell_type": "code",
   "execution_count": null,
   "metadata": {},
   "outputs": [],
   "source": []
  }
 ],
 "metadata": {
  "kernelspec": {
   "display_name": "Python (learn-env)",
   "language": "python",
   "name": "learn-env"
  },
  "language_info": {
   "codemirror_mode": {
    "name": "ipython",
    "version": 3
   },
   "file_extension": ".py",
   "mimetype": "text/x-python",
   "name": "python",
   "nbconvert_exporter": "python",
   "pygments_lexer": "ipython3",
   "version": "3.9.7"
  }
 },
 "nbformat": 4,
 "nbformat_minor": 4
}
