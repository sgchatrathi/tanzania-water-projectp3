{
 "cells": [
  {
   "cell_type": "markdown",
   "metadata": {},
   "source": [
    "# Classifying Well Functionality in Tanzania"
   ]
  },
  {
   "cell_type": "markdown",
   "metadata": {},
   "source": [
    "#### Why model well functionality in Tanzania?\n",
    "\n",
    "Tanzania has struggled with finding a solution to their water crisis for years. Not only is the affordability of clean water an issue, but the infrastructure and maintenance for water has also proven to be a consistent problem for Tanzania. As a means of supporting Tanzania's sustainable development, this ongoing issue needs to be fundamentally reevaluated. Our stakeholder is Water.org, a non-government organization that is looking to implement a vast manageable amount of water pumps within the country. Before deploying teams into Tanzania blindly, they want to see how they can optimize their time and resources to effectively predict whether a water pump is functional, non existent, or just broken and needs repair. Not only is Water.org focusing on fixing non functional wells themselves, but they are also focusing on prioritizing efficiency and optimizing long term scalability."
   ]
  },
  {
   "cell_type": "code",
   "execution_count": 1,
   "metadata": {},
   "outputs": [],
   "source": [
    "# Importing relevant libraries for data exploration and cleaning\n",
    "import numpy as np\n",
    "import pandas as pd"
   ]
  },
  {
   "cell_type": "code",
   "execution_count": 2,
   "metadata": {},
   "outputs": [
    {
     "data": {
      "text/html": [
       "<div>\n",
       "<style scoped>\n",
       "    .dataframe tbody tr th:only-of-type {\n",
       "        vertical-align: middle;\n",
       "    }\n",
       "\n",
       "    .dataframe tbody tr th {\n",
       "        vertical-align: top;\n",
       "    }\n",
       "\n",
       "    .dataframe thead th {\n",
       "        text-align: right;\n",
       "    }\n",
       "</style>\n",
       "<table border=\"1\" class=\"dataframe\">\n",
       "  <thead>\n",
       "    <tr style=\"text-align: right;\">\n",
       "      <th></th>\n",
       "      <th>id</th>\n",
       "      <th>amount_tsh</th>\n",
       "      <th>date_recorded</th>\n",
       "      <th>funder</th>\n",
       "      <th>gps_height</th>\n",
       "      <th>installer</th>\n",
       "      <th>longitude</th>\n",
       "      <th>latitude</th>\n",
       "      <th>wpt_name</th>\n",
       "      <th>num_private</th>\n",
       "      <th>...</th>\n",
       "      <th>payment_type</th>\n",
       "      <th>water_quality</th>\n",
       "      <th>quality_group</th>\n",
       "      <th>quantity</th>\n",
       "      <th>quantity_group</th>\n",
       "      <th>source</th>\n",
       "      <th>source_type</th>\n",
       "      <th>source_class</th>\n",
       "      <th>waterpoint_type</th>\n",
       "      <th>waterpoint_type_group</th>\n",
       "    </tr>\n",
       "  </thead>\n",
       "  <tbody>\n",
       "    <tr>\n",
       "      <th>0</th>\n",
       "      <td>69572</td>\n",
       "      <td>6000.0</td>\n",
       "      <td>2011-03-14</td>\n",
       "      <td>Roman</td>\n",
       "      <td>1390</td>\n",
       "      <td>Roman</td>\n",
       "      <td>34.938093</td>\n",
       "      <td>-9.856322</td>\n",
       "      <td>none</td>\n",
       "      <td>0</td>\n",
       "      <td>...</td>\n",
       "      <td>annually</td>\n",
       "      <td>soft</td>\n",
       "      <td>good</td>\n",
       "      <td>enough</td>\n",
       "      <td>enough</td>\n",
       "      <td>spring</td>\n",
       "      <td>spring</td>\n",
       "      <td>groundwater</td>\n",
       "      <td>communal standpipe</td>\n",
       "      <td>communal standpipe</td>\n",
       "    </tr>\n",
       "    <tr>\n",
       "      <th>1</th>\n",
       "      <td>8776</td>\n",
       "      <td>0.0</td>\n",
       "      <td>2013-03-06</td>\n",
       "      <td>Grumeti</td>\n",
       "      <td>1399</td>\n",
       "      <td>GRUMETI</td>\n",
       "      <td>34.698766</td>\n",
       "      <td>-2.147466</td>\n",
       "      <td>Zahanati</td>\n",
       "      <td>0</td>\n",
       "      <td>...</td>\n",
       "      <td>never pay</td>\n",
       "      <td>soft</td>\n",
       "      <td>good</td>\n",
       "      <td>insufficient</td>\n",
       "      <td>insufficient</td>\n",
       "      <td>rainwater harvesting</td>\n",
       "      <td>rainwater harvesting</td>\n",
       "      <td>surface</td>\n",
       "      <td>communal standpipe</td>\n",
       "      <td>communal standpipe</td>\n",
       "    </tr>\n",
       "    <tr>\n",
       "      <th>2</th>\n",
       "      <td>34310</td>\n",
       "      <td>25.0</td>\n",
       "      <td>2013-02-25</td>\n",
       "      <td>Lottery Club</td>\n",
       "      <td>686</td>\n",
       "      <td>World vision</td>\n",
       "      <td>37.460664</td>\n",
       "      <td>-3.821329</td>\n",
       "      <td>Kwa Mahundi</td>\n",
       "      <td>0</td>\n",
       "      <td>...</td>\n",
       "      <td>per bucket</td>\n",
       "      <td>soft</td>\n",
       "      <td>good</td>\n",
       "      <td>enough</td>\n",
       "      <td>enough</td>\n",
       "      <td>dam</td>\n",
       "      <td>dam</td>\n",
       "      <td>surface</td>\n",
       "      <td>communal standpipe multiple</td>\n",
       "      <td>communal standpipe</td>\n",
       "    </tr>\n",
       "    <tr>\n",
       "      <th>3</th>\n",
       "      <td>67743</td>\n",
       "      <td>0.0</td>\n",
       "      <td>2013-01-28</td>\n",
       "      <td>Unicef</td>\n",
       "      <td>263</td>\n",
       "      <td>UNICEF</td>\n",
       "      <td>38.486161</td>\n",
       "      <td>-11.155298</td>\n",
       "      <td>Zahanati Ya Nanyumbu</td>\n",
       "      <td>0</td>\n",
       "      <td>...</td>\n",
       "      <td>never pay</td>\n",
       "      <td>soft</td>\n",
       "      <td>good</td>\n",
       "      <td>dry</td>\n",
       "      <td>dry</td>\n",
       "      <td>machine dbh</td>\n",
       "      <td>borehole</td>\n",
       "      <td>groundwater</td>\n",
       "      <td>communal standpipe multiple</td>\n",
       "      <td>communal standpipe</td>\n",
       "    </tr>\n",
       "    <tr>\n",
       "      <th>4</th>\n",
       "      <td>19728</td>\n",
       "      <td>0.0</td>\n",
       "      <td>2011-07-13</td>\n",
       "      <td>Action In A</td>\n",
       "      <td>0</td>\n",
       "      <td>Artisan</td>\n",
       "      <td>31.130847</td>\n",
       "      <td>-1.825359</td>\n",
       "      <td>Shuleni</td>\n",
       "      <td>0</td>\n",
       "      <td>...</td>\n",
       "      <td>never pay</td>\n",
       "      <td>soft</td>\n",
       "      <td>good</td>\n",
       "      <td>seasonal</td>\n",
       "      <td>seasonal</td>\n",
       "      <td>rainwater harvesting</td>\n",
       "      <td>rainwater harvesting</td>\n",
       "      <td>surface</td>\n",
       "      <td>communal standpipe</td>\n",
       "      <td>communal standpipe</td>\n",
       "    </tr>\n",
       "  </tbody>\n",
       "</table>\n",
       "<p>5 rows × 40 columns</p>\n",
       "</div>"
      ],
      "text/plain": [
       "      id  amount_tsh date_recorded        funder  gps_height     installer  \\\n",
       "0  69572      6000.0    2011-03-14         Roman        1390         Roman   \n",
       "1   8776         0.0    2013-03-06       Grumeti        1399       GRUMETI   \n",
       "2  34310        25.0    2013-02-25  Lottery Club         686  World vision   \n",
       "3  67743         0.0    2013-01-28        Unicef         263        UNICEF   \n",
       "4  19728         0.0    2011-07-13   Action In A           0       Artisan   \n",
       "\n",
       "   longitude   latitude              wpt_name  num_private  ... payment_type  \\\n",
       "0  34.938093  -9.856322                  none            0  ...     annually   \n",
       "1  34.698766  -2.147466              Zahanati            0  ...    never pay   \n",
       "2  37.460664  -3.821329           Kwa Mahundi            0  ...   per bucket   \n",
       "3  38.486161 -11.155298  Zahanati Ya Nanyumbu            0  ...    never pay   \n",
       "4  31.130847  -1.825359               Shuleni            0  ...    never pay   \n",
       "\n",
       "  water_quality quality_group      quantity  quantity_group  \\\n",
       "0          soft          good        enough          enough   \n",
       "1          soft          good  insufficient    insufficient   \n",
       "2          soft          good        enough          enough   \n",
       "3          soft          good           dry             dry   \n",
       "4          soft          good      seasonal        seasonal   \n",
       "\n",
       "                 source           source_type  source_class  \\\n",
       "0                spring                spring   groundwater   \n",
       "1  rainwater harvesting  rainwater harvesting       surface   \n",
       "2                   dam                   dam       surface   \n",
       "3           machine dbh              borehole   groundwater   \n",
       "4  rainwater harvesting  rainwater harvesting       surface   \n",
       "\n",
       "               waterpoint_type waterpoint_type_group  \n",
       "0           communal standpipe    communal standpipe  \n",
       "1           communal standpipe    communal standpipe  \n",
       "2  communal standpipe multiple    communal standpipe  \n",
       "3  communal standpipe multiple    communal standpipe  \n",
       "4           communal standpipe    communal standpipe  \n",
       "\n",
       "[5 rows x 40 columns]"
      ]
     },
     "execution_count": 2,
     "metadata": {},
     "output_type": "execute_result"
    }
   ],
   "source": [
    "# Pull unmodified data into notebook\n",
    "\n",
    "X = pd.read_csv('./data/DrivenData/X_train.csv')\n",
    "y = pd.read_csv('./data/DrivenData/y_train.csv')\n",
    "X.head()"
   ]
  },
  {
   "cell_type": "markdown",
   "metadata": {},
   "source": [
    "## Interested Columns and Descriptions"
   ]
  },
  {
   "cell_type": "markdown",
   "metadata": {},
   "source": [
    "### Water Quality\n",
    "\n",
    "Water quality is non-parametric and describes the condition of the water.\n",
    "\n",
    "This attribute is also summarized in the `quality_group` column.\n",
    "\n",
    "The quality of the water may be an important factor in determining the longevity of the pump."
   ]
  },
  {
   "cell_type": "code",
   "execution_count": 3,
   "metadata": {},
   "outputs": [
    {
     "data": {
      "text/plain": [
       "soft                  50818\n",
       "salty                  4856\n",
       "unknown                1876\n",
       "milky                   804\n",
       "coloured                490\n",
       "salty abandoned         339\n",
       "fluoride                200\n",
       "fluoride abandoned       17\n",
       "Name: water_quality, dtype: int64"
      ]
     },
     "execution_count": 3,
     "metadata": {},
     "output_type": "execute_result"
    }
   ],
   "source": [
    "X.water_quality.value_counts()"
   ]
  },
  {
   "cell_type": "code",
   "execution_count": 4,
   "metadata": {},
   "outputs": [
    {
     "data": {
      "text/plain": [
       "good        50818\n",
       "salty        5195\n",
       "unknown      1876\n",
       "milky         804\n",
       "colored       490\n",
       "fluoride      217\n",
       "Name: quality_group, dtype: int64"
      ]
     },
     "execution_count": 4,
     "metadata": {},
     "output_type": "execute_result"
    }
   ],
   "source": [
    "X.quality_group.value_counts()"
   ]
  },
  {
   "cell_type": "markdown",
   "metadata": {},
   "source": [
    "With 50818 under `good` quality, we have a very large class imbalance and its likely we won't see a difference between water quality in functional and non-functional wells. Tanzania's water, in general, appears to be in relatively good quality."
   ]
  },
  {
   "cell_type": "markdown",
   "metadata": {},
   "source": [
    "### Construction Year\n",
    "\n",
    "The older a pump is, the more time the mechanisms and piping have had to erode. I postulate that an older pump is more likely to be in need or maintenance than a newer pump.\n",
    "\n",
    "There is a problem with this data column:\n",
    "- 20709 of our observations are NaN.\n",
    "- Older pumps have fewer observations\n",
    "\n",
    "We may be able to reconcile this data by binning pipes by age into 'New' and 'Old' pipes, where 'Old' is defined by some cut-off year. It is also likely that a large portion (or all) of our NaNs will fall into the 'Old' category, allowing us to impute our missing data with likely information without referencing other parameters."
   ]
  },
  {
   "cell_type": "code",
   "execution_count": 5,
   "metadata": {
    "scrolled": true
   },
   "outputs": [
    {
     "data": {
      "text/plain": [
       "count    59400.000000\n",
       "mean      1300.652475\n",
       "std        951.620547\n",
       "min          0.000000\n",
       "25%          0.000000\n",
       "50%       1986.000000\n",
       "75%       2004.000000\n",
       "max       2013.000000\n",
       "Name: construction_year, dtype: float64"
      ]
     },
     "execution_count": 5,
     "metadata": {},
     "output_type": "execute_result"
    }
   ],
   "source": [
    "X.construction_year.describe()"
   ]
  },
  {
   "cell_type": "markdown",
   "metadata": {},
   "source": [
    "According to our research, wells start requiring regular maintenance after 5 years of use. Unfortunately, nearly a third of our observations are entered as a default `0`. The age of these `0` year wells are indeterminate, and with such a large number of them in the set, we don't feel comfortable imputing such a large amount of unreconcilable data."
   ]
  },
  {
   "cell_type": "markdown",
   "metadata": {},
   "source": [
    "### Source\n",
    "\n",
    "Source may be important as it would determine the mechanism of the pump. A bore hole ground water pump will be designed differently than a rain water collecting pump. These mechanisms will have different specifications regarding wear and corrosion and may lead to different statuses given our algorithm."
   ]
  },
  {
   "cell_type": "code",
   "execution_count": 6,
   "metadata": {},
   "outputs": [
    {
     "data": {
      "text/html": [
       "<div>\n",
       "<style scoped>\n",
       "    .dataframe tbody tr th:only-of-type {\n",
       "        vertical-align: middle;\n",
       "    }\n",
       "\n",
       "    .dataframe tbody tr th {\n",
       "        vertical-align: top;\n",
       "    }\n",
       "\n",
       "    .dataframe thead th {\n",
       "        text-align: right;\n",
       "    }\n",
       "</style>\n",
       "<table border=\"1\" class=\"dataframe\">\n",
       "  <thead>\n",
       "    <tr style=\"text-align: right;\">\n",
       "      <th></th>\n",
       "      <th>source</th>\n",
       "      <th>source_type</th>\n",
       "      <th>source_class</th>\n",
       "    </tr>\n",
       "  </thead>\n",
       "  <tbody>\n",
       "    <tr>\n",
       "      <th>0</th>\n",
       "      <td>spring</td>\n",
       "      <td>spring</td>\n",
       "      <td>groundwater</td>\n",
       "    </tr>\n",
       "    <tr>\n",
       "      <th>1</th>\n",
       "      <td>rainwater harvesting</td>\n",
       "      <td>rainwater harvesting</td>\n",
       "      <td>surface</td>\n",
       "    </tr>\n",
       "    <tr>\n",
       "      <th>2</th>\n",
       "      <td>dam</td>\n",
       "      <td>dam</td>\n",
       "      <td>surface</td>\n",
       "    </tr>\n",
       "    <tr>\n",
       "      <th>3</th>\n",
       "      <td>machine dbh</td>\n",
       "      <td>borehole</td>\n",
       "      <td>groundwater</td>\n",
       "    </tr>\n",
       "    <tr>\n",
       "      <th>4</th>\n",
       "      <td>rainwater harvesting</td>\n",
       "      <td>rainwater harvesting</td>\n",
       "      <td>surface</td>\n",
       "    </tr>\n",
       "  </tbody>\n",
       "</table>\n",
       "</div>"
      ],
      "text/plain": [
       "                 source           source_type source_class\n",
       "0                spring                spring  groundwater\n",
       "1  rainwater harvesting  rainwater harvesting      surface\n",
       "2                   dam                   dam      surface\n",
       "3           machine dbh              borehole  groundwater\n",
       "4  rainwater harvesting  rainwater harvesting      surface"
      ]
     },
     "execution_count": 6,
     "metadata": {},
     "output_type": "execute_result"
    }
   ],
   "source": [
    "X_source = X[[ 'source', 'source_type', 'source_class']]\n",
    "X_source.head()"
   ]
  },
  {
   "cell_type": "code",
   "execution_count": 7,
   "metadata": {},
   "outputs": [
    {
     "data": {
      "text/plain": [
       "source                source_type           source_class\n",
       "spring                spring                groundwater     17021\n",
       "shallow well          shallow well          groundwater     16824\n",
       "machine dbh           borehole              groundwater     11075\n",
       "river                 river/lake            surface          9612\n",
       "rainwater harvesting  rainwater harvesting  surface          2295\n",
       "hand dtw              borehole              groundwater       874\n",
       "lake                  river/lake            surface           765\n",
       "dam                   dam                   surface           656\n",
       "other                 other                 unknown           212\n",
       "unknown               other                 unknown            66\n",
       "dtype: int64"
      ]
     },
     "execution_count": 7,
     "metadata": {},
     "output_type": "execute_result"
    }
   ],
   "source": [
    "X_source.value_counts()"
   ]
  },
  {
   "cell_type": "code",
   "execution_count": 8,
   "metadata": {},
   "outputs": [
    {
     "data": {
      "text/html": [
       "<div>\n",
       "<style scoped>\n",
       "    .dataframe tbody tr th:only-of-type {\n",
       "        vertical-align: middle;\n",
       "    }\n",
       "\n",
       "    .dataframe tbody tr th {\n",
       "        vertical-align: top;\n",
       "    }\n",
       "\n",
       "    .dataframe thead th {\n",
       "        text-align: right;\n",
       "    }\n",
       "</style>\n",
       "<table border=\"1\" class=\"dataframe\">\n",
       "  <thead>\n",
       "    <tr style=\"text-align: right;\">\n",
       "      <th></th>\n",
       "      <th>source</th>\n",
       "      <th>source_type</th>\n",
       "      <th>source_class</th>\n",
       "    </tr>\n",
       "  </thead>\n",
       "  <tbody>\n",
       "    <tr>\n",
       "      <th>count</th>\n",
       "      <td>59400</td>\n",
       "      <td>59400</td>\n",
       "      <td>59400</td>\n",
       "    </tr>\n",
       "    <tr>\n",
       "      <th>unique</th>\n",
       "      <td>10</td>\n",
       "      <td>7</td>\n",
       "      <td>3</td>\n",
       "    </tr>\n",
       "    <tr>\n",
       "      <th>top</th>\n",
       "      <td>spring</td>\n",
       "      <td>spring</td>\n",
       "      <td>groundwater</td>\n",
       "    </tr>\n",
       "    <tr>\n",
       "      <th>freq</th>\n",
       "      <td>17021</td>\n",
       "      <td>17021</td>\n",
       "      <td>45794</td>\n",
       "    </tr>\n",
       "  </tbody>\n",
       "</table>\n",
       "</div>"
      ],
      "text/plain": [
       "        source source_type source_class\n",
       "count    59400       59400        59400\n",
       "unique      10           7            3\n",
       "top     spring      spring  groundwater\n",
       "freq     17021       17021        45794"
      ]
     },
     "execution_count": 8,
     "metadata": {},
     "output_type": "execute_result"
    }
   ],
   "source": [
    "X_source.describe()"
   ]
  },
  {
   "cell_type": "markdown",
   "metadata": {},
   "source": [
    "Source requires some cleaning given the use of both unknown and other in some categories. We decided to use these predictors in our final data set."
   ]
  },
  {
   "cell_type": "markdown",
   "metadata": {},
   "source": [
    "### Inflow / Outflow\n",
    "\n",
    "The column `amount_tsh` is defined as \"Total static head (amount water available to waterpoint)\".\n",
    "\n",
    "By using `amount_tsh` and `quantity` or `quantity_group` we may get some idea of whether or not the pump is working properly. As a pump that has water to draw but is not drawing water is likely in need of maintenance.\n",
    "\n",
    "`quantity_group` and `quantity` are the same. We will drop `quantity_group` because it has the most characters in the column name.\n",
    "\n",
    "`amount_tsh` may be problematic because of the amount of `0` inputs that cannot be differentiated from NaN or 0. May remove later because of this."
   ]
  },
  {
   "cell_type": "code",
   "execution_count": 9,
   "metadata": {
    "scrolled": false
   },
   "outputs": [
    {
     "data": {
      "text/html": [
       "<div>\n",
       "<style scoped>\n",
       "    .dataframe tbody tr th:only-of-type {\n",
       "        vertical-align: middle;\n",
       "    }\n",
       "\n",
       "    .dataframe tbody tr th {\n",
       "        vertical-align: top;\n",
       "    }\n",
       "\n",
       "    .dataframe thead th {\n",
       "        text-align: right;\n",
       "    }\n",
       "</style>\n",
       "<table border=\"1\" class=\"dataframe\">\n",
       "  <thead>\n",
       "    <tr style=\"text-align: right;\">\n",
       "      <th></th>\n",
       "      <th>amount_tsh</th>\n",
       "      <th>quantity</th>\n",
       "      <th>quantity_group</th>\n",
       "    </tr>\n",
       "  </thead>\n",
       "  <tbody>\n",
       "    <tr>\n",
       "      <th>0</th>\n",
       "      <td>6000.0</td>\n",
       "      <td>enough</td>\n",
       "      <td>enough</td>\n",
       "    </tr>\n",
       "    <tr>\n",
       "      <th>1</th>\n",
       "      <td>0.0</td>\n",
       "      <td>insufficient</td>\n",
       "      <td>insufficient</td>\n",
       "    </tr>\n",
       "    <tr>\n",
       "      <th>2</th>\n",
       "      <td>25.0</td>\n",
       "      <td>enough</td>\n",
       "      <td>enough</td>\n",
       "    </tr>\n",
       "    <tr>\n",
       "      <th>3</th>\n",
       "      <td>0.0</td>\n",
       "      <td>dry</td>\n",
       "      <td>dry</td>\n",
       "    </tr>\n",
       "    <tr>\n",
       "      <th>4</th>\n",
       "      <td>0.0</td>\n",
       "      <td>seasonal</td>\n",
       "      <td>seasonal</td>\n",
       "    </tr>\n",
       "  </tbody>\n",
       "</table>\n",
       "</div>"
      ],
      "text/plain": [
       "   amount_tsh      quantity quantity_group\n",
       "0      6000.0        enough         enough\n",
       "1         0.0  insufficient   insufficient\n",
       "2        25.0        enough         enough\n",
       "3         0.0           dry            dry\n",
       "4         0.0      seasonal       seasonal"
      ]
     },
     "execution_count": 9,
     "metadata": {},
     "output_type": "execute_result"
    }
   ],
   "source": [
    "X_IO = X[['amount_tsh', 'quantity', 'quantity_group']]\n",
    "X_IO.head()"
   ]
  },
  {
   "cell_type": "code",
   "execution_count": 10,
   "metadata": {
    "scrolled": false
   },
   "outputs": [
    {
     "data": {
      "text/plain": [
       "amount_tsh  quantity      quantity_group\n",
       "0.0         enough        enough            21103\n",
       "            insufficient  insufficient      10914\n",
       "            dry           dry                5516\n",
       "            seasonal      seasonal           3411\n",
       "500.0       enough        enough             2230\n",
       "                                            ...  \n",
       "600.0       seasonal      seasonal              1\n",
       "900.0       insufficient  insufficient          1\n",
       "26000.0     enough        enough                1\n",
       "60000.0     enough        enough                1\n",
       "350000.0    insufficient  insufficient          1\n",
       "Length: 219, dtype: int64"
      ]
     },
     "execution_count": 10,
     "metadata": {},
     "output_type": "execute_result"
    }
   ],
   "source": [
    "X_IO.value_counts()"
   ]
  },
  {
   "cell_type": "markdown",
   "metadata": {},
   "source": [
    "While this data is interesting, it doesn't seem useful at a glance. We will keep it around to determine its importance using modeling methods though."
   ]
  },
  {
   "cell_type": "markdown",
   "metadata": {},
   "source": [
    "### Extraction Type\n",
    "\n",
    "Extraction type is the actual mechanism of the pump. Different mechanisms are easier or more difficult to repair and break down at different rates. This may be more useful than source, as multiple types of mechanisms can be used for the same source type."
   ]
  },
  {
   "cell_type": "code",
   "execution_count": 11,
   "metadata": {
    "scrolled": true
   },
   "outputs": [
    {
     "data": {
      "text/plain": [
       "gravity         26780\n",
       "handpump        16456\n",
       "other            6430\n",
       "submersible      6179\n",
       "motorpump        2987\n",
       "rope pump         451\n",
       "wind-powered      117\n",
       "Name: extraction_type_class, dtype: int64"
      ]
     },
     "execution_count": 11,
     "metadata": {},
     "output_type": "execute_result"
    }
   ],
   "source": [
    "X.extraction_type_class.value_counts()"
   ]
  },
  {
   "cell_type": "markdown",
   "metadata": {},
   "source": [
    "### Population\n",
    "\n",
    "We're interested to see if population, the required draw and potential usage by proxy, has any effect on determining well functionality. We'll likely explore this using demographic data too. "
   ]
  },
  {
   "cell_type": "code",
   "execution_count": 12,
   "metadata": {
    "scrolled": true
   },
   "outputs": [
    {
     "data": {
      "text/plain": [
       "count    59400.000000\n",
       "mean       179.909983\n",
       "std        471.482176\n",
       "min          0.000000\n",
       "25%          0.000000\n",
       "50%         25.000000\n",
       "75%        215.000000\n",
       "max      30500.000000\n",
       "Name: population, dtype: float64"
      ]
     },
     "execution_count": 12,
     "metadata": {},
     "output_type": "execute_result"
    }
   ],
   "source": [
    "X.population.describe()"
   ]
  },
  {
   "cell_type": "markdown",
   "metadata": {},
   "source": [
    "## Data Cleaning"
   ]
  },
  {
   "cell_type": "markdown",
   "metadata": {},
   "source": [
    "Things to do:\n",
    "- Concatenate XY values so if rows are removed, they are removed from both y and x data.\n",
    "- Remove unwanted or clerical columns.\n",
    "- Bin `construction_year` and potentially roll smaller values into `other` bins to help with class imbalance.\n",
    "- Bin other columns as needed.\n",
    "- Collect interested columns into a single dataframe.\n",
    "- Impute or bin NaNs\n",
    "- Output cleaned data to new csv for modeling purposes."
   ]
  },
  {
   "cell_type": "code",
   "execution_count": 13,
   "metadata": {},
   "outputs": [
    {
     "data": {
      "text/plain": [
       "True    59400\n",
       "Name: id, dtype: int64"
      ]
     },
     "execution_count": 13,
     "metadata": {},
     "output_type": "execute_result"
    }
   ],
   "source": [
    "# Check if X and y id values are indexed appropriately\n",
    "test_df = X['id'] == y['id']\n",
    "test_df.value_counts()"
   ]
  },
  {
   "cell_type": "code",
   "execution_count": 14,
   "metadata": {},
   "outputs": [],
   "source": [
    "# Concatenate 'target' values from y into dataframe to keep target values indexed appropriately.\n",
    "\n",
    "X['target'] = y.status_group"
   ]
  },
  {
   "cell_type": "markdown",
   "metadata": {},
   "source": [
    "### Binning"
   ]
  },
  {
   "cell_type": "code",
   "execution_count": 15,
   "metadata": {
    "scrolled": false
   },
   "outputs": [
    {
     "data": {
      "text/plain": [
       "False    38909\n",
       "True     20491\n",
       "Name: is_new, dtype: int64"
      ]
     },
     "execution_count": 15,
     "metadata": {},
     "output_type": "execute_result"
    }
   ],
   "source": [
    "# Binning construction_year into new boolean column is_new with cut-off year 'NewYear'\n",
    "\n",
    "# Set cut-off year\n",
    "NewYear = 2000\n",
    "\n",
    "# Create new boolean column with cut-off year\n",
    "X['is_new'] = X['construction_year'] >= NewYear\n",
    "X.is_new.value_counts()"
   ]
  },
  {
   "cell_type": "code",
   "execution_count": 16,
   "metadata": {
    "scrolled": false
   },
   "outputs": [
    {
     "name": "stderr",
     "output_type": "stream",
     "text": [
      "C:\\Users\\Mouse\\anaconda3\\envs\\learn-env\\lib\\site-packages\\pandas\\core\\indexing.py:670: SettingWithCopyWarning: \n",
      "A value is trying to be set on a copy of a slice from a DataFrame\n",
      "\n",
      "See the caveats in the documentation: https://pandas.pydata.org/pandas-docs/stable/user_guide/indexing.html#returning-a-view-versus-a-copy\n",
      "  iloc._setitem_with_indexer(indexer, value)\n"
     ]
    }
   ],
   "source": [
    "# Bin funder\n",
    "\n",
    "X['funder'].loc[X['funder'] != 'Government Of Tanzania'] = 'Other'"
   ]
  },
  {
   "cell_type": "code",
   "execution_count": 17,
   "metadata": {},
   "outputs": [],
   "source": [
    "# Creating new column to bin scheme_management\n",
    "X['scheme_class'] = X['scheme_management']"
   ]
  },
  {
   "cell_type": "code",
   "execution_count": 18,
   "metadata": {},
   "outputs": [],
   "source": [
    "# Bin scheme_management as scheme_class\n",
    "\n",
    "replace_dict = {'Parastatal' : 'Government',\n",
    "                'Water authority' : 'Government',\n",
    "                'WUA' : 'Government',\n",
    "                'WUG' : 'Government',\n",
    "                'VWC' : 'Government',\n",
    "                'SWC' : 'Government',\n",
    "                'Water Board' : 'Government', \n",
    "                'Private operator' : 'Other',\n",
    "                'Trust' : 'Other',\n",
    "                'Company' : 'Other',\n",
    "                'None' : 'None',\n",
    "                np.NaN : 'None'}\n",
    "\n",
    "X.scheme_class.replace(replace_dict, inplace=True)"
   ]
  },
  {
   "cell_type": "code",
   "execution_count": 19,
   "metadata": {
    "scrolled": true
   },
   "outputs": [
    {
     "data": {
      "text/plain": [
       "Government    52560\n",
       "None           3878\n",
       "Other          2962\n",
       "Name: scheme_class, dtype: int64"
      ]
     },
     "execution_count": 19,
     "metadata": {},
     "output_type": "execute_result"
    }
   ],
   "source": [
    "X.scheme_class.value_counts()"
   ]
  },
  {
   "cell_type": "code",
   "execution_count": 20,
   "metadata": {},
   "outputs": [],
   "source": [
    "## Binning Installer\n",
    "\n",
    "# Making everything uppercase for sorting purposes\n",
    "X['installer'] = X.installer.str.upper()"
   ]
  },
  {
   "cell_type": "code",
   "execution_count": 21,
   "metadata": {
    "scrolled": true
   },
   "outputs": [
    {
     "data": {
      "text/plain": [
       "Government              27013\n",
       "Private                 10101\n",
       "Other                    6895\n",
       "MWE                       157\n",
       "IS                        156\n",
       "                        ...  \n",
       "VIFAI                       1\n",
       "BABU SAJIN                  1\n",
       "PRINCE MEDIUM SCHOOL        1\n",
       "RC MSUFI                    1\n",
       "SERIKARI                    1\n",
       "Name: installer, Length: 1884, dtype: int64"
      ]
     },
     "execution_count": 21,
     "metadata": {},
     "output_type": "execute_result"
    }
   ],
   "source": [
    "# Consolidating government installers into Government.\n",
    "\n",
    "# Creating dictionary for fine tooth combing of data entries\n",
    "imputer = {'GOVERNMENT' : 'Government',\n",
    "           'DWE' : 'Government',\n",
    "           'RWE' : 'Government',\n",
    "           'WIZARA  YA MAJI' : 'Government',\n",
    "           'COMMU' : 'Government',\n",
    "           '0' : 'Other',\n",
    "           'DANIDA' : 'Private',\n",
    "           'HESAWA' : 'Private',\n",
    "           'KKKT' : 'Private',\n",
    "           'CENTRAL GOVERNMENT' : 'Government',\n",
    "           'TCRS' : 'Private',\n",
    "           'COMMUNITY' : 'Other',\n",
    "           'CES' : 'Private',\n",
    "           'DANID' : 'Private',\n",
    "           'DISTRICT COUNCIL' : 'Government',\n",
    "           'WORLD VISION' : 'Private',\n",
    "           'LGA' : 'Government',\n",
    "           'WEDECO' : 'Private',\n",
    "           'TASAF' : 'Government',\n",
    "           'GOVER' : 'Government',\n",
    "           'AMREF' : 'Private',\n",
    "           'TWESA' : 'Government',\n",
    "           'WU' : 'Private',\n",
    "           'DMDD' : 'Other',\n",
    "           'ACRA' : 'Private',\n",
    "           'FINI WATER' : 'Other',\n",
    "           'NORAD' : 'Private',\n",
    "           'DA' : 'Government',\n",
    "           'SEMA' : 'Private',\n",
    "           'DW' : 'Other',\n",
    "           'JAICA' : 'Private',\n",
    "           'OXFAM' : 'Private',\n",
    "           'UNICEF' : 'Private',\n",
    "           'SHIPO' : 'Private',\n",
    "           'IDARA YA MAJI' : 'Government',\n",
    "           'GOVE' : 'Government',\n",
    "           'VILLAGERS' : 'Other',\n",
    "           'SENGEREMA WATER DEPARTMENT' : 'Government',\n",
    "           'KILIWATER' : 'Private',\n",
    "           'FINW' : 'Private',\n",
    "           'RC CHURCH' : 'Private',\n",
    "           'DH' : 'Government',\n",
    "           'KUWAIT' : 'Private',\n",
    "           'DWSP' : 'Government',\n",
    "           'DISTRI' : 'Government',\n",
    "           'LAWATEFUKA WATER SUP' : 'Government',\n",
    "           'RC' : 'Government',\n",
    "           'MAGADINI-MAKIWARU WA' : 'Other',\n",
    "           'DISTRICT WATER DEPARTMENT' : 'Government',\n",
    "           'FW' : 'Other',\n",
    "           'KKKT _ KONDE AND DWE' : 'Other',\n",
    "           'PRIVATE' : 'Private',\n",
    "           'CENTR' : 'Other',\n",
    "           'WVT' : 'Private'}\n",
    "\n",
    "# Replacing combed data using the dictionary.\n",
    "X.installer.replace(imputer, inplace=True)\n",
    "\n",
    "# Binning NaNs into Other\n",
    "X.installer.fillna('Other', inplace=True)\n",
    "\n",
    "# Checking existing entries for unique values\n",
    "X.installer.value_counts()"
   ]
  },
  {
   "cell_type": "code",
   "execution_count": 22,
   "metadata": {},
   "outputs": [],
   "source": [
    "# Iterate through remaining values and replace with bulk Other\n",
    "# This column requires more fine-tooth combing regarding binning given that following our brief definition foray,\n",
    "#      there are still 1884 unique rows with < 157 entries that amount to near 20,000, or approximately 30% of the\n",
    "#      full data set's entries. Because of our binning method, Other will likely be oversampled.\n",
    "\n",
    "for i in X['installer'].values:\n",
    "    if i != 'Government':\n",
    "        if i != 'Private':\n",
    "            if i != 'Other':\n",
    "                X.installer.replace({i:'Other'}, inplace=True)"
   ]
  },
  {
   "cell_type": "code",
   "execution_count": 23,
   "metadata": {},
   "outputs": [
    {
     "data": {
      "text/plain": [
       "Government    27013\n",
       "Other         22286\n",
       "Private       10101\n",
       "Name: installer, dtype: int64"
      ]
     },
     "execution_count": 23,
     "metadata": {},
     "output_type": "execute_result"
    }
   ],
   "source": [
    "# Checking to see if bulk replacement worked\n",
    "X.installer.value_counts()"
   ]
  },
  {
   "cell_type": "markdown",
   "metadata": {},
   "source": [
    "### Column Selection"
   ]
  },
  {
   "cell_type": "code",
   "execution_count": 24,
   "metadata": {},
   "outputs": [],
   "source": [
    "# Defining lists for both physical and political traits to enter into final data set.\n",
    "\n",
    "# Physical traits for model:\n",
    "cols1 = ['is_new', 'extraction_type_class', 'amount_tsh', 'quantity', \n",
    "         'source_type', 'source_class', 'quality_group', 'population', \n",
    "         'target']\n",
    "\n",
    "# Political traits for model\n",
    "cols2 = ['funder', 'num_private', 'region',\n",
    "         'scheme_class', 'permit', 'payment', \n",
    "         'source', 'installer']"
   ]
  },
  {
   "cell_type": "code",
   "execution_count": 25,
   "metadata": {},
   "outputs": [],
   "source": [
    "# Dropping columns we're not interested in or do not make sense for analysis.\n",
    "\n",
    "# Set list of kept columns for concatenation\n",
    "keep_cols = cols1 + cols2\n",
    "\n",
    "# New dataframe with kept columns\n",
    "df = X[keep_cols]"
   ]
  },
  {
   "cell_type": "code",
   "execution_count": 26,
   "metadata": {
    "scrolled": true
   },
   "outputs": [
    {
     "data": {
      "text/html": [
       "<div>\n",
       "<style scoped>\n",
       "    .dataframe tbody tr th:only-of-type {\n",
       "        vertical-align: middle;\n",
       "    }\n",
       "\n",
       "    .dataframe tbody tr th {\n",
       "        vertical-align: top;\n",
       "    }\n",
       "\n",
       "    .dataframe thead th {\n",
       "        text-align: right;\n",
       "    }\n",
       "</style>\n",
       "<table border=\"1\" class=\"dataframe\">\n",
       "  <thead>\n",
       "    <tr style=\"text-align: right;\">\n",
       "      <th></th>\n",
       "      <th>is_new</th>\n",
       "      <th>extraction_type_class</th>\n",
       "      <th>amount_tsh</th>\n",
       "      <th>quantity</th>\n",
       "      <th>source_type</th>\n",
       "      <th>source_class</th>\n",
       "      <th>quality_group</th>\n",
       "      <th>population</th>\n",
       "      <th>target</th>\n",
       "      <th>funder</th>\n",
       "      <th>num_private</th>\n",
       "      <th>region</th>\n",
       "      <th>scheme_class</th>\n",
       "      <th>permit</th>\n",
       "      <th>payment</th>\n",
       "      <th>source</th>\n",
       "      <th>installer</th>\n",
       "    </tr>\n",
       "  </thead>\n",
       "  <tbody>\n",
       "    <tr>\n",
       "      <th>0</th>\n",
       "      <td>False</td>\n",
       "      <td>gravity</td>\n",
       "      <td>6000.0</td>\n",
       "      <td>enough</td>\n",
       "      <td>spring</td>\n",
       "      <td>groundwater</td>\n",
       "      <td>good</td>\n",
       "      <td>109</td>\n",
       "      <td>functional</td>\n",
       "      <td>Other</td>\n",
       "      <td>0</td>\n",
       "      <td>Iringa</td>\n",
       "      <td>Government</td>\n",
       "      <td>False</td>\n",
       "      <td>pay annually</td>\n",
       "      <td>spring</td>\n",
       "      <td>Other</td>\n",
       "    </tr>\n",
       "    <tr>\n",
       "      <th>1</th>\n",
       "      <td>True</td>\n",
       "      <td>gravity</td>\n",
       "      <td>0.0</td>\n",
       "      <td>insufficient</td>\n",
       "      <td>rainwater harvesting</td>\n",
       "      <td>surface</td>\n",
       "      <td>good</td>\n",
       "      <td>280</td>\n",
       "      <td>functional</td>\n",
       "      <td>Other</td>\n",
       "      <td>0</td>\n",
       "      <td>Mara</td>\n",
       "      <td>Other</td>\n",
       "      <td>True</td>\n",
       "      <td>never pay</td>\n",
       "      <td>rainwater harvesting</td>\n",
       "      <td>Other</td>\n",
       "    </tr>\n",
       "    <tr>\n",
       "      <th>2</th>\n",
       "      <td>True</td>\n",
       "      <td>gravity</td>\n",
       "      <td>25.0</td>\n",
       "      <td>enough</td>\n",
       "      <td>dam</td>\n",
       "      <td>surface</td>\n",
       "      <td>good</td>\n",
       "      <td>250</td>\n",
       "      <td>functional</td>\n",
       "      <td>Other</td>\n",
       "      <td>0</td>\n",
       "      <td>Manyara</td>\n",
       "      <td>Government</td>\n",
       "      <td>True</td>\n",
       "      <td>pay per bucket</td>\n",
       "      <td>dam</td>\n",
       "      <td>Private</td>\n",
       "    </tr>\n",
       "    <tr>\n",
       "      <th>3</th>\n",
       "      <td>False</td>\n",
       "      <td>submersible</td>\n",
       "      <td>0.0</td>\n",
       "      <td>dry</td>\n",
       "      <td>borehole</td>\n",
       "      <td>groundwater</td>\n",
       "      <td>good</td>\n",
       "      <td>58</td>\n",
       "      <td>non functional</td>\n",
       "      <td>Other</td>\n",
       "      <td>0</td>\n",
       "      <td>Mtwara</td>\n",
       "      <td>Government</td>\n",
       "      <td>True</td>\n",
       "      <td>never pay</td>\n",
       "      <td>machine dbh</td>\n",
       "      <td>Private</td>\n",
       "    </tr>\n",
       "    <tr>\n",
       "      <th>4</th>\n",
       "      <td>False</td>\n",
       "      <td>gravity</td>\n",
       "      <td>0.0</td>\n",
       "      <td>seasonal</td>\n",
       "      <td>rainwater harvesting</td>\n",
       "      <td>surface</td>\n",
       "      <td>good</td>\n",
       "      <td>0</td>\n",
       "      <td>functional</td>\n",
       "      <td>Other</td>\n",
       "      <td>0</td>\n",
       "      <td>Kagera</td>\n",
       "      <td>None</td>\n",
       "      <td>True</td>\n",
       "      <td>never pay</td>\n",
       "      <td>rainwater harvesting</td>\n",
       "      <td>Other</td>\n",
       "    </tr>\n",
       "    <tr>\n",
       "      <th>...</th>\n",
       "      <td>...</td>\n",
       "      <td>...</td>\n",
       "      <td>...</td>\n",
       "      <td>...</td>\n",
       "      <td>...</td>\n",
       "      <td>...</td>\n",
       "      <td>...</td>\n",
       "      <td>...</td>\n",
       "      <td>...</td>\n",
       "      <td>...</td>\n",
       "      <td>...</td>\n",
       "      <td>...</td>\n",
       "      <td>...</td>\n",
       "      <td>...</td>\n",
       "      <td>...</td>\n",
       "      <td>...</td>\n",
       "      <td>...</td>\n",
       "    </tr>\n",
       "    <tr>\n",
       "      <th>59395</th>\n",
       "      <td>False</td>\n",
       "      <td>gravity</td>\n",
       "      <td>10.0</td>\n",
       "      <td>enough</td>\n",
       "      <td>spring</td>\n",
       "      <td>groundwater</td>\n",
       "      <td>good</td>\n",
       "      <td>125</td>\n",
       "      <td>functional</td>\n",
       "      <td>Other</td>\n",
       "      <td>0</td>\n",
       "      <td>Kilimanjaro</td>\n",
       "      <td>Government</td>\n",
       "      <td>True</td>\n",
       "      <td>pay per bucket</td>\n",
       "      <td>spring</td>\n",
       "      <td>Private</td>\n",
       "    </tr>\n",
       "    <tr>\n",
       "      <th>59396</th>\n",
       "      <td>False</td>\n",
       "      <td>gravity</td>\n",
       "      <td>4700.0</td>\n",
       "      <td>enough</td>\n",
       "      <td>river/lake</td>\n",
       "      <td>surface</td>\n",
       "      <td>good</td>\n",
       "      <td>56</td>\n",
       "      <td>functional</td>\n",
       "      <td>Other</td>\n",
       "      <td>0</td>\n",
       "      <td>Iringa</td>\n",
       "      <td>Government</td>\n",
       "      <td>True</td>\n",
       "      <td>pay annually</td>\n",
       "      <td>river</td>\n",
       "      <td>Other</td>\n",
       "    </tr>\n",
       "    <tr>\n",
       "      <th>59397</th>\n",
       "      <td>False</td>\n",
       "      <td>handpump</td>\n",
       "      <td>0.0</td>\n",
       "      <td>enough</td>\n",
       "      <td>borehole</td>\n",
       "      <td>groundwater</td>\n",
       "      <td>fluoride</td>\n",
       "      <td>0</td>\n",
       "      <td>functional</td>\n",
       "      <td>Other</td>\n",
       "      <td>0</td>\n",
       "      <td>Mbeya</td>\n",
       "      <td>Government</td>\n",
       "      <td>False</td>\n",
       "      <td>pay monthly</td>\n",
       "      <td>machine dbh</td>\n",
       "      <td>Other</td>\n",
       "    </tr>\n",
       "    <tr>\n",
       "      <th>59398</th>\n",
       "      <td>False</td>\n",
       "      <td>handpump</td>\n",
       "      <td>0.0</td>\n",
       "      <td>insufficient</td>\n",
       "      <td>shallow well</td>\n",
       "      <td>groundwater</td>\n",
       "      <td>good</td>\n",
       "      <td>0</td>\n",
       "      <td>functional</td>\n",
       "      <td>Other</td>\n",
       "      <td>0</td>\n",
       "      <td>Dodoma</td>\n",
       "      <td>Government</td>\n",
       "      <td>True</td>\n",
       "      <td>never pay</td>\n",
       "      <td>shallow well</td>\n",
       "      <td>Other</td>\n",
       "    </tr>\n",
       "    <tr>\n",
       "      <th>59399</th>\n",
       "      <td>True</td>\n",
       "      <td>handpump</td>\n",
       "      <td>0.0</td>\n",
       "      <td>enough</td>\n",
       "      <td>shallow well</td>\n",
       "      <td>groundwater</td>\n",
       "      <td>salty</td>\n",
       "      <td>150</td>\n",
       "      <td>functional</td>\n",
       "      <td>Other</td>\n",
       "      <td>0</td>\n",
       "      <td>Morogoro</td>\n",
       "      <td>Government</td>\n",
       "      <td>True</td>\n",
       "      <td>pay when scheme fails</td>\n",
       "      <td>shallow well</td>\n",
       "      <td>Other</td>\n",
       "    </tr>\n",
       "  </tbody>\n",
       "</table>\n",
       "<p>59400 rows × 17 columns</p>\n",
       "</div>"
      ],
      "text/plain": [
       "       is_new extraction_type_class  amount_tsh      quantity  \\\n",
       "0       False               gravity      6000.0        enough   \n",
       "1        True               gravity         0.0  insufficient   \n",
       "2        True               gravity        25.0        enough   \n",
       "3       False           submersible         0.0           dry   \n",
       "4       False               gravity         0.0      seasonal   \n",
       "...       ...                   ...         ...           ...   \n",
       "59395   False               gravity        10.0        enough   \n",
       "59396   False               gravity      4700.0        enough   \n",
       "59397   False              handpump         0.0        enough   \n",
       "59398   False              handpump         0.0  insufficient   \n",
       "59399    True              handpump         0.0        enough   \n",
       "\n",
       "                source_type source_class quality_group  population  \\\n",
       "0                    spring  groundwater          good         109   \n",
       "1      rainwater harvesting      surface          good         280   \n",
       "2                       dam      surface          good         250   \n",
       "3                  borehole  groundwater          good          58   \n",
       "4      rainwater harvesting      surface          good           0   \n",
       "...                     ...          ...           ...         ...   \n",
       "59395                spring  groundwater          good         125   \n",
       "59396            river/lake      surface          good          56   \n",
       "59397              borehole  groundwater      fluoride           0   \n",
       "59398          shallow well  groundwater          good           0   \n",
       "59399          shallow well  groundwater         salty         150   \n",
       "\n",
       "               target funder  num_private       region scheme_class permit  \\\n",
       "0          functional  Other            0       Iringa   Government  False   \n",
       "1          functional  Other            0         Mara        Other   True   \n",
       "2          functional  Other            0      Manyara   Government   True   \n",
       "3      non functional  Other            0       Mtwara   Government   True   \n",
       "4          functional  Other            0       Kagera         None   True   \n",
       "...               ...    ...          ...          ...          ...    ...   \n",
       "59395      functional  Other            0  Kilimanjaro   Government   True   \n",
       "59396      functional  Other            0       Iringa   Government   True   \n",
       "59397      functional  Other            0        Mbeya   Government  False   \n",
       "59398      functional  Other            0       Dodoma   Government   True   \n",
       "59399      functional  Other            0     Morogoro   Government   True   \n",
       "\n",
       "                     payment                source installer  \n",
       "0               pay annually                spring     Other  \n",
       "1                  never pay  rainwater harvesting     Other  \n",
       "2             pay per bucket                   dam   Private  \n",
       "3                  never pay           machine dbh   Private  \n",
       "4                  never pay  rainwater harvesting     Other  \n",
       "...                      ...                   ...       ...  \n",
       "59395         pay per bucket                spring   Private  \n",
       "59396           pay annually                 river     Other  \n",
       "59397            pay monthly           machine dbh     Other  \n",
       "59398              never pay          shallow well     Other  \n",
       "59399  pay when scheme fails          shallow well     Other  \n",
       "\n",
       "[59400 rows x 17 columns]"
      ]
     },
     "execution_count": 26,
     "metadata": {},
     "output_type": "execute_result"
    }
   ],
   "source": [
    "# Display cleaned data frame\n",
    "df"
   ]
  },
  {
   "cell_type": "markdown",
   "metadata": {},
   "source": [
    "### Dealing with NaNs"
   ]
  },
  {
   "cell_type": "code",
   "execution_count": 27,
   "metadata": {
    "scrolled": true
   },
   "outputs": [
    {
     "name": "stdout",
     "output_type": "stream",
     "text": [
      "is_new has 0 null values\n",
      "extraction_type_class has 0 null values\n",
      "amount_tsh has 0 null values\n",
      "quantity has 0 null values\n",
      "source_type has 0 null values\n",
      "source_class has 0 null values\n",
      "quality_group has 0 null values\n",
      "population has 0 null values\n",
      "target has 0 null values\n",
      "funder has 0 null values\n",
      "num_private has 0 null values\n",
      "region has 0 null values\n",
      "scheme_class has 0 null values\n",
      "permit has 3056 null values\n",
      "payment has 0 null values\n",
      "source has 0 null values\n",
      "installer has 0 null values\n"
     ]
    }
   ],
   "source": [
    "# Checking for null values to deal with\n",
    "\n",
    "for i in df.columns:\n",
    "    print(f'{i} has {df[i].isna().sum()} null values')"
   ]
  },
  {
   "cell_type": "code",
   "execution_count": 28,
   "metadata": {
    "scrolled": true
   },
   "outputs": [
    {
     "name": "stderr",
     "output_type": "stream",
     "text": [
      "C:\\Users\\Mouse\\anaconda3\\envs\\learn-env\\lib\\site-packages\\pandas\\core\\series.py:4517: SettingWithCopyWarning: \n",
      "A value is trying to be set on a copy of a slice from a DataFrame\n",
      "\n",
      "See the caveats in the documentation: https://pandas.pydata.org/pandas-docs/stable/user_guide/indexing.html#returning-a-view-versus-a-copy\n",
      "  return super().fillna(\n"
     ]
    }
   ],
   "source": [
    "# Set replacement dictionary for permit NaNs\n",
    "# For column permits we have these values associated with management schemes:\n",
    "#\n",
    "#       Government: we assume true because government entities likely have the political authority to permit wells.\n",
    "#       Other: We assume false because the entity is unknown or not a government entity and errors here effect only\n",
    "#              a small amount of entries.\n",
    "#       None: We assume false because the source either predates permitting or was likely installed without permit \n",
    "#             and errors here effect only a small amount of entries.\n",
    "\n",
    "imputer = {'Government' : True,\n",
    "           'Other' : False,\n",
    "           'None' : False}\n",
    "\n",
    "df.permit.fillna(df.scheme_class.map(imputer), inplace=True)"
   ]
  },
  {
   "cell_type": "code",
   "execution_count": 29,
   "metadata": {
    "scrolled": true
   },
   "outputs": [
    {
     "name": "stdout",
     "output_type": "stream",
     "text": [
      "is_new has 0 null values\n",
      "extraction_type_class has 0 null values\n",
      "amount_tsh has 0 null values\n",
      "quantity has 0 null values\n",
      "source_type has 0 null values\n",
      "source_class has 0 null values\n",
      "quality_group has 0 null values\n",
      "population has 0 null values\n",
      "target has 0 null values\n",
      "funder has 0 null values\n",
      "num_private has 0 null values\n",
      "region has 0 null values\n",
      "scheme_class has 0 null values\n",
      "permit has 0 null values\n",
      "payment has 0 null values\n",
      "source has 0 null values\n",
      "installer has 0 null values\n"
     ]
    }
   ],
   "source": [
    "# Checking status of nulls in columns before moving onto next process\n",
    "\n",
    "for i in df.columns:\n",
    "    print(f'{i} has {df[i].isna().sum()} null values')"
   ]
  },
  {
   "cell_type": "code",
   "execution_count": 30,
   "metadata": {},
   "outputs": [],
   "source": [
    "# Write cleaned dataframe to csv file for modeling\n",
    "\n",
    "df.to_csv(path_or_buf = \"./Data/df_clean.csv\", header=True)"
   ]
  },
  {
   "cell_type": "markdown",
   "metadata": {},
   "source": [
    "---"
   ]
  },
  {
   "cell_type": "markdown",
   "metadata": {},
   "source": [
    "# Modeling"
   ]
  },
  {
   "cell_type": "markdown",
   "metadata": {},
   "source": [
    "### Preliminary Modeling EDA and Engineering\n",
    "\n",
    "+ Visualize data for potential patterns\n",
    "+ dummy model\n",
    "+ DecisionTree to determine important predictors\n",
    "+ Model\n",
    " - Simple logistic regression\n",
    " - More complex model\n",
    "\n",
    "\n",
    "**Where necessary:**\n",
    "- Train/Test Split\n",
    "- Encode Categorical Data\n",
    "- Fix imbalances where necessary."
   ]
  },
  {
   "cell_type": "code",
   "execution_count": 31,
   "metadata": {},
   "outputs": [],
   "source": [
    "# import relevant libraries\n",
    "import matplotlib.pyplot as plt"
   ]
  },
  {
   "cell_type": "code",
   "execution_count": 32,
   "metadata": {},
   "outputs": [],
   "source": [
    "# ignore warnings (there are a lot of them)\n",
    "import warnings\n",
    "warnings.filterwarnings('ignore')"
   ]
  },
  {
   "cell_type": "code",
   "execution_count": 33,
   "metadata": {},
   "outputs": [],
   "source": [
    "# Read in cleaned dataset.\n",
    "# (not necessary on this notebook. But the originals were split into two for efficiency and neatness)\n",
    "df = pd.read_csv('./data/df_clean.csv')"
   ]
  },
  {
   "cell_type": "markdown",
   "metadata": {},
   "source": [
    "# Dummy Classifier"
   ]
  },
  {
   "cell_type": "markdown",
   "metadata": {},
   "source": [
    "We now want to model based of the political factors of our dataset, organizing how political variables affect the overall functionality versus our other physical characteristics. We are also going to use precision as our overall metric."
   ]
  },
  {
   "cell_type": "code",
   "execution_count": 34,
   "metadata": {},
   "outputs": [],
   "source": [
    "# importing relevant libraries\n",
    "from sklearn.dummy import DummyClassifier\n",
    "from sklearn.model_selection import train_test_split\n",
    "from sklearn.metrics import precision_score"
   ]
  },
  {
   "cell_type": "code",
   "execution_count": 35,
   "metadata": {},
   "outputs": [],
   "source": [
    "# seperating interested columns out into new dataframe\n",
    "political_col = ['funder', 'num_private', 'region', \n",
    "                'scheme_class', 'payment',\n",
    "                 'source','target', 'permit', 'installer']\n",
    "df_pol = df[political_col]"
   ]
  },
  {
   "cell_type": "code",
   "execution_count": 36,
   "metadata": {},
   "outputs": [],
   "source": [
    "# Performing test-train split\n",
    "y = df_pol['target']\n",
    "X = df_pol.drop(columns = ['target'], axis = 1)\n",
    "\n",
    "X_train, X_test, y_train, y_test = train_test_split(X, y, test_size = 0.3, random_state = 42)"
   ]
  },
  {
   "cell_type": "code",
   "execution_count": 37,
   "metadata": {},
   "outputs": [],
   "source": [
    "# Performing dummy classification\n",
    "pol_clf = DummyClassifier(strategy=\"most_frequent\")\n",
    "pol_clf.fit(X_train, y_train)\n",
    "\n",
    "DummyClassifier(strategy='most_frequent');"
   ]
  },
  {
   "cell_type": "code",
   "execution_count": 38,
   "metadata": {},
   "outputs": [
    {
     "name": "stdout",
     "output_type": "stream",
     "text": [
      "Our dummy classifier has a precision of:       29.4%\n"
     ]
    }
   ],
   "source": [
    "# Scoring dummy classifier\n",
    "\n",
    "print(f'Our dummy classifier has a precision of: \\\n",
    "      {round(precision_score(y_train, pol_clf.predict(X_train), average = \"weighted\", zero_division=0),3)*100}%')"
   ]
  },
  {
   "cell_type": "markdown",
   "metadata": {},
   "source": [
    "## OneHot Encode and Decision Trees\n",
    "\n",
    "Using decision trees to define our important features for future models."
   ]
  },
  {
   "cell_type": "code",
   "execution_count": 39,
   "metadata": {},
   "outputs": [],
   "source": [
    "# Import relevant libraries\n",
    "from sklearn.preprocessing import OneHotEncoder\n",
    "from sklearn.tree import DecisionTreeClassifier, plot_tree"
   ]
  },
  {
   "cell_type": "code",
   "execution_count": 40,
   "metadata": {},
   "outputs": [],
   "source": [
    "# Encode the X_train and X_test dataframes\n",
    "ohe = OneHotEncoder(handle_unknown = 'ignore', sparse = False)\n",
    "\n",
    "# Encode train set\n",
    "X_train_ohe1 = ohe.fit_transform(X_train)\n",
    "X_train_ohe = pd.DataFrame(X_train_ohe1)\n",
    "X_train_ohe.columns = ohe.get_feature_names(X_train.columns)\n",
    "\n",
    "# Encode train set\n",
    "X_test_ohe1 = ohe.transform(X_test)\n",
    "X_test_ohe = pd.DataFrame(X_test_ohe1)\n",
    "X_test_ohe.columns = ohe.get_feature_names(X_test.columns)"
   ]
  },
  {
   "cell_type": "code",
   "execution_count": 41,
   "metadata": {},
   "outputs": [
    {
     "data": {
      "text/plain": [
       "DecisionTreeClassifier(criterion='entropy', max_depth=3)"
      ]
     },
     "execution_count": 41,
     "metadata": {},
     "output_type": "execute_result"
    }
   ],
   "source": [
    "# Decision tree\n",
    "\n",
    "clf = DecisionTreeClassifier(criterion='entropy', max_depth = 3)\n",
    "\n",
    "clf.fit(X_train_ohe, y_train)"
   ]
  },
  {
   "cell_type": "code",
   "execution_count": 42,
   "metadata": {},
   "outputs": [
    {
     "data": {
      "image/png": "[encoded data removed]",
      "text/plain": [
       "<Figure size 900x900 with 1 Axes>"
      ]
     },
     "metadata": {
      "needs_background": "light"
     },
     "output_type": "display_data"
    }
   ],
   "source": [
    "fig, axes = plt.subplots(nrows = 1,ncols =1 , figsize = (3,3), dpi=300)\n",
    "plot_tree(clf,\n",
    "               feature_names = X_train_ohe.columns, \n",
    "               class_names=np.unique(y).astype('str'),\n",
    "               filled = True)\n",
    "plt.show()"
   ]
  },
  {
   "cell_type": "markdown",
   "metadata": {},
   "source": [
    "### Decision Tree Results\n",
    "\n",
    "**Top 4 features in order:**\n",
    "\n",
    "- Payment\n",
    "- Region\n",
    "- Permit\n",
    "- Source "
   ]
  },
  {
   "cell_type": "markdown",
   "metadata": {},
   "source": [
    "## Simple Logistic Regression\n",
    "\n",
    "We'll start our modeling with a simple logistic regression since our target variable is categorical."
   ]
  },
  {
   "cell_type": "code",
   "execution_count": 43,
   "metadata": {},
   "outputs": [],
   "source": [
    "# Importing relevant libraries\n",
    "from sklearn.linear_model import LogisticRegression"
   ]
  },
  {
   "cell_type": "code",
   "execution_count": 44,
   "metadata": {},
   "outputs": [],
   "source": [
    "# Column selection\n",
    "log_cols1 = ['permit', 'region', 'payment', 'source']\n",
    "\n",
    "logx_train = X_train[log_cols1]\n",
    "logx_test = X_test[log_cols1]"
   ]
  },
  {
   "cell_type": "code",
   "execution_count": 45,
   "metadata": {},
   "outputs": [],
   "source": [
    "# Encoding new frames\n",
    "logx_train_ohe1 = ohe.fit_transform(logx_train)\n",
    "logx_train_ohe = pd.DataFrame(logx_train_ohe1)\n",
    "logx_train_ohe.columns = ohe.get_feature_names(logx_train.columns)\n",
    "\n",
    "logx_test_ohe1 = ohe.transform(logx_test)\n",
    "logx_test_ohe = pd.DataFrame(logx_test_ohe1)\n",
    "logx_test_ohe.columns = ohe.get_feature_names(logx_test.columns)"
   ]
  },
  {
   "cell_type": "code",
   "execution_count": 46,
   "metadata": {},
   "outputs": [
    {
     "name": "stdout",
     "output_type": "stream",
     "text": [
      "Training precision:       57.45%\n",
      "Test precision:       57.07%\n"
     ]
    }
   ],
   "source": [
    "# Instantiate and perform logistic regression\n",
    "\n",
    "logreg = LogisticRegression(fit_intercept=False, C=1e12, solver='liblinear')\n",
    "\n",
    "logreg.fit(logx_train_ohe, y_train)\n",
    "\n",
    "print(f\"Training precision: \\\n",
    "      {round(precision_score(y_train, logreg.predict(logx_train_ohe), average='weighted', zero_division=0),4)*100}%\")\n",
    "print(f\"Test precision: \\\n",
    "      {round(precision_score(y_test, logreg.predict(logx_test_ohe), average='weighted', zero_division=0),4)*100}%\")"
   ]
  },
  {
   "cell_type": "markdown",
   "metadata": {},
   "source": [
    "#### Logistic Regression Results\n",
    "\n",
    "While 57% precision is a large increase from the 29.4% of our dummy model, we feel this is still not good enough of a model since its only 7% above determining a functioning well by guess."
   ]
  },
  {
   "cell_type": "markdown",
   "metadata": {},
   "source": [
    "## K-Nearest Neighbors Model\n",
    "\n",
    "Given suspected relationship between regions and permit status, we feel a KNN model may perform better than our logistic regression."
   ]
  },
  {
   "cell_type": "code",
   "execution_count": 47,
   "metadata": {},
   "outputs": [],
   "source": [
    "# Import relevant libraries\n",
    "from sklearn.neighbors import KNeighborsClassifier\n",
    "from sklearn.model_selection import KFold"
   ]
  },
  {
   "cell_type": "code",
   "execution_count": 48,
   "metadata": {},
   "outputs": [],
   "source": [
    "# Validation split from our X_train\n",
    "X_t, X_val, y_t, y_val = train_test_split(X_train, y_train,\n",
    "                                          random_state=42,\n",
    "                                          test_size=0.3)"
   ]
  },
  {
   "cell_type": "code",
   "execution_count": 49,
   "metadata": {},
   "outputs": [],
   "source": [
    "# Encoding validation frames\n",
    "X_te = ohe.fit_transform(X_t)\n",
    "X_vale = ohe.transform(X_val)"
   ]
  },
  {
   "cell_type": "code",
   "execution_count": 50,
   "metadata": {},
   "outputs": [
    {
     "name": "stdout",
     "output_type": "stream",
     "text": [
      "Training precision:       66.08000000000001%\n",
      "Validation precision:       62.53999999999999%\n"
     ]
    }
   ],
   "source": [
    "# Instantiate and run KNN models\n",
    "knn = KNeighborsClassifier()\n",
    "\n",
    "knn.fit(X_te, y_t)\n",
    "print(f\"Training precision: \\\n",
    "      {round(precision_score(y_t, knn.predict(X_te), average='weighted', zero_division=0),4)*100}%\")\n",
    "print(f\"Validation precision: \\\n",
    "      {round(precision_score(y_val, knn.predict(X_vale), average='weighted', zero_division=0),4)*100}%\")"
   ]
  },
  {
   "cell_type": "markdown",
   "metadata": {},
   "source": [
    "### Model Tuning using K-Fold\n",
    "\n",
    "We're using K-Fold to tune our hyperparameters for our KNN model (n_neighbors specifically)."
   ]
  },
  {
   "cell_type": "raw",
   "metadata": {},
   "source": [
    "# Kfold to determine best n_neighbors\n",
    "\n",
    "kf = KFold(n_splits=2)\n",
    "\n",
    "k_scores_train = {}\n",
    "k_scores_val = {}\n",
    "\n",
    "\n",
    "for k in range(15, 25):\n",
    "    knn = KNeighborsClassifier(n_neighbors=k)\n",
    "    precision_score_t = []\n",
    "    precision_score_v = []\n",
    "    for train_ind, val_ind in kf.split(X_train, y_train):\n",
    "        \n",
    "        X_tb, y_tb = X_train.iloc[train_ind], y_train.iloc[train_ind] \n",
    "        X_vb, y_vb = X_train.iloc[val_ind], y_train.iloc[val_ind]\n",
    "        \n",
    "        X_t_ind = X_tb.index\n",
    "        X_v_ind = X_vb.index\n",
    "        \n",
    "        X_tb = pd.DataFrame(ohe.fit_transform(X_tb))\n",
    "        X_tb.index = X_t_ind\n",
    "        X_vb = pd.DataFrame(ohe.transform(X_vb))\n",
    "        X_vb.index = X_v_ind\n",
    "        \n",
    "        knn.fit(X_tb, y_tb)\n",
    "        \n",
    "        y_pred_tb = knn.predict(X_tb)\n",
    "        y_pred_vb = knn.predict(X_vb)\n",
    "        \n",
    "        precision_score_t.append(precision_score(y_tb, y_pred_tb, average='weighted'))\n",
    "        precision_score_v.append(precision_score(y_vb, y_pred_vb, average='weighted'))\n",
    "        \n",
    "        \n",
    "    k_scores_train[k] = np.mean(precision_score_t)\n",
    "    k_scores_val[k] = np.mean(precision_score_v)"
   ]
  },
  {
   "cell_type": "raw",
   "metadata": {},
   "source": [
    "# Display K-fold to determine best n_neighbors\n",
    "fig, ax = plt.subplots(figsize=(15, 15))\n",
    "\n",
    "ax.plot(list(k_scores_train.keys()), list(k_scores_train.values()),\n",
    "        color='red', linestyle='dashed', marker='o',  \n",
    "         markerfacecolor='blue', markersize=10, label='Train')\n",
    "ax.plot(list(k_scores_val.keys()), list(k_scores_val.values()),\n",
    "        color='green', linestyle='dashed', marker='o',  \n",
    "         markerfacecolor='blue', markersize=10, label='Val')\n",
    "ax.set_xlabel('Number of Nearest Neighbors')\n",
    "ax.set_ylabel('Precision')\n",
    "plt.legend();"
   ]
  },
  {
   "cell_type": "markdown",
   "metadata": {},
   "source": [
    "**Highest precision at n_neighbors = 18**\n",
    "\n",
    "We will run the model again, specifying a n_neighbors of 18."
   ]
  },
  {
   "cell_type": "code",
   "execution_count": 51,
   "metadata": {},
   "outputs": [
    {
     "name": "stdout",
     "output_type": "stream",
     "text": [
      "Training precision:       66.59%\n",
      "Validation precision:       64.99000000000001%\n"
     ]
    }
   ],
   "source": [
    "knn = KNeighborsClassifier(n_neighbors=18)\n",
    "\n",
    "knn.fit(X_te, y_t)\n",
    "print(f\"Training precision: \\\n",
    "      {round(precision_score(y_t, knn.predict(X_te), average='weighted', zero_division=0),4)*100}%\")\n",
    "print(f\"Validation precision: \\\n",
    "      {round(precision_score(y_val, knn.predict(X_vale), average='weighted', zero_division=0),4)*100}%\")"
   ]
  },
  {
   "cell_type": "markdown",
   "metadata": {},
   "source": [
    "This is better, but if we bin our targets into a binary set, we may have better results.\n",
    "\n",
    "Since a well that is functioning but needs repair is still a well that requires maintenance, we will bin the `functional but needs repair` class into `non functional`. This will result in the former being regarded as requiring attention by the model."
   ]
  },
  {
   "cell_type": "code",
   "execution_count": 52,
   "metadata": {},
   "outputs": [
    {
     "name": "stdout",
     "output_type": "stream",
     "text": [
      "target        \n",
      "functional        32259\n",
      "non functional    27141\n",
      "dtype: int64\n"
     ]
    }
   ],
   "source": [
    "# Binning targets\n",
    "y_ = pd.DataFrame(y)\n",
    "\n",
    "y_.replace({'functional needs repair' : 'non functional'}, inplace=True)\n",
    "print(y_.value_counts())"
   ]
  },
  {
   "cell_type": "raw",
   "metadata": {},
   "source": [
    "# Kfold to determine n_neighbors for new set\n",
    "\n",
    "kf = KFold(n_splits=2)\n",
    "\n",
    "k_scores_train = {}\n",
    "k_scores_val = {}\n",
    "\n",
    "\n",
    "for k in range(15, 25):\n",
    "    knn = KNeighborsClassifier(n_neighbors=k)\n",
    "    precision_score_t = []\n",
    "    precision_score_v = []\n",
    "    for train_ind, val_ind in kf.split(X, y_):\n",
    "        \n",
    "        X_tb, y_tb = X.iloc[train_ind], y_.iloc[train_ind] \n",
    "        X_vb, y_vb = X.iloc[val_ind], y_.iloc[val_ind]\n",
    "        \n",
    "        X_t_ind = X_tb.index\n",
    "        X_v_ind = X_vb.index\n",
    "        \n",
    "        X_tb = pd.DataFrame(ohe.fit_transform(X_tb))\n",
    "        X_tb.index = X_t_ind\n",
    "        X_vb = pd.DataFrame(ohe.transform(X_vb))\n",
    "        X_vb.index = X_v_ind\n",
    "        \n",
    "        knn.fit(X_tb, y_tb)\n",
    "        \n",
    "        y_pred_tb = knn.predict(X_tb)\n",
    "        y_pred_vb = knn.predict(X_vb)\n",
    "        \n",
    "        precision_score_t.append(precision_score(y_tb, y_pred_tb, average='weighted'))\n",
    "        precision_score_v.append(precision_score(y_vb, y_pred_vb, average='weighted'))\n",
    "        \n",
    "        \n",
    "    k_scores_train[k] = np.mean(precision_score_t)\n",
    "    k_scores_val[k] = np.mean(precision_score_v)"
   ]
  },
  {
   "cell_type": "raw",
   "metadata": {},
   "source": [
    "# displaying k-fold results\n",
    "fig, ax = plt.subplots(figsize=(15, 15))\n",
    "\n",
    "ax.plot(list(k_scores_train.keys()), list(k_scores_train.values()),\n",
    "        color='red', linestyle='dashed', marker='o',  \n",
    "         markerfacecolor='blue', markersize=10, label='Train')\n",
    "ax.plot(list(k_scores_val.keys()), list(k_scores_val.values()),\n",
    "        color='green', linestyle='dashed', marker='o',  \n",
    "         markerfacecolor='blue', markersize=10, label='Val')\n",
    "ax.set_xlabel('Number of Nearest Neighbors')\n",
    "ax.set_ylabel('Precision')\n",
    "plt.legend();"
   ]
  },
  {
   "cell_type": "markdown",
   "metadata": {},
   "source": [
    "**Highest precision at n_neighbors = 20**\n",
    "\n",
    "We can run the model at a n_neighbors of 20."
   ]
  },
  {
   "cell_type": "code",
   "execution_count": 53,
   "metadata": {},
   "outputs": [],
   "source": [
    "# performing a new validation split with the binned targets\n",
    "X_t, X_val, y_t_, y_v_ = train_test_split(X, y_, test_size = 0.3, random_state = 42)\n",
    "\n",
    "X_te = ohe.fit_transform(X_t)\n",
    "X_vale = ohe.transform(X_val)"
   ]
  },
  {
   "cell_type": "code",
   "execution_count": 54,
   "metadata": {},
   "outputs": [
    {
     "name": "stdout",
     "output_type": "stream",
     "text": [
      "Training precision:       70.64%\n",
      "Validation precision:       69.24%\n"
     ]
    }
   ],
   "source": [
    "knn = KNeighborsClassifier(n_neighbors = 20)\n",
    "\n",
    "knn.fit(X_te, y_t_)\n",
    "\n",
    "print(f\"Training precision: \\\n",
    "      {round(precision_score(y_t_, knn.predict(X_te), average='weighted', zero_division=0),4)*100}%\")\n",
    "print(f\"Validation precision: \\\n",
    "      {round(precision_score(y_v_, knn.predict(X_vale), average='weighted', zero_division=0),4)*100}%\")"
   ]
  },
  {
   "cell_type": "code",
   "execution_count": 67,
   "metadata": {},
   "outputs": [
    {
     "data": {
      "text/html": [
       "<div>\n",
       "<style scoped>\n",
       "    .dataframe tbody tr th:only-of-type {\n",
       "        vertical-align: middle;\n",
       "    }\n",
       "\n",
       "    .dataframe tbody tr th {\n",
       "        vertical-align: top;\n",
       "    }\n",
       "\n",
       "    .dataframe thead th {\n",
       "        text-align: right;\n",
       "    }\n",
       "</style>\n",
       "<table border=\"1\" class=\"dataframe\">\n",
       "  <thead>\n",
       "    <tr style=\"text-align: right;\">\n",
       "      <th></th>\n",
       "      <th>target</th>\n",
       "    </tr>\n",
       "  </thead>\n",
       "  <tbody>\n",
       "    <tr>\n",
       "      <th>43069</th>\n",
       "      <td>non functional</td>\n",
       "    </tr>\n",
       "    <tr>\n",
       "      <th>58858</th>\n",
       "      <td>functional</td>\n",
       "    </tr>\n",
       "    <tr>\n",
       "      <th>41707</th>\n",
       "      <td>non functional</td>\n",
       "    </tr>\n",
       "    <tr>\n",
       "      <th>30674</th>\n",
       "      <td>functional</td>\n",
       "    </tr>\n",
       "    <tr>\n",
       "      <th>20944</th>\n",
       "      <td>functional</td>\n",
       "    </tr>\n",
       "    <tr>\n",
       "      <th>...</th>\n",
       "      <td>...</td>\n",
       "    </tr>\n",
       "    <tr>\n",
       "      <th>54343</th>\n",
       "      <td>functional</td>\n",
       "    </tr>\n",
       "    <tr>\n",
       "      <th>38158</th>\n",
       "      <td>functional</td>\n",
       "    </tr>\n",
       "    <tr>\n",
       "      <th>860</th>\n",
       "      <td>non functional</td>\n",
       "    </tr>\n",
       "    <tr>\n",
       "      <th>15795</th>\n",
       "      <td>functional</td>\n",
       "    </tr>\n",
       "    <tr>\n",
       "      <th>56422</th>\n",
       "      <td>non functional</td>\n",
       "    </tr>\n",
       "  </tbody>\n",
       "</table>\n",
       "<p>41580 rows × 1 columns</p>\n",
       "</div>"
      ],
      "text/plain": [
       "               target\n",
       "43069  non functional\n",
       "58858      functional\n",
       "41707  non functional\n",
       "30674      functional\n",
       "20944      functional\n",
       "...               ...\n",
       "54343      functional\n",
       "38158      functional\n",
       "860    non functional\n",
       "15795      functional\n",
       "56422  non functional\n",
       "\n",
       "[41580 rows x 1 columns]"
      ]
     },
     "execution_count": 67,
     "metadata": {},
     "output_type": "execute_result"
    }
   ],
   "source": [
    "y_t_"
   ]
  },
  {
   "cell_type": "markdown",
   "metadata": {},
   "source": [
    "### SMOTE work\n",
    "\n",
    "We can also go about fixing imbalance issues with `target` for the 'functioning needs maintenance' using SMOTE."
   ]
  },
  {
   "cell_type": "code",
   "execution_count": 55,
   "metadata": {},
   "outputs": [],
   "source": [
    "# import relevant libraries\n",
    "from imblearn.over_sampling import SMOTE"
   ]
  },
  {
   "cell_type": "code",
   "execution_count": 71,
   "metadata": {},
   "outputs": [],
   "source": [
    "# Encoding for SMOTE process\n",
    "X_e1 = ohe.fit_transform(X)\n",
    "X_e = pd.DataFrame(X_e1)\n",
    "X_e.columns = ohe.get_feature_names(X.columns)\n",
    "\n",
    "# Balancing train set\n",
    "sm = SMOTE(random_state = 42)\n",
    "X_res, y_res = sm.fit_resample(X_e, y)"
   ]
  },
  {
   "cell_type": "code",
   "execution_count": 72,
   "metadata": {},
   "outputs": [
    {
     "data": {
      "text/plain": [
       "0            functional\n",
       "1            functional\n",
       "2            functional\n",
       "3        non functional\n",
       "4            functional\n",
       "              ...      \n",
       "96772    non functional\n",
       "96773    non functional\n",
       "96774    non functional\n",
       "96775    non functional\n",
       "96776    non functional\n",
       "Name: target, Length: 96777, dtype: object"
      ]
     },
     "execution_count": 72,
     "metadata": {},
     "output_type": "execute_result"
    }
   ],
   "source": [
    "y_res"
   ]
  },
  {
   "cell_type": "code",
   "execution_count": 74,
   "metadata": {},
   "outputs": [],
   "source": [
    "# Export SMOTE dataframes to CSV for use on other machines without having to run through all the code again\n",
    "\n",
    "# Cast as dataframes\n",
    "X_res = pd.DataFrame(X_res)\n",
    "y_res = pd.DataFrame(y_res)\n",
    "\n",
    "X_res.to_csv(path_or_buf = \"./Data/X_SMOTE.csv\", header=True, index=False)\n",
    "y_res.to_csv(path_or_buf = \"./Data/Y_SMOTE.csv\", header=True, index=False)"
   ]
  },
  {
   "cell_type": "code",
   "execution_count": 75,
   "metadata": {},
   "outputs": [],
   "source": [
    "# Import SMOTE dataframes from CSV for use on other machines\n",
    "\n",
    "X_res = pd.read_csv('./Data/X_SMOTE.csv', index_col = False)\n",
    "y_res = pd.read_csv('./Data/Y_SMOTE.csv', index_col = False)"
   ]
  },
  {
   "cell_type": "code",
   "execution_count": 76,
   "metadata": {},
   "outputs": [
    {
     "data": {
      "text/html": [
       "<div>\n",
       "<style scoped>\n",
       "    .dataframe tbody tr th:only-of-type {\n",
       "        vertical-align: middle;\n",
       "    }\n",
       "\n",
       "    .dataframe tbody tr th {\n",
       "        vertical-align: top;\n",
       "    }\n",
       "\n",
       "    .dataframe thead th {\n",
       "        text-align: right;\n",
       "    }\n",
       "</style>\n",
       "<table border=\"1\" class=\"dataframe\">\n",
       "  <thead>\n",
       "    <tr style=\"text-align: right;\">\n",
       "      <th></th>\n",
       "      <th>target</th>\n",
       "    </tr>\n",
       "  </thead>\n",
       "  <tbody>\n",
       "    <tr>\n",
       "      <th>0</th>\n",
       "      <td>functional</td>\n",
       "    </tr>\n",
       "    <tr>\n",
       "      <th>1</th>\n",
       "      <td>functional</td>\n",
       "    </tr>\n",
       "    <tr>\n",
       "      <th>2</th>\n",
       "      <td>functional</td>\n",
       "    </tr>\n",
       "    <tr>\n",
       "      <th>3</th>\n",
       "      <td>non functional</td>\n",
       "    </tr>\n",
       "    <tr>\n",
       "      <th>4</th>\n",
       "      <td>functional</td>\n",
       "    </tr>\n",
       "    <tr>\n",
       "      <th>...</th>\n",
       "      <td>...</td>\n",
       "    </tr>\n",
       "    <tr>\n",
       "      <th>96772</th>\n",
       "      <td>non functional</td>\n",
       "    </tr>\n",
       "    <tr>\n",
       "      <th>96773</th>\n",
       "      <td>non functional</td>\n",
       "    </tr>\n",
       "    <tr>\n",
       "      <th>96774</th>\n",
       "      <td>non functional</td>\n",
       "    </tr>\n",
       "    <tr>\n",
       "      <th>96775</th>\n",
       "      <td>non functional</td>\n",
       "    </tr>\n",
       "    <tr>\n",
       "      <th>96776</th>\n",
       "      <td>non functional</td>\n",
       "    </tr>\n",
       "  </tbody>\n",
       "</table>\n",
       "<p>96777 rows × 1 columns</p>\n",
       "</div>"
      ],
      "text/plain": [
       "               target\n",
       "0          functional\n",
       "1          functional\n",
       "2          functional\n",
       "3      non functional\n",
       "4          functional\n",
       "...               ...\n",
       "96772  non functional\n",
       "96773  non functional\n",
       "96774  non functional\n",
       "96775  non functional\n",
       "96776  non functional\n",
       "\n",
       "[96777 rows x 1 columns]"
      ]
     },
     "execution_count": 76,
     "metadata": {},
     "output_type": "execute_result"
    }
   ],
   "source": [
    "y_res"
   ]
  },
  {
   "cell_type": "code",
   "execution_count": 77,
   "metadata": {},
   "outputs": [],
   "source": [
    "# Validation split\n",
    "X_res_train, X_res_test, y_res_train, y_res_test = train_test_split(X_res, y_res,\n",
    "                                                                   test_size = 0.3,\n",
    "                                                                   random_state = 42)"
   ]
  },
  {
   "cell_type": "code",
   "execution_count": 78,
   "metadata": {},
   "outputs": [
    {
     "data": {
      "text/html": [
       "<div>\n",
       "<style scoped>\n",
       "    .dataframe tbody tr th:only-of-type {\n",
       "        vertical-align: middle;\n",
       "    }\n",
       "\n",
       "    .dataframe tbody tr th {\n",
       "        vertical-align: top;\n",
       "    }\n",
       "\n",
       "    .dataframe thead th {\n",
       "        text-align: right;\n",
       "    }\n",
       "</style>\n",
       "<table border=\"1\" class=\"dataframe\">\n",
       "  <thead>\n",
       "    <tr style=\"text-align: right;\">\n",
       "      <th></th>\n",
       "      <th>target</th>\n",
       "    </tr>\n",
       "  </thead>\n",
       "  <tbody>\n",
       "    <tr>\n",
       "      <th>26018</th>\n",
       "      <td>functional</td>\n",
       "    </tr>\n",
       "    <tr>\n",
       "      <th>46466</th>\n",
       "      <td>non functional</td>\n",
       "    </tr>\n",
       "    <tr>\n",
       "      <th>62793</th>\n",
       "      <td>functional needs repair</td>\n",
       "    </tr>\n",
       "    <tr>\n",
       "      <th>65847</th>\n",
       "      <td>functional needs repair</td>\n",
       "    </tr>\n",
       "    <tr>\n",
       "      <th>12187</th>\n",
       "      <td>functional</td>\n",
       "    </tr>\n",
       "    <tr>\n",
       "      <th>...</th>\n",
       "      <td>...</td>\n",
       "    </tr>\n",
       "    <tr>\n",
       "      <th>6265</th>\n",
       "      <td>functional</td>\n",
       "    </tr>\n",
       "    <tr>\n",
       "      <th>54886</th>\n",
       "      <td>functional</td>\n",
       "    </tr>\n",
       "    <tr>\n",
       "      <th>76820</th>\n",
       "      <td>functional needs repair</td>\n",
       "    </tr>\n",
       "    <tr>\n",
       "      <th>860</th>\n",
       "      <td>non functional</td>\n",
       "    </tr>\n",
       "    <tr>\n",
       "      <th>15795</th>\n",
       "      <td>functional</td>\n",
       "    </tr>\n",
       "  </tbody>\n",
       "</table>\n",
       "<p>67743 rows × 1 columns</p>\n",
       "</div>"
      ],
      "text/plain": [
       "                        target\n",
       "26018               functional\n",
       "46466           non functional\n",
       "62793  functional needs repair\n",
       "65847  functional needs repair\n",
       "12187               functional\n",
       "...                        ...\n",
       "6265                functional\n",
       "54886               functional\n",
       "76820  functional needs repair\n",
       "860             non functional\n",
       "15795               functional\n",
       "\n",
       "[67743 rows x 1 columns]"
      ]
     },
     "execution_count": 78,
     "metadata": {},
     "output_type": "execute_result"
    }
   ],
   "source": [
    "y_res_train"
   ]
  },
  {
   "cell_type": "code",
   "execution_count": null,
   "metadata": {},
   "outputs": [],
   "source": [
    "# Perform default KNN\n",
    "knn = KNeighborsClassifier()\n",
    "\n",
    "knn.fit(X_res_train, y_res_train)\n",
    "print(f\"Training precision: \\\n",
    "      {round(precision_score(y_res_train, knn.predict(X_res_train), average='weighted', zero_division=0),4)*100}%\")\n",
    "print(f\"Test precision: \\\n",
    "      {round(precision_score(y_res_test, knn.predict(X_res_test), average='weighted', zero_division=0),4)*100}%\")"
   ]
  },
  {
   "cell_type": "markdown",
   "metadata": {},
   "source": [
    "We may be able to improve on this model by optimizing our hyperparameters."
   ]
  },
  {
   "cell_type": "raw",
   "metadata": {},
   "source": [
    "# Kfold to determine best n_neighbors\n",
    "\n",
    "kf = KFold(n_splits=2)\n",
    "\n",
    "k_scores_train = {}\n",
    "k_scores_val = {}\n",
    "\n",
    "\n",
    "for k in range(15, 25):\n",
    "    knn = KNeighborsClassifier(n_neighbors=k)\n",
    "    precision_score_t = []\n",
    "    precision_score_v = []\n",
    "    for train_ind, val_ind in kf.split(X_res, y_res):\n",
    "        \n",
    "        X_tb, y_tb = X_res.iloc[train_ind], y_res.iloc[train_ind] \n",
    "        X_vb, y_vb = X_res.iloc[val_ind], y_res.iloc[val_ind]\n",
    "        \n",
    "        X_t_ind = X_tb.index\n",
    "        X_v_ind = X_vb.index\n",
    "        \n",
    "        X_tb = pd.DataFrame(ohe.fit_transform(X_tb))\n",
    "        X_tb.index = X_t_ind\n",
    "        X_vb = pd.DataFrame(ohe.transform(X_vb))\n",
    "        X_vb.index = X_v_ind\n",
    "        \n",
    "        knn.fit(X_tb, y_tb)\n",
    "        \n",
    "        y_pred_tb = knn.predict(X_tb)\n",
    "        y_pred_vb = knn.predict(X_vb)\n",
    "        \n",
    "        precision_score_t.append(precision_score(y_tb, y_pred_tb, average='weighted', zero_division=0))\n",
    "        precision_score_v.append(precision_score(y_vb, y_pred_vb, average='weighted', zero_division=0))\n",
    "        \n",
    "        \n",
    "    k_scores_train[k] = np.mean(precision_score_t)\n",
    "    k_scores_val[k] = np.mean(precision_score_v)"
   ]
  },
  {
   "cell_type": "raw",
   "metadata": {},
   "source": [
    "# displaying k-fold results\n",
    "fig, ax = plt.subplots(figsize=(15, 15))\n",
    "\n",
    "ax.plot(list(k_scores_train.keys()), list(k_scores_train.values()),\n",
    "        color='red', linestyle='dashed', marker='o',  \n",
    "         markerfacecolor='blue', markersize=10, label='Train')\n",
    "ax.plot(list(k_scores_val.keys()), list(k_scores_val.values()),\n",
    "        color='green', linestyle='dashed', marker='o',  \n",
    "         markerfacecolor='blue', markersize=10, label='Val')\n",
    "ax.set_xlabel('Number of Nearest Neighbors')\n",
    "ax.set_ylabel('Precision')\n",
    "plt.legend();"
   ]
  },
  {
   "cell_type": "code",
   "execution_count": null,
   "metadata": {},
   "outputs": [],
   "source": []
  }
 ],
 "metadata": {
  "kernelspec": {
   "display_name": "Python (learn-env)",
   "language": "python",
   "name": "learn-env"
  },
  "language_info": {
   "codemirror_mode": {
    "name": "ipython",
    "version": 3
   },
   "file_extension": ".py",
   "mimetype": "text/x-python",
   "name": "python",
   "nbconvert_exporter": "python",
   "pygments_lexer": "ipython3",
   "version": "3.8.5"
  }
 },
 "nbformat": 4,
 "nbformat_minor": 5
}
